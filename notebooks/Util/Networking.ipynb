{
 "cells": [
  {
   "attachments": {},
   "cell_type": "markdown",
   "metadata": {},
   "source": [
    "### Quick local connection to Cosmos DB account to show network failure"
   ]
  },
  {
   "cell_type": "code",
   "execution_count": null,
   "metadata": {},
   "outputs": [],
   "source": [
    "%pip install azure-cosmos"
   ]
  },
  {
   "cell_type": "code",
   "execution_count": 8,
   "metadata": {},
   "outputs": [
    {
     "name": "stdout",
     "output_type": "stream",
     "text": [
      "Connecting to https://cosmicgbbcdb-sqlpe.documents.azure.com:443/\n"
     ]
    }
   ],
   "source": [
    "# Initialization and config\n",
    "from azure.cosmos import CosmosClient, PartitionKey\n",
    "from configparser import ConfigParser\n",
    "import os, json, uuid\n",
    "\n",
    "# Assuming structure Notebooks/Models\n",
    "parser = ConfigParser()\n",
    "parser.read('../NotebookConfig.cfg')\n",
    "\n",
    "cosmosAccountURI = parser.get('CosmosDB', 'COSMOSDB_SQLPE_ACCOUNT_URI')\n",
    "cosmosAccountKey = parser.get('CosmosDB', 'COSMOSDB_SQLPE_ACCOUNT_KEY')\n",
    "\n",
    "databaseName = 'Learn'\n",
    "containerName = 'Networking'\n",
    "partitionKeypath = '/PartitionKey'\n",
    "\n",
    "print('Connecting to ' + cosmosAccountURI)"
   ]
  },
  {
   "cell_type": "code",
   "execution_count": null,
   "metadata": {},
   "outputs": [],
   "source": [
    "client = CosmosClient(cosmosAccountURI, cosmosAccountKey)\n",
    "db = client.create_database_if_not_exists(databaseName)\n",
    "\n",
    "pkPath = PartitionKey(path=partitionKeypath)\n",
    "ctr = db.create_container_if_not_exists(id=containerName, partition_key=pkPath, offer_throughput=400)"
   ]
  },
  {
   "cell_type": "code",
   "execution_count": null,
   "metadata": {},
   "outputs": [],
   "source": [
    "## Without connectivity, error message is very misleading\n",
    "##\t\"name\": \"AttributeError\",\n",
    "##\t\"message\": \"'NoneType' object has no attribute 'ConsistencyPolicy'\","
   ]
  }
 ],
 "metadata": {
  "kernelspec": {
   "display_name": "Python 3",
   "language": "python",
   "name": "python3"
  },
  "language_info": {
   "codemirror_mode": {
    "name": "ipython",
    "version": 3
   },
   "file_extension": ".py",
   "mimetype": "text/x-python",
   "name": "python",
   "nbconvert_exporter": "python",
   "pygments_lexer": "ipython3",
   "version": "3.10.9 (tags/v3.10.9:1dd9be6, Dec  6 2022, 20:01:21) [MSC v.1934 64 bit (AMD64)]"
  },
  "orig_nbformat": 4,
  "vscode": {
   "interpreter": {
    "hash": "3f5c034d10c10f5a4ca2da93e6423dfeffe7b0b50e6b543a2b0cb9a54b246f48"
   }
  }
 },
 "nbformat": 4,
 "nbformat_minor": 2
}
