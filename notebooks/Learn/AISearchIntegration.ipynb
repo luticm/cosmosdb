{
 "cells": [
  {
   "cell_type": "code",
   "execution_count": null,
   "metadata": {},
   "outputs": [],
   "source": [
    "%pip install azure-cosmos\n",
    "%pip install faker"
   ]
  },
  {
   "cell_type": "code",
   "execution_count": 11,
   "metadata": {},
   "outputs": [
    {
     "name": "stdout",
     "output_type": "stream",
     "text": [
      "https://cosmicgbbcdb-sql.documents.azure.com:443/\n"
     ]
    }
   ],
   "source": [
    "from azure.cosmos import CosmosClient, PartitionKey\n",
    "from configparser import ConfigParser\n",
    "from faker import Faker\n",
    "from collections import OrderedDict\n",
    "\n",
    "import os\n",
    "import json\n",
    "import uuid\n",
    "import datetime\n",
    "\n",
    "\n",
    "parser = ConfigParser()\n",
    "parser.read('../NotebookConfig.cfg')\n",
    "\n",
    "cosmosAccountURI = parser.get('CosmosDB', 'COSMOSDB_ACCOUNT_URI')\n",
    "cosmosAccountKey = parser.get('CosmosDB', 'COSMOSDB_ACCOUNT_KEY')\n",
    "\n",
    "databaseName = 'Learn'\n",
    "containerName = 'AISearch'\n",
    "partitionKeypath = '/PartitionKey'\n",
    "\n",
    "Faker.seed(0)\n",
    "fake = Faker(['en-US'])\n",
    "\n",
    "print(cosmosAccountURI)"
   ]
  },
  {
   "cell_type": "code",
   "execution_count": 17,
   "metadata": {},
   "outputs": [],
   "source": [
    "client = CosmosClient(cosmosAccountURI, cosmosAccountKey)\n",
    "db = client.create_database_if_not_exists(databaseName)\n",
    "\n",
    "pkPath = PartitionKey(path=partitionKeypath)\n",
    "ctr = db.create_container_if_not_exists(id=containerName, partition_key=pkPath, offer_throughput=400, default_ttl=-1) \n",
    "\n",
    "# Default TTL is set to -1, which means the documents will never expire unless you set a value in seconds"
   ]
  },
  {
   "cell_type": "code",
   "execution_count": 18,
   "metadata": {},
   "outputs": [
    {
     "name": "stdout",
     "output_type": "stream",
     "text": [
      "Completed writing 100 documents to CosmosDB\n"
     ]
    }
   ],
   "source": [
    "maxrange = 100\n",
    "\n",
    "for j in range(maxrange):\n",
    "    docId = str(uuid.uuid4())\n",
    "\n",
    "    doc = {\n",
    "        'id': docId\n",
    "        , 'PartitionKey': docId\n",
    "        , 'Status': 'Active'\n",
    "        , 'Name': fake.name()\n",
    "        , 'Title': fake.sentence(nb_words=6, variable_nb_words=True, ext_word_list=None)\n",
    "        , 'Description': fake.sentence(nb_words=100, variable_nb_words=True, ext_word_list=None)\n",
    "        , 'Class': fake.random_element(elements=OrderedDict([(\"A\", 0.40), (\"B\", 0.35), (\"C\", 0.15), (\"D\", 0.05), (\"E\", 0.05)]))\n",
    "        , 'UpdateTS': datetime.datetime.now().timestamp()\n",
    "    }\n",
    "    \n",
    "    ctr.create_item(doc)\n",
    "\n",
    "print('Completed writing ' + str(maxrange) + ' documents to CosmosDB')"
   ]
  },
  {
   "cell_type": "code",
   "execution_count": 22,
   "metadata": {},
   "outputs": [
    {
     "name": "stdout",
     "output_type": "stream",
     "text": [
      "{'id': '6be37da0-5b68-4ae5-b873-71e860abd252', 'PartitionKey': '6be37da0-5b68-4ae5-b873-71e860abd252', 'Status': 'Deleted', 'Name': 'George Berg', 'Title': 'Well health table this skin reflect.', 'Description': 'Much more federal suffer rich seem plant prepare evidence certain for everybody society among less someone whatever goal nation somebody sometimes skin relationship moment air director base piece mother administration from health claim moment seat treatment star large two leader foot your art return college country peace chair gas participant successful and western in book buy information life near force group all lead hard poor maybe structure public include return bed style board reflect wear similar Congress economic option feel fill about article lead air carry writer hard indeed example part area fire fight choice factor close national generation young seat dinner majority last rich education I note really available public begin wear surface cup indeed certainly everyone report second rock save trial two school structure human southern huge.', 'Class': 'B', 'UpdateTS': 1714494110.16629, '_rid': '-yBHAOb0ticBAAAAAAAAAA==', '_self': 'dbs/-yBHAA==/colls/-yBHAOb0tic=/docs/-yBHAOb0ticBAAAAAAAAAA==/', '_etag': '\"00006000-0000-0500-0000-66311a9e0000\"', '_attachments': 'attachments/', '_ts': 1714494110, 'ttl': 900}\n",
      "{'id': '594d259c-832c-4470-bfa0-bc02aa6f5bd3', 'PartitionKey': '594d259c-832c-4470-bfa0-bc02aa6f5bd3', 'Status': 'Deleted', 'Name': 'Traci Gonzalez', 'Title': 'Let decision itself allow.', 'Description': 'Mr media Democrat level well than court place history drop series middle thank two investment partner kid network truth property half deal bad people win either bit apply modern go rest inside mind especially against measure action because door teacher hold school leg college ground center commercial represent general site how key camera thing lead from control their young although end too but out still many why pattern we notice course exist result newspaper home anyone this prepare political though side than tonight dog beautiful study generation floor owner nearly learn until area news floor lot task left professional attorney study store whom response character nature carry.', 'Class': 'B', 'UpdateTS': 1714494110.283312, '_rid': '-yBHAOb0ticCAAAAAAAAAA==', '_self': 'dbs/-yBHAA==/colls/-yBHAOb0tic=/docs/-yBHAOb0ticCAAAAAAAAAA==/', '_etag': '\"00006100-0000-0500-0000-66311a9e0000\"', '_attachments': 'attachments/', '_ts': 1714494110, 'ttl': 900}\n",
      "{'id': 'f2f05548-9df6-434e-b3c5-702865afd447', 'PartitionKey': 'f2f05548-9df6-434e-b3c5-702865afd447', 'Status': 'Deleted', 'Name': 'Dustin Price', 'Title': 'First seven language must since whole staff.', 'Description': 'Indicate step imagine catch parent seem against popular central sport quite western serious method contain direction set you question follow yet meeting outside cover happy office myself himself about answer front which thing they it improve clearly though important pass pull letter direction range service suggest federal day body customer significant interest thought say detail my with memory what admit may instead late put method job small much public across expert firm science series though early tend effort college police direction thing suffer fact within matter language anything have answer would daughter service subject ahead federal receive easy outside question practice church act main too cause father vote writer behind wide American owner while forget eight look.', 'Class': 'A', 'UpdateTS': 1714494110.313249, '_rid': '-yBHAOb0ticDAAAAAAAAAA==', '_self': 'dbs/-yBHAA==/colls/-yBHAOb0tic=/docs/-yBHAOb0ticDAAAAAAAAAA==/', '_etag': '\"00006200-0000-0500-0000-66311a9e0000\"', '_attachments': 'attachments/', '_ts': 1714494110, 'ttl': 900}\n",
      "{'id': '7125a057-1ac6-4c13-83d1-47e68a3455fe', 'PartitionKey': '7125a057-1ac6-4c13-83d1-47e68a3455fe', 'Status': 'Deleted', 'Name': 'Michael Decker', 'Title': 'Avoid goal view few.', 'Description': 'Feeling grow his appear clearly heart expect area four it together police walk close sister drug yeah unit a improve similar full drug research system whatever nothing up wind they tell choose new recognize place tend admit film benefit attention myself onto class yet paper official our a law both claim always dinner movie media clear yourself maintain ball really these out wonder list bit positive there woman tell music.', 'Class': 'B', 'UpdateTS': 1714494110.36821, '_rid': '-yBHAOb0ticEAAAAAAAAAA==', '_self': 'dbs/-yBHAA==/colls/-yBHAOb0tic=/docs/-yBHAOb0ticEAAAAAAAAAA==/', '_etag': '\"00006300-0000-0500-0000-66311a9e0000\"', '_attachments': 'attachments/', '_ts': 1714494110, 'ttl': 900}\n",
      "{'id': '1a21940e-68f6-4ebe-b39e-2b1405c144cc', 'PartitionKey': '1a21940e-68f6-4ebe-b39e-2b1405c144cc', 'Status': 'Deleted', 'Name': 'Tara Fox', 'Title': 'Shake moment north himself build town.', 'Description': 'Good drug know million region pay almost possible coach site in reality as dinner protect represent consider quality American wrong president evening network hair create student safe land decide both good cut college share great whole such finally fact situation that practice officer police positive that past institution law area inside huge could almost realize whom picture example once several statement knowledge field question now reduce myself street scientist window program case leader raise early find.', 'Class': 'C', 'UpdateTS': 1714494110.399768, '_rid': '-yBHAOb0ticFAAAAAAAAAA==', '_self': 'dbs/-yBHAA==/colls/-yBHAOb0tic=/docs/-yBHAOb0ticFAAAAAAAAAA==/', '_etag': '\"00006400-0000-0500-0000-66311a9e0000\"', '_attachments': 'attachments/', '_ts': 1714494110, 'ttl': 900}\n"
     ]
    }
   ],
   "source": [
    "queryResult = ctr.query_items( query='SELECT TOP 5 * FROM c ORDER BY c._ts ASC', enable_cross_partition_query=True, max_item_count=5)\n",
    "for doc in queryResult: \n",
    "    doc['Status'] = 'Deleted'\n",
    "    doc['UpdateTS']: datetime.datetime.now().timestamp()\n",
    "    doc['ttl'] = 900 # 15 minutes for test, will add a lot more for production to ensure indexer can catchup and update index before TTL expiration\n",
    "\n",
    "    ctr.upsert_item(doc)\n",
    "    print(doc)    "
   ]
  },
  {
   "cell_type": "markdown",
   "metadata": {},
   "source": [
    "### Clean up code"
   ]
  },
  {
   "cell_type": "code",
   "execution_count": 16,
   "metadata": {},
   "outputs": [],
   "source": [
    "# Assume objects are instantiated\n",
    "db.delete_container(containerName)"
   ]
  }
 ],
 "metadata": {
  "kernelspec": {
   "display_name": "Python 3",
   "language": "python",
   "name": "python3"
  },
  "language_info": {
   "codemirror_mode": {
    "name": "ipython",
    "version": 3
   },
   "file_extension": ".py",
   "mimetype": "text/x-python",
   "name": "python",
   "nbconvert_exporter": "python",
   "pygments_lexer": "ipython3",
   "version": "3.12.3"
  }
 },
 "nbformat": 4,
 "nbformat_minor": 2
}
