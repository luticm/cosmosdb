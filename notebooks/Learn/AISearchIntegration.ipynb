{
 "cells": [
  {
   "cell_type": "code",
   "execution_count": null,
   "metadata": {},
   "outputs": [],
   "source": [
    "%pip install azure-cosmos\n",
    "%pip install faker"
   ]
  },
  {
   "cell_type": "code",
   "execution_count": 4,
   "metadata": {},
   "outputs": [
    {
     "name": "stdout",
     "output_type": "stream",
     "text": [
      "https://cosmicgbbcdb-sql.documents.azure.com:443/\n"
     ]
    }
   ],
   "source": [
    "from azure.cosmos import CosmosClient, PartitionKey\n",
    "from configparser import ConfigParser\n",
    "from faker import Faker\n",
    "from collections import OrderedDict\n",
    "\n",
    "import os\n",
    "import json\n",
    "import uuid\n",
    "import datetime\n",
    "\n",
    "\n",
    "parser = ConfigParser()\n",
    "parser.read('../NotebookConfig.cfg')\n",
    "\n",
    "cosmosAccountURI = parser.get('CosmosDB', 'COSMOSDB_ACCOUNT_URI')\n",
    "cosmosAccountKey = parser.get('CosmosDB', 'COSMOSDB_ACCOUNT_KEY')\n",
    "\n",
    "databaseName = 'Learn'\n",
    "containerName = 'AISearch'\n",
    "partitionKeypath = '/PartitionKey'\n",
    "\n",
    "Faker.seed(0)\n",
    "fake = Faker(['en-US'])\n",
    "\n",
    "print(cosmosAccountURI)"
   ]
  },
  {
   "cell_type": "code",
   "execution_count": 9,
   "metadata": {},
   "outputs": [],
   "source": [
    "client = CosmosClient(cosmosAccountURI, cosmosAccountKey)\n",
    "db = client.create_database_if_not_exists(databaseName)\n",
    "\n",
    "pkPath = PartitionKey(path=partitionKeypath)\n",
    "ctr = db.create_container_if_not_exists(id=containerName, partition_key=pkPath, offer_throughput=400, default_ttl=-1) \n",
    "\n",
    "# Default TTL is set to -1, which means the documents will never expire unless you set a value in seconds"
   ]
  },
  {
   "cell_type": "code",
   "execution_count": 10,
   "metadata": {},
   "outputs": [
    {
     "ename": "TypeError",
     "evalue": "can only concatenate str (not \"int\") to str",
     "output_type": "error",
     "traceback": [
      "\u001b[1;31m---------------------------------------------------------------------------\u001b[0m",
      "\u001b[1;31mTypeError\u001b[0m                                 Traceback (most recent call last)",
      "Cell \u001b[1;32mIn[10], line 27\u001b[0m\n\u001b[0;32m     16\u001b[0m     doc \u001b[38;5;241m=\u001b[39m {\n\u001b[0;32m     17\u001b[0m         \u001b[38;5;124m'\u001b[39m\u001b[38;5;124mid\u001b[39m\u001b[38;5;124m'\u001b[39m: \u001b[38;5;28mstr\u001b[39m(uuid\u001b[38;5;241m.\u001b[39muuid4())\n\u001b[0;32m     18\u001b[0m         , \u001b[38;5;124m'\u001b[39m\u001b[38;5;124mName\u001b[39m\u001b[38;5;124m'\u001b[39m: fake\u001b[38;5;241m.\u001b[39mname()\n\u001b[1;32m   (...)\u001b[0m\n\u001b[0;32m     22\u001b[0m         , \u001b[38;5;124m'\u001b[39m\u001b[38;5;124mUpdateTS\u001b[39m\u001b[38;5;124m'\u001b[39m: datetime\u001b[38;5;241m.\u001b[39mdatetime\u001b[38;5;241m.\u001b[39mnow()\u001b[38;5;241m.\u001b[39mtimestamp()\n\u001b[0;32m     23\u001b[0m     }\n\u001b[0;32m     25\u001b[0m     ctr\u001b[38;5;241m.\u001b[39mcreate_item(doc)\n\u001b[1;32m---> 27\u001b[0m \u001b[38;5;28mprint\u001b[39m(\u001b[38;5;124;43m'\u001b[39;49m\u001b[38;5;124;43mCompleted writing \u001b[39;49m\u001b[38;5;124;43m'\u001b[39;49m\u001b[43m \u001b[49m\u001b[38;5;241;43m+\u001b[39;49m\u001b[43m \u001b[49m\u001b[43mmaxrange\u001b[49m \u001b[38;5;241m+\u001b[39m \u001b[38;5;124m'\u001b[39m\u001b[38;5;124m documents to CosmosDB\u001b[39m\u001b[38;5;124m'\u001b[39m)\n",
      "\u001b[1;31mTypeError\u001b[0m: can only concatenate str (not \"int\") to str"
     ]
    }
   ],
   "source": [
    "maxrange = 100\n",
    "\n",
    "for j in range(maxrange):\n",
    "    # readings = []\n",
    "\n",
    "    # *** Produce N readings\n",
    "    # Execute this repeatedly by changing range from 1, 100, 1000 and 10000\n",
    "    # for r in range(1):\n",
    "    #     readings.append(\n",
    "    #         {\n",
    "    #             'Dimension': fake.random_element(elements=('D1', 'D2', 'D3', 'D4', 'D5', 'D6', 'D7', 'D8', 'D9'))\n",
    "    #             , 'Value': fake.random_number(digits=5)\n",
    "    #             , 'Timestamp': fake.date_time_this_year().isoformat()\n",
    "    #         })\n",
    "\n",
    "    docId = str(uuid.uuid4())\n",
    "\n",
    "    doc = {\n",
    "        'id': docId\n",
    "        , 'PartitionKey': docId\n",
    "        , 'Name': fake.name()\n",
    "        , 'Title': fake.sentence(nb_words=6, variable_nb_words=True, ext_word_list=None)\n",
    "        , 'Description': fake.sentence(nb_words=100, variable_nb_words=True, ext_word_list=None)\n",
    "        , 'Class': fake.random_element(elements=OrderedDict([(\"A\", 0.40), (\"B\", 0.35), (\"C\", 0.15), (\"D\", 0.05), (\"E\", 0.05)]))\n",
    "        , 'UpdateTS': datetime.datetime.now().timestamp()\n",
    "        \n",
    "    }\n",
    "    \n",
    "    ctr.create_item(doc)\n",
    "\n",
    "print('Completed writing ' + str(maxrange) + ' documents to CosmosDB')"
   ]
  },
  {
   "cell_type": "markdown",
   "metadata": {},
   "source": [
    "Clean up code"
   ]
  },
  {
   "cell_type": "code",
   "execution_count": null,
   "metadata": {},
   "outputs": [],
   "source": [
    "# Assume objects are instantiated\n",
    "db.delete_container(containerName)\n",
    "\n",
    "# import glob\n",
    "\n",
    "# files = glob.glob('.\\OutputFiles\\*')\n",
    "# for f in files:\n",
    "#     os.remove(f)"
   ]
  }
 ],
 "metadata": {
  "kernelspec": {
   "display_name": "Python 3",
   "language": "python",
   "name": "python3"
  },
  "language_info": {
   "codemirror_mode": {
    "name": "ipython",
    "version": 3
   },
   "file_extension": ".py",
   "mimetype": "text/x-python",
   "name": "python",
   "nbconvert_exporter": "python",
   "pygments_lexer": "ipython3",
   "version": "3.12.3"
  }
 },
 "nbformat": 4,
 "nbformat_minor": 2
}
