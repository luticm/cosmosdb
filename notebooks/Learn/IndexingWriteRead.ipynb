{
 "cells": [
  {
   "attachments": {},
   "cell_type": "markdown",
   "metadata": {},
   "source": [
    "## Demonstrate RU usage with and without index optimization"
   ]
  },
  {
   "attachments": {},
   "cell_type": "markdown",
   "metadata": {},
   "source": [
    "### Prepare key references for notebook\n",
    "Expected CosmosDBAccounts.cfg with format:<br/>\n",
    "[CosmosDB]<br/>\n",
    "COSMOSDB_ACCOUNT_URI: https://CosmosDBAccount.documents.azure.com:443/<br/>\n",
    "COSMOSDB_ACCOUNT_KEY: CosmosDBKey<br/>"
   ]
  },
  {
   "cell_type": "code",
   "execution_count": 2,
   "metadata": {},
   "outputs": [
    {
     "name": "stdout",
     "output_type": "stream",
     "text": [
      "https://cosmicgbbcdb-sql.documents.azure.com:443/\n"
     ]
    }
   ],
   "source": [
    "from azure.cosmos import CosmosClient, PartitionKey\n",
    "from configparser import ConfigParser\n",
    "from faker import Faker\n",
    "\n",
    "import os\n",
    "import json\n",
    "import uuid\n",
    "\n",
    "parser = ConfigParser()\n",
    "parser.read('../NotebookConfig.cfg')\n",
    "\n",
    "cosmosAccountURI = parser.get('CosmosDB', 'COSMOSDB_ACCOUNT_URI')\n",
    "cosmosAccountKey = parser.get('CosmosDB', 'COSMOSDB_ACCOUNT_KEY')\n",
    "\n",
    "databaseName = 'Learn'\n",
    "containerName = 'Index'\n",
    "partitionKeypath = '/PartitionKey'\n",
    "\n",
    "Faker.seed(0)\n",
    "fake = Faker(['en-US'])\n",
    "\n",
    "print(cosmosAccountURI)"
   ]
  },
  {
   "cell_type": "code",
   "execution_count": 3,
   "metadata": {},
   "outputs": [],
   "source": [
    "# Database shared throughput\n",
    "client = CosmosClient(cosmosAccountURI, cosmosAccountKey)\n",
    "db = client.create_database_if_not_exists(databaseName, offer_throughput=4000)\n",
    "\n",
    "pkPath = PartitionKey(path=partitionKeypath)\n",
    "ctr = db.create_container_if_not_exists(id=containerName, partition_key=pkPath) "
   ]
  },
  {
   "attachments": {},
   "cell_type": "markdown",
   "metadata": {},
   "source": [
    "### Repeatable References\n",
    "Contains documents that should be used as a reference data set across cell/operations. </br>\n",
    "For example: Patient, IOT devices, tax payer information, ..."
   ]
  },
  {
   "cell_type": "code",
   "execution_count": 5,
   "metadata": {},
   "outputs": [],
   "source": [
    "from collections import OrderedDict\n",
    "maxRange = 10000\n",
    "IOTSources = []\n",
    "\n",
    "os.makedirs(os.path.dirname('./OutputFiles/'), exist_ok=True)\n",
    "with open('./OutputFiles/' + containerName + '_referenceData.json', 'w') as jsonFile:\n",
    "    for i in range(maxRange):\n",
    "        entity = {            \n",
    "            'Name': fake.bothify('????_############')\n",
    "            , 'Type': fake.random_element(elements=('Type1', 'Type2', 'Type3', 'Type4', 'Type5', 'Type6'))\n",
    "        }\n",
    "        IOTSources.append(entity)\n",
    "\n",
    "        # Save patients for reference\n",
    "        json.dump(entity, jsonFile)\n",
    "        if (i < maxRange):\n",
    "            jsonFile.write(',\\n')"
   ]
  },
  {
   "cell_type": "code",
   "execution_count": 6,
   "metadata": {},
   "outputs": [
    {
     "name": "stdout",
     "output_type": "stream",
     "text": [
      "RU charge: 876.57\n"
     ]
    }
   ],
   "source": [
    "## Write a single document\n",
    "from datetime import datetime, timedelta\n",
    "\n",
    "RUCharges = []\n",
    "daysRange = 1\n",
    "iotRange = 1\n",
    "\n",
    "dtBase = datetime(year=2023, month=1, day=1)\n",
    "\n",
    "for iot in range(iotRange):\n",
    "    IOTSrc = IOTSources[fake.random_int(min=0, max=9999)]\n",
    "\n",
    "    for day in range(daysRange):\n",
    "        docs = []        \n",
    "        readings = []\n",
    "\n",
    "        # *** Produce 1440 readings - 1 for each minute\n",
    "        for m in range(1440):\n",
    "            readings.append(\n",
    "                {\n",
    "                    'Dimension': fake.random_element(elements=('D1', 'D2', 'D3', 'D4', 'D5', 'D6', 'D7', 'D8', 'D9'))\n",
    "                    , 'Metric': fake.random_number(digits=5)\n",
    "                    , 'Timestamp': (dtBase + timedelta(days=day,minutes=m)).isoformat()  # fake.date_time_this_year().isoformat()\n",
    "                })\n",
    "\n",
    "        doc = {\n",
    "            'id': str(uuid.uuid4())\n",
    "            , 'PartitionKey': IOTSrc['Name'] + '_' + IOTSrc['Type'] + '_' + (dtBase + timedelta(days=day)).strftime('%Y_%m_%d')\n",
    "            , 'Name': IOTSrc['Name']\n",
    "            , 'Type': IOTSrc['Type']\n",
    "            , 'JobId': 100\n",
    "            , 'Entity': IOTSrc\n",
    "            , 'DateTime': (dtBase + timedelta(days=day)).isoformat()\n",
    "            , 'Timestamp': (dtBase + timedelta(days=day)).timestamp()\n",
    "            , 'Readings': readings\n",
    "            , 'class': fake.random_element(elements=OrderedDict([(\"A\", 0.40), (\"B\", 0.35), (\"C\", 0.15), (\"D\", 0.05), (\"E\", 0.05)]))\n",
    "        }\n",
    "\n",
    "        ctr.create_item(doc)\n",
    "        RUCharges.append(float(ctr.client_connection.last_response_headers['x-ms-request-charge']))\n",
    "        print('RU charge: ' + ctr.client_connection.last_response_headers['x-ms-request-charge'])\n",
    "\n",
    "        # Store docs and reset readings\n",
    "        docs.append(doc)\n",
    "\n",
    "        with open('./OutputFiles/' + containerName + '_' + IOTSrc['Name'] + '_' + IOTSrc['Type'] + '_' + (dtBase + timedelta(days=day)).strftime('%Y_%m_%d') + '_docs.json', 'w') as jf:\n",
    "            for d in docs:\n",
    "                json.dump(d, jf)\n",
    "                #jf.write('\\n')"
   ]
  },
  {
   "attachments": {},
   "cell_type": "markdown",
   "metadata": {},
   "source": [
    "### Adjust index policy\n",
    "The readings being stored in the container should not require indexing, as most of the operations should fetch documents based on Device and then compute the values. Therefore application will not benefit from default indexing. <br/>\n",
    "Execute cell below to adjust indexPolicy and then re-execute cell to load data (adjusting number of readings)"
   ]
  },
  {
   "cell_type": "code",
   "execution_count": 26,
   "metadata": {},
   "outputs": [
    {
     "data": {
      "text/plain": [
       "<ContainerProxy [dbs/Learn/colls/Index]>"
      ]
     },
     "execution_count": 26,
     "metadata": {},
     "output_type": "execute_result"
    }
   ],
   "source": [
    "# containerPath = 'dbs/'+ databaseName +'/colls/' + containerName\n",
    "# container = db.get_container_client(container=containerName)\n",
    "\n",
    "indexPolicy = {\n",
    "    \"indexingMode\":\"consistent\",\n",
    "    \"includedPaths\":[\n",
    "        {\"path\":\"/PartitionKey/?\"}\n",
    "        , {\"path\":\"/Entity/*\"}\n",
    "        , {\"path\":\"/Class/?\"}\n",
    "        ]\n",
    "    , \"excludedPaths\":[{\"path\":\"/*\"}]\n",
    "}\n",
    "\n",
    "db.replace_container(containerName, pkPath, indexing_policy=indexPolicy)"
   ]
  },
  {
   "cell_type": "code",
   "execution_count": 8,
   "metadata": {},
   "outputs": [
    {
     "name": "stdout",
     "output_type": "stream",
     "text": [
      "RU charge: 50.48\n"
     ]
    }
   ],
   "source": [
    "## Write a single document\n",
    "from datetime import datetime, timedelta\n",
    "\n",
    "RUCharges = []\n",
    "daysRange = 1\n",
    "iotRange = 1\n",
    "\n",
    "dtBase = datetime(year=2023, month=1, day=1)\n",
    "\n",
    "for iot in range(iotRange):\n",
    "    IOTSrc = IOTSources[fake.random_int(min=0, max=9999)]\n",
    "\n",
    "    for day in range(daysRange):\n",
    "        docs = []        \n",
    "        readings = []\n",
    "\n",
    "        # *** Produce 1440 readings - 1 for each minute\n",
    "        for m in range(1440):\n",
    "            readings.append(\n",
    "                {\n",
    "                    'Dimension': fake.random_element(elements=('D1', 'D2', 'D3', 'D4', 'D5', 'D6', 'D7', 'D8', 'D9'))\n",
    "                    , 'Metric': fake.random_number(digits=5)\n",
    "                    , 'Timestamp': (dtBase + timedelta(days=day,minutes=m)).isoformat()  # fake.date_time_this_year().isoformat()\n",
    "                })\n",
    "\n",
    "        doc = {\n",
    "            'id': str(uuid.uuid4())\n",
    "            , 'PartitionKey': IOTSrc['Name'] + '_' + IOTSrc['Type'] + '_' + (dtBase + timedelta(days=day)).strftime('%Y_%m_%d')\n",
    "            , 'Name': IOTSrc['Name']\n",
    "            , 'Type': IOTSrc['Type']\n",
    "            , 'JobId': 100\n",
    "            , 'Entity': IOTSrc\n",
    "            , 'DateTime': (dtBase + timedelta(days=day)).isoformat()\n",
    "            , 'Timestamp': (dtBase + timedelta(days=day)).timestamp()\n",
    "            , 'Readings': readings\n",
    "            , 'class': fake.random_element(elements=OrderedDict([(\"A\", 0.40), (\"B\", 0.35), (\"C\", 0.15), (\"D\", 0.05), (\"E\", 0.05)]))\n",
    "        }\n",
    "\n",
    "        ctr.create_item(doc)\n",
    "        RUCharges.append(float(ctr.client_connection.last_response_headers['x-ms-request-charge']))\n",
    "        print('RU charge: ' + ctr.client_connection.last_response_headers['x-ms-request-charge'])\n",
    "\n",
    "        # Store docs and reset readings\n",
    "        docs.append(doc)\n",
    "\n",
    "        with open('./OutputFiles/' + containerName + '_' + IOTSrc['Name'] + '_' + IOTSrc['Type'] + '_' + (dtBase + timedelta(days=day)).strftime('%Y_%m_%d') + '_docs.json', 'w') as jf:\n",
    "            for d in docs:\n",
    "                json.dump(d, jf)\n",
    "                #jf.write('\\n')"
   ]
  },
  {
   "attachments": {},
   "cell_type": "markdown",
   "metadata": {},
   "source": [
    "### Write comparison: </br>\n",
    "With default indexing: 876.57 RU</br>\n",
    "With optimized index: 50.48 RU</br>"
   ]
  },
  {
   "cell_type": "code",
   "execution_count": 9,
   "metadata": {},
   "outputs": [],
   "source": [
    "from datetime import datetime, timedelta\n",
    "\n",
    "RUCharges = []\n",
    "daysRange = 30\n",
    "iotRange = 100\n",
    "\n",
    "dtBase = datetime(year=2023, month=1, day=1)\n",
    "\n",
    "for iot in range(iotRange):\n",
    "    IOTSrc = IOTSources[fake.random_int(min=0, max=9999)]\n",
    "\n",
    "    for day in range(daysRange):\n",
    "        docs = []        \n",
    "        readings = []\n",
    "\n",
    "        # *** Produce 1440 readings - 1 for each minute\n",
    "        for m in range(1440):\n",
    "            readings.append(\n",
    "                {\n",
    "                    'Dimension': fake.random_element(elements=('D1', 'D2', 'D3', 'D4', 'D5', 'D6', 'D7', 'D8', 'D9'))\n",
    "                    , 'Metric': fake.random_number(digits=5)\n",
    "                    , 'Timestamp': (dtBase + timedelta(days=day,minutes=m)).isoformat()  # fake.date_time_this_year().isoformat()\n",
    "                })\n",
    "\n",
    "        doc = {\n",
    "            'id': str(uuid.uuid4())\n",
    "            , 'PartitionKey': IOTSrc['Name'] + '_' + IOTSrc['Type'] + '_' + (dtBase + timedelta(days=day)).strftime('%Y_%m_%d')\n",
    "            , 'Name': IOTSrc['Name']\n",
    "            , 'Type': IOTSrc['Type']\n",
    "            , 'JobId': 100\n",
    "            , 'Entity': IOTSrc\n",
    "            , 'DateTime': (dtBase + timedelta(days=day)).isoformat()\n",
    "            , 'Timestamp': (dtBase + timedelta(days=day)).timestamp()\n",
    "            , 'Readings': readings\n",
    "            , 'class': fake.random_element(elements=OrderedDict([(\"A\", 0.40), (\"B\", 0.35), (\"C\", 0.15), (\"D\", 0.05), (\"E\", 0.05)]))\n",
    "        }\n",
    "\n",
    "        ctr.create_item(doc)\n",
    "        RUCharges.append(float(ctr.client_connection.last_response_headers['x-ms-request-charge']))\n",
    "        # print('RU charge: ' + ctr.client_connection.last_response_headers['x-ms-request-charge'])\n",
    "\n",
    "        # Store docs and reset readings\n",
    "        docs.append(doc)\n",
    "\n",
    "        # with open('./OutputFiles/' + containerName + '_' + IOTSrc['Name'] + '_' + IOTSrc['Type'] + '_' + (dtBase + timedelta(days=day)).strftime('%Y_%m_%d') + '_docs.json', 'w') as jf:\n",
    "        #     for d in docs:\n",
    "        #         json.dump(d, jf)"
   ]
  },
  {
   "cell_type": "code",
   "execution_count": 25,
   "metadata": {},
   "outputs": [
    {
     "data": {
      "text/plain": [
       "<ContainerProxy [dbs/Learn/colls/Index]>"
      ]
     },
     "execution_count": 25,
     "metadata": {},
     "output_type": "execute_result"
    }
   ],
   "source": [
    "# Reverting to default indexing\n",
    "indexPolicy = {\n",
    "    \"indexingMode\":\"consistent\",\n",
    "    \"includedPaths\":[\n",
    "        {\"path\":\"/*\"}\n",
    "        ]\n",
    "    , \"excludedPaths\":[{\"path\":\"/\\\"_etag\\\"/?\"}]\n",
    "}\n",
    "\n",
    "db.replace_container(containerName, pkPath, indexing_policy=indexPolicy)"
   ]
  }
 ],
 "metadata": {
  "kernelspec": {
   "display_name": "Python 3",
   "language": "python",
   "name": "python3"
  },
  "language_info": {
   "codemirror_mode": {
    "name": "ipython",
    "version": 3
   },
   "file_extension": ".py",
   "mimetype": "text/x-python",
   "name": "python",
   "nbconvert_exporter": "python",
   "pygments_lexer": "ipython3",
   "version": "3.10.10"
  },
  "orig_nbformat": 4
 },
 "nbformat": 4,
 "nbformat_minor": 2
}
