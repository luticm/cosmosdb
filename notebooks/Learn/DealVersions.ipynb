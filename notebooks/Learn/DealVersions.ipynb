{
 "cells": [
  {
   "attachments": {},
   "cell_type": "markdown",
   "metadata": {},
   "source": [
    "### Cosmos DB example to manage multiple versions of the same document\n",
    "Example: Closing deals to buy a new car"
   ]
  },
  {
   "attachments": {},
   "cell_type": "markdown",
   "metadata": {},
   "source": [
    "Create basic structure to hold documents. </br>\n",
    "Partition key is \"DealId\" (deal id)."
   ]
  },
  {
   "cell_type": "code",
   "execution_count": null,
   "metadata": {},
   "outputs": [],
   "source": [
    "from azure.cosmos import CosmosClient, PartitionKey\n",
    "from configparser import ConfigParser\n",
    "from faker import Faker\n",
    "\n",
    "import os\n",
    "import json\n",
    "import uuid\n",
    "\n",
    "parser = ConfigParser()\n",
    "parser.read('../NotebookConfig.cfg')\n",
    "\n",
    "cosmosAccountURI = parser.get('CosmosDB', 'COSMOSDB_ACCOUNT_URI')\n",
    "cosmosAccountKey = parser.get('CosmosDB', 'COSMOSDB_ACCOUNT_KEY')\n",
    "\n",
    "databaseName = 'Learn'\n",
    "containerName = 'Deals'\n",
    "partitionKeypath = '/DealId'\n",
    "\n",
    "Faker.seed(0)\n",
    "fake = Faker(['en-US'])\n",
    "\n",
    "# print(cosmosAccountURI)"
   ]
  },
  {
   "cell_type": "code",
   "execution_count": 68,
   "metadata": {},
   "outputs": [],
   "source": [
    "client = CosmosClient(cosmosAccountURI, cosmosAccountKey)\n",
    "db = client.create_database_if_not_exists(databaseName, offer_throughput=400)\n",
    "\n",
    "pkPath = PartitionKey(path=partitionKeypath)\n",
    "ctr = db.create_container_if_not_exists(id=containerName, partition_key=pkPath) \n",
    "# ctr = db.create_container_if_not_exists(id=containerName, partition_key=pkPath, offer_throughput=400) "
   ]
  },
  {
   "attachments": {},
   "cell_type": "markdown",
   "metadata": {},
   "source": [
    "Auxiliary function to strip out Cosmos DB metadata added to a document"
   ]
  },
  {
   "cell_type": "code",
   "execution_count": 67,
   "metadata": {},
   "outputs": [],
   "source": [
    "# Auxiliary function to strip out metadata elements created by Cosmos DB\n",
    "def stripMetadata(doc):\n",
    "    metaProperties = ['_rid', '_ts', '_self', '_etag', '_attachments']\n",
    "    newDoc = {}\n",
    "    for elem in doc:\n",
    "        if (elem not in metaProperties):\n",
    "            newDoc[elem] = doc[elem]\n",
    "        #print(elem)\n",
    "\n",
    "    return newDoc"
   ]
  },
  {
   "attachments": {},
   "cell_type": "markdown",
   "metadata": {},
   "source": [
    "First interaction at the dealer you get a new deal to start negotiation"
   ]
  },
  {
   "cell_type": "code",
   "execution_count": 69,
   "metadata": {},
   "outputs": [],
   "source": [
    "dealid = fake.bothify('D_##########') # Not considering any real logic for the Deal id\n",
    "buyerName = fake.name()\n",
    "buyerPhone = fake.phone_number()"
   ]
  },
  {
   "cell_type": "code",
   "execution_count": null,
   "metadata": {},
   "outputs": [],
   "source": [
    "# Creates the first set of data for that deal\n",
    "\n",
    "deal = {\n",
    "    'id': str(uuid.uuid4())\n",
    "    , 'DealId': dealid # Not considering any real logic for the Deal id\n",
    "    , 'Seller': {\n",
    "        'SellerId': fake.bothify('S####')\n",
    "        , 'Name': fake.name()\n",
    "    }\n",
    "    , 'Buyer': {\n",
    "        'BuyerId': fake.bothify('B########')\n",
    "        , 'Name': buyerName\n",
    "        , 'Phone': buyerPhone\n",
    "    }\n",
    "    , 'Vehicle': 'Telluride S'\n",
    "}\n",
    "\n",
    "# print(deal)\n",
    "ctr.create_item(deal)"
   ]
  },
  {
   "attachments": {},
   "cell_type": "markdown",
   "metadata": {},
   "source": [
    "As deal progress, document gets new versions by adding details according to negotiation steps. </br>\n",
    "For every interaction, a new document id (GUID) is generated, but deal id is always the same."
   ]
  },
  {
   "cell_type": "code",
   "execution_count": null,
   "metadata": {},
   "outputs": [],
   "source": [
    "deal['id'] = str(uuid.uuid4())\n",
    "deal['BasePrice'] = 51000\n",
    "deal['NegotiatedPrice'] = 49000\n",
    "\n",
    "# print(deal)\n",
    "ctr.create_item(deal)"
   ]
  },
  {
   "cell_type": "code",
   "execution_count": null,
   "metadata": {},
   "outputs": [],
   "source": [
    "deal['id'] = str(uuid.uuid4())\n",
    "deal['Accessories'] = {\n",
    "    'Floor mats': 'Weather',\n",
    "    'Cargo net': 'yes'\n",
    "}\n",
    "\n",
    "# print(deal)\n",
    "ctr.create_item(deal)"
   ]
  },
  {
   "cell_type": "code",
   "execution_count": null,
   "metadata": {},
   "outputs": [],
   "source": [
    "# Model change\n",
    "deal['id'] = str(uuid.uuid4())\n",
    "deal['Vehicle'] = 'Telluride EX'\n",
    "deal['BasePrice'] = 55000\n",
    "deal['NegotiatedPrice'] = 51000\n",
    "\n",
    "# print(deal)\n",
    "ctr.create_item(deal)"
   ]
  },
  {
   "cell_type": "code",
   "execution_count": null,
   "metadata": {},
   "outputs": [],
   "source": [
    "# Added vehicle trade-in in the negotiation\n",
    "deal['id'] = str(uuid.uuid4())\n",
    "deal['TradeIn'] = {\n",
    "    'Vehicle': 'Toyota RAV4 LE FWD'\n",
    "    ,'Assessment': 15000\n",
    "}\n",
    "\n",
    "# print(deal)\n",
    "ctr.create_item(deal)"
   ]
  },
  {
   "cell_type": "code",
   "execution_count": null,
   "metadata": {},
   "outputs": [],
   "source": [
    "# Finance options and DownPayment estimates\n",
    "deal['id'] = str(uuid.uuid4())\n",
    "deal['Payment']= {\n",
    "    'DownPayment': 5000\n",
    "    , 'Financing': 31000\n",
    "}\n",
    "\n",
    "# print(deal)\n",
    "ctr.create_item(deal)"
   ]
  },
  {
   "attachments": {},
   "cell_type": "markdown",
   "metadata": {},
   "source": [
    "You decided to leave dealer (if they let you out of the door) and sleep on it.<br/>\n",
    "The next day you return to dealer, knowing you will sell your car for 17K and use that money in the down payment.<br/><br/>\n",
    "\n",
    "Receptionist greets you and goes on to fetch lastest status for the deal.<br/>\n",
    "Some examples how application can query your deal..."
   ]
  },
  {
   "cell_type": "code",
   "execution_count": null,
   "metadata": {},
   "outputs": [],
   "source": [
    "# If you know the Deal id...\n",
    "# items = list(ctr.query_items(query='SELECT TOP 1 * FROM c WHERE c.DealId = \"'+ dealid + '\" ORDER BY c._ts DESC', enable_cross_partition_query=False, max_item_count=10))\n",
    "# print ('Request charge: ', float(ctr.client_connection.last_response_headers['x-ms-request-charge']))\n",
    "\n",
    "# Query by name (this is a cross partition query)\n",
    "# items = list(ctr.query_items(query='SELECT TOP 1 * FROM c WHERE c.Buyer.Name = \"'+ buyerName + '\" ORDER BY c._ts DESC', enable_cross_partition_query=True, max_item_count=10))\n",
    "# print ('Request charge: ', float(ctr.client_connection.last_response_headers['x-ms-request-charge']))\n",
    "\n",
    "# Query by phone (this is a cross partition query)\n",
    "items = list(ctr.query_items(query='SELECT TOP 1 * FROM c WHERE c.Buyer.Phone = \"'+ buyerPhone + '\" ORDER BY c._ts DESC', enable_cross_partition_query=True, max_item_count=10))\n",
    "print ('Request charge: ', float(ctr.client_connection.last_response_headers['x-ms-request-charge']))\n",
    "\n",
    "# should always return 1 item (latest version of the deal)\n",
    "print('Number of documents: ', items.__len__())"
   ]
  },
  {
   "cell_type": "code",
   "execution_count": 86,
   "metadata": {},
   "outputs": [
    {
     "name": "stdout",
     "output_type": "stream",
     "text": [
      "\n",
      "Hello Susan Wagner, associate Christine Tran is busy assisting other customer and will be with you in a few minutes. (you go drink coffee while waiting...)\n"
     ]
    }
   ],
   "source": [
    "deal = stripMetadata(items[0])\n",
    "\n",
    "# Comparing raw document with stripped one\n",
    "# print(items[0])\n",
    "# print(deal)\n",
    "\n",
    "# How it usually goes...\n",
    "print(f\"\\nHello {deal['Buyer']['Name']}, associate {deal['Seller']['Name']} is busy assisting other customer and will be with you in a few minutes. (you go drink coffee while waiting...)\")"
   ]
  },
  {
   "attachments": {},
   "cell_type": "markdown",
   "metadata": {},
   "source": [
    "You want to see some recent versions of this deal. <br/>\n",
    "Decided to continue with the third most recent: EX model, no trade-in or finance options."
   ]
  },
  {
   "cell_type": "code",
   "execution_count": null,
   "metadata": {},
   "outputs": [],
   "source": [
    "# As alternative you could use the latest version and remove/modify items you don't want.\n",
    "# Ex.: deal.pop('TradeIn')\n",
    "\n",
    "items = list(ctr.query_items(query='SELECT TOP 10 * FROM c WHERE c.DealId = \"'+ dealid + '\" ORDER BY c._ts DESC', enable_cross_partition_query=False, max_item_count=10))\n",
    "print ('Request charge: {0}', float(ctr.client_connection.last_response_headers['x-ms-request-charge']))\n",
    "\n",
    "deal = stripMetadata(items[2])\n",
    "print(deal)"
   ]
  },
  {
   "cell_type": "code",
   "execution_count": null,
   "metadata": {},
   "outputs": [],
   "source": [
    "# Propose a new price with payment options\n",
    "deal['id'] = str(uuid.uuid4())\n",
    "deal['ProposedPrice'] = 49000\n",
    "deal['Payment']= {\n",
    "    'DownPayment': 20000\n",
    "    , 'Financing': 29000\n",
    "}\n",
    "\n",
    "ctr.create_item(deal)"
   ]
  },
  {
   "cell_type": "code",
   "execution_count": null,
   "metadata": {},
   "outputs": [],
   "source": [
    "# Create the final version of the deal\n",
    "\n",
    "deal['id'] = str(uuid.uuid4())\n",
    "deal['NegotiatedPrice'] = 50000\n",
    "deal['Payment']= {\n",
    "    'DownPayment': 20000\n",
    "    , 'Financing': 30000\n",
    "}\n",
    "deal['ManagerApproval'] = fake.name()\n",
    "deal['CustomerAgreed'] = fake.date_time_this_year().isoformat()\n",
    "\n",
    "ctr.create_item(deal)"
   ]
  },
  {
   "cell_type": "code",
   "execution_count": 65,
   "metadata": {},
   "outputs": [],
   "source": [
    "# Clean up code\n",
    "# Assuming objects are instantiated\n",
    "\n",
    "# db.delete_container(containerName)"
   ]
  }
 ],
 "metadata": {
  "kernelspec": {
   "display_name": "Python 3",
   "language": "python",
   "name": "python3"
  },
  "language_info": {
   "codemirror_mode": {
    "name": "ipython",
    "version": 3
   },
   "file_extension": ".py",
   "mimetype": "text/x-python",
   "name": "python",
   "nbconvert_exporter": "python",
   "pygments_lexer": "ipython3",
   "version": "3.10.9"
  },
  "orig_nbformat": 4,
  "vscode": {
   "interpreter": {
    "hash": "3f5c034d10c10f5a4ca2da93e6423dfeffe7b0b50e6b543a2b0cb9a54b246f48"
   }
  }
 },
 "nbformat": 4,
 "nbformat_minor": 2
}
