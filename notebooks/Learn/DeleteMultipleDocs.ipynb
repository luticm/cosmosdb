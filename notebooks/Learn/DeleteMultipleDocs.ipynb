{
 "cells": [
  {
   "attachments": {},
   "cell_type": "markdown",
   "metadata": {},
   "source": [
    "### Delete documents across partitions"
   ]
  },
  {
   "cell_type": "code",
   "execution_count": null,
   "metadata": {},
   "outputs": [],
   "source": [
    "# Install required libraries\n",
    "%pip install azure-cosmos\n",
    "%pip install faker\n",
    "\n",
    "# import azure.cosmos\n",
    "# print(azure.cosmos.__version__)"
   ]
  },
  {
   "cell_type": "code",
   "execution_count": 1,
   "metadata": {},
   "outputs": [],
   "source": [
    "# Initialization and config\n",
    "from azure.cosmos import CosmosClient, PartitionKey\n",
    "from configparser import ConfigParser\n",
    "from faker import Faker\n",
    "\n",
    "import os\n",
    "import json\n",
    "import uuid\n",
    "\n",
    "# Assuming structure Notebooks/Models\n",
    "parser = ConfigParser()\n",
    "parser.read('../NotebookConfig.cfg')\n",
    "\n",
    "cosmosAccountURI = parser.get('CosmosDB', 'COSMOSDB_ACCOUNT_URI')\n",
    "cosmosAccountKey = parser.get('CosmosDB', 'COSMOSDB_ACCOUNT_KEY')\n",
    "\n",
    "databaseName = 'Learn'\n",
    "containerName = 'NoSQL'\n",
    "partitionKeypath = '/PartitionKey'\n",
    "osPath = './OutputFiles/'\n",
    "\n",
    "Faker.seed(0)\n",
    "fake = Faker(['en-US'])\n",
    "\n",
    "if not os.path.exists(osPath):\n",
    "    os.mkdir(osPath)"
   ]
  },
  {
   "cell_type": "code",
   "execution_count": 2,
   "metadata": {},
   "outputs": [],
   "source": [
    "client = CosmosClient(cosmosAccountURI, cosmosAccountKey)\n",
    "db = client.create_database_if_not_exists(databaseName)\n",
    "\n",
    "pkPath = PartitionKey(path=partitionKeypath)\n",
    "ctr = db.create_container_if_not_exists(id=containerName, partition_key=pkPath, offer_throughput=400)"
   ]
  },
  {
   "cell_type": "code",
   "execution_count": 3,
   "metadata": {},
   "outputs": [],
   "source": [
    "# Reference list for documents that should have consistent values across cell/operations.\n",
    "from collections import OrderedDict\n",
    "maxRange = 10000\n",
    "IOTSources = []\n",
    "\n",
    "os.makedirs(os.path.dirname('./OutputFiles/'), exist_ok=True)\n",
    "with open('./OutputFiles/' + containerName + '_referenceData.json', 'w') as jsonFile:\n",
    "    for i in range(maxRange):\n",
    "        entity = {            \n",
    "            'Name': fake.bothify('????_############')\n",
    "            , 'Type': fake.random_element(elements=('Type1', 'Type2', 'Type3', 'Type4', 'Type5', 'Type6'))\n",
    "        }\n",
    "        IOTSources.append(entity)\n",
    "\n",
    "        # Save patients for reference\n",
    "        json.dump(entity, jsonFile)\n",
    "        if (i < maxRange):\n",
    "            jsonFile.write(',\\n')"
   ]
  },
  {
   "cell_type": "code",
   "execution_count": 5,
   "metadata": {},
   "outputs": [],
   "source": [
    "# Insert 1K documents with fixed Partition id\n",
    "from datetime import datetime, timedelta\n",
    "\n",
    "RUCharges = []\n",
    "daysRange = 1\n",
    "iotRange = 1000\n",
    "\n",
    "dtBase = datetime(year=2022, month=12, day=1)\n",
    "\n",
    "for iot in range(iotRange):\n",
    "    IOTSrc = IOTSources[iot]\n",
    "\n",
    "    for day in range(daysRange):\n",
    "        docs = []        \n",
    "        readings = []\n",
    "\n",
    "        # *** Produce 10 readings - 1 for each minute\n",
    "        for m in range(1):\n",
    "            readings.append(\n",
    "                {\n",
    "                    'Dimension': fake.random_element(elements=('D1', 'D2', 'D3', 'D4', 'D5', 'D6', 'D7', 'D8', 'D9'))\n",
    "                    , 'Metric': fake.random_number(digits=5)\n",
    "                    , 'Timestamp': (dtBase + timedelta(days=day,minutes=m)).isoformat()  # fake.date_time_this_year().isoformat()\n",
    "                })\n",
    "\n",
    "        doc = {\n",
    "            'id': str(uuid.uuid4())\n",
    "            , 'PartitionKey': 'D00001006'\n",
    "            , 'Name': IOTSrc['Name']\n",
    "            , 'Type': IOTSrc['Type']            \n",
    "            , 'Entity': IOTSrc\n",
    "            , 'Location': {\n",
    "               \"type\":\"Point\",\n",
    "                \"coordinates\":[ float(fake.numerify(text='40.#####')), float(fake.numerify(text='-74.#####')) ]     \n",
    "            }\n",
    "            , 'DateTime': (dtBase + timedelta(days=day)).isoformat()\n",
    "            , 'Timestamp': (dtBase + timedelta(days=day)).timestamp()\n",
    "            , 'Readings': readings\n",
    "            , 'class': fake.random_element(elements=OrderedDict([(\"A\", 0.40), (\"B\", 0.35), (\"C\", 0.15), (\"D\", 0.05), (\"E\", 0.05)]))\n",
    "        }\n",
    "\n",
    "        ctr.create_item(doc)\n",
    "        RUCharges.append(float(ctr.client_connection.last_response_headers['x-ms-request-charge']))\n",
    "        # print(ctr.client_connection.last_response_headers['x-ms-request-charge'])"
   ]
  },
  {
   "cell_type": "code",
   "execution_count": null,
   "metadata": {},
   "outputs": [],
   "source": [
    "# Load 100K documents into container\n",
    "# Random locations based on geospatial coordiates around latitude 40.xxxxx and longitude -74.xxxxx\n",
    "\n",
    "from datetime import datetime, timedelta\n",
    "\n",
    "RUCharges = []\n",
    "daysRange = 1\n",
    "iotRange = 1000\n",
    "\n",
    "dtBase = datetime(year=2022, month=12, day=1)\n",
    "\n",
    "for iot in range(iotRange):\n",
    "    IOTSrc = IOTSources[iot]\n",
    "\n",
    "    for day in range(daysRange):\n",
    "        docs = []        \n",
    "        readings = []\n",
    "\n",
    "        # *** Produce 10 readings - 1 for each minute\n",
    "        for m in range(1):\n",
    "            readings.append(\n",
    "                {\n",
    "                    'Dimension': fake.random_element(elements=('D1', 'D2', 'D3', 'D4', 'D5', 'D6', 'D7', 'D8', 'D9'))\n",
    "                    , 'Metric': fake.random_number(digits=5)\n",
    "                    , 'Timestamp': (dtBase + timedelta(days=day,minutes=m)).isoformat()  # fake.date_time_this_year().isoformat()\n",
    "                })\n",
    "\n",
    "        doc = {\n",
    "            'id': str(uuid.uuid4())\n",
    "            , 'PartitionKey': IOTSrc['Name'] + '_' + IOTSrc['Type'] + '_' + (dtBase + timedelta(days=day)).strftime('%Y_%m_%d')\n",
    "            , 'Name': IOTSrc['Name']\n",
    "            , 'Type': IOTSrc['Type']            \n",
    "            , 'Entity': IOTSrc\n",
    "            , 'Location': {\n",
    "               \"type\":\"Point\",\n",
    "                \"coordinates\":[ float(fake.numerify(text='40.#####')), float(fake.numerify(text='-74.#####')) ]     \n",
    "            }\n",
    "            , 'DateTime': (dtBase + timedelta(days=day)).isoformat()\n",
    "            , 'Timestamp': (dtBase + timedelta(days=day)).timestamp()\n",
    "            , 'Readings': readings\n",
    "            , 'class': fake.random_element(elements=OrderedDict([(\"A\", 0.40), (\"B\", 0.35), (\"C\", 0.15), (\"D\", 0.05), (\"E\", 0.05)]))\n",
    "        }\n",
    "\n",
    "        ctr.create_item(doc)\n",
    "        RUCharges.append(float(ctr.client_connection.last_response_headers['x-ms-request-charge']))\n",
    "        # print(ctr.client_connection.last_response_headers['x-ms-request-charge'])"
   ]
  },
  {
   "cell_type": "code",
   "execution_count": null,
   "metadata": {},
   "outputs": [],
   "source": [
    "for item in ctr.query_items(query=\"SELECT c.id, c.PartitionKey FROM c WHERE c.PartitionKey != 'D00001006'\" \n",
    "    , enable_cross_partition_query=True):\n",
    "    ctr.delete_item(item=item['id'], partition_key=item['PartitionKey'])\n",
    "    print(item)\n"
   ]
  }
 ],
 "metadata": {
  "kernelspec": {
   "display_name": "Python 3",
   "language": "python",
   "name": "python3"
  },
  "language_info": {
   "codemirror_mode": {
    "name": "ipython",
    "version": 3
   },
   "file_extension": ".py",
   "mimetype": "text/x-python",
   "name": "python",
   "nbconvert_exporter": "python",
   "pygments_lexer": "ipython3",
   "version": "3.10.9 (tags/v3.10.9:1dd9be6, Dec  6 2022, 20:01:21) [MSC v.1934 64 bit (AMD64)]"
  },
  "orig_nbformat": 4,
  "vscode": {
   "interpreter": {
    "hash": "3f5c034d10c10f5a4ca2da93e6423dfeffe7b0b50e6b543a2b0cb9a54b246f48"
   }
  }
 },
 "nbformat": 4,
 "nbformat_minor": 2
}
