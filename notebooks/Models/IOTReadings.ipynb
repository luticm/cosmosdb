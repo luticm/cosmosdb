{
 "cells": [
  {
   "cell_type": "markdown",
   "metadata": {},
   "source": [
    "## IOT Readings - Embbed all readings or not?\n",
    "Test dataset to evaluate RU cost for collocating IOT readings in a single document or to have multiple documents with N readings. </br>\n",
    "Maximum number of readings: 10000"
   ]
  },
  {
   "cell_type": "markdown",
   "metadata": {},
   "source": [
    "### Prepare key references for notebook\n",
    "Environment variables COSMOS_ACCOUNT_URI and COSMOS_ACCOUNT_KEY should exist"
   ]
  },
  {
   "cell_type": "code",
   "execution_count": 1,
   "metadata": {},
   "outputs": [
    {
     "name": "stdout",
     "output_type": "stream",
     "text": [
      "https://cosmicgbb-sql.documents.azure.com:443/\n"
     ]
    }
   ],
   "source": [
    "from azure.cosmos import CosmosClient, PartitionKey\n",
    "from faker import Faker\n",
    "\n",
    "import os\n",
    "import json\n",
    "import uuid\n",
    "\n",
    "cosmosAccountURI = os.environ['COSMOS_ACCOUNT_URI']\n",
    "cosmosAccountKey = os.environ['COSMOS_ACCOUNT_KEY']\n",
    "\n",
    "databaseName = 'Models'\n",
    "containerName = 'IOTEnergyTelemetry'\n",
    "partitionKeypath = '/PartitionKey'\n",
    "\n",
    "Faker.seed(0)\n",
    "fake = Faker(['en-US'])\n",
    "\n",
    "print(cosmosAccountURI)"
   ]
  },
  {
   "cell_type": "markdown",
   "metadata": {},
   "source": [
    "### Create DB and collection for sample data\n",
    "If resources already exists, just get references for database and container."
   ]
  },
  {
   "cell_type": "code",
   "execution_count": 5,
   "metadata": {},
   "outputs": [],
   "source": [
    "client = CosmosClient(cosmosAccountURI, cosmosAccountKey)\n",
    "db = client.create_database_if_not_exists(databaseName)\n",
    "\n",
    "pkPath = PartitionKey(path=partitionKeypath)\n",
    "ctr = db.create_container_if_not_exists(id=containerName, partition_key=pkPath, offer_throughput=1000) "
   ]
  },
  {
   "cell_type": "markdown",
   "metadata": {},
   "source": [
    "### Repeatable Reference lists\n",
    "Contains documents that should have consistent across cell/operations. </br>\n",
    "For example: Patient, IOT devices, tax payer information, ..."
   ]
  },
  {
   "cell_type": "code",
   "execution_count": 6,
   "metadata": {},
   "outputs": [],
   "source": [
    "from collections import OrderedDict\n",
    "maxRange = 10000\n",
    "IOTSources = []\n",
    "\n",
    "os.makedirs(os.path.dirname('./OutputFiles/'), exist_ok=True)\n",
    "with open('./OutputFiles/' + containerName + '_referenceData.json', 'w') as jsonFile:\n",
    "    for i in range(maxRange):\n",
    "        entity = {            \n",
    "            'Name': fake.bothify('????_############') ## SiteId_ResourceId\n",
    "            , 'Type': fake.random_element(elements=('Type1', 'Type2', 'Type3', 'Type4', 'Type5', 'Type6'))\n",
    "        }\n",
    "        IOTSources.append(entity)\n",
    "\n",
    "        # Save patients for reference\n",
    "        json.dump(entity, jsonFile)\n",
    "        if (i < maxRange):\n",
    "            jsonFile.write(',\\n')"
   ]
  },
  {
   "cell_type": "markdown",
   "metadata": {},
   "source": [
    "### Load sample documents in the container\n",
    "Save generated documents in 'Output' directory"
   ]
  },
  {
   "cell_type": "code",
   "execution_count": 12,
   "metadata": {},
   "outputs": [],
   "source": [
    "RUCharges = []\n",
    "docs = []\n",
    "maxRange = 1\n",
    "\n",
    "for j in range(maxRange):\n",
    "    IOTSrc = IOTSources[fake.random_int(min=0, max=9999)]    \n",
    "    readings = []\n",
    "\n",
    "    # *** Produce N readings\n",
    "    # Execute this repeatedly by changing range from 1, 100, 1000 and 10000\n",
    "    for r in range(1):        \n",
    "        readings.append(\n",
    "            {\n",
    "                'Dimension': fake.random_element(elements=('D1', 'D2', 'D3', 'D4', 'D5', 'D6', 'D7', 'D8', 'D9'))\n",
    "                , 'Value': fake.random_number(digits=5)\n",
    "                , 'Timestamp': fake.date_time_this_year().isoformat()\n",
    "            })\n",
    "\n",
    "    doc = {\n",
    "        'id': str(uuid.uuid4())\n",
    "        , 'PartitionKey': fake.bothify('##_') + IOTSrc['Name'] + '_' + IOTSrc['Type']\n",
    "        , 'Entity': IOTSrc\n",
    "        , 'Readings': readings\n",
    "        , 'class': fake.random_element(elements=OrderedDict([(\"A\", 0.40), (\"B\", 0.35), (\"C\", 0.15), (\"D\", 0.05), (\"E\", 0.05)]))\n",
    "    }\n",
    "\n",
    "    # Create items, record charges and store docs locally (optional)\n",
    "    # print(doc)\n",
    "    ctr.create_item(doc)\n",
    "    RUCharges.append(float(ctr.client_connection.last_response_headers['x-ms-request-charge']))\n",
    "    # print(ctr.client_connection.last_response_headers['x-ms-request-charge'])\n",
    "    docs.append(doc)\n",
    "\n",
    "with open('./OutputFiles/' + containerName + '_1docs.json', 'w') as jf:\n",
    "    for d in docs:\n",
    "        json.dump(d, jf)\n",
    "        jf.write(',\\n')"
   ]
  },
  {
   "cell_type": "code",
   "execution_count": null,
   "metadata": {},
   "outputs": [],
   "source": [
    "print('Average RU charge: ' + str(sum(RUCharges) / len(RUCharges)))"
   ]
  },
  {
   "cell_type": "code",
   "execution_count": null,
   "metadata": {},
   "outputs": [],
   "source": [
    "RUCharges = []\n",
    "docs = []\n",
    "maxRange = 1\n",
    "\n",
    "for j in range(maxRange):\n",
    "    IOTSrc = IOTSources[fake.random_int(min=0, max=9999)]    \n",
    "    readings = []\n",
    "\n",
    "    # *** Produce N readings\n",
    "    # Execute this repeatedly by changing range from 1, 100, 1000 and 10000\n",
    "    for r in range(100):        \n",
    "        readings.append(\n",
    "            {\n",
    "                'Dimension': fake.random_element(elements=('D1', 'D2', 'D3', 'D4', 'D5', 'D6', 'D7', 'D8', 'D9'))\n",
    "                , 'Value': fake.random_number(digits=5)\n",
    "                , 'Timestamp': fake.date_time_this_year().isoformat()\n",
    "            })\n",
    "\n",
    "    doc = {\n",
    "        'id': str(uuid.uuid4())\n",
    "        , 'PartitionKey': fake.bothify('##_') + IOTSrc['Name'] + '_' + IOTSrc['Type']\n",
    "        , 'Entity': IOTSrc\n",
    "        , 'Readings': readings\n",
    "        , 'class': fake.random_element(elements=OrderedDict([(\"A\", 0.40), (\"B\", 0.35), (\"C\", 0.15), (\"D\", 0.05), (\"E\", 0.05)]))\n",
    "    }\n",
    "\n",
    "    # Create items, record charges and store docs locally (optional)\n",
    "    # print(doc)\n",
    "    ctr.create_item(doc)\n",
    "    RUCharges.append(float(ctr.client_connection.last_response_headers['x-ms-request-charge']))\n",
    "    # print(ctr.client_connection.last_response_headers['x-ms-request-charge'])\n",
    "    docs.append(doc)\n",
    "\n",
    "with open('./OutputFiles/' + containerName + '_100docs.json', 'w') as jf:\n",
    "    for d in docs:\n",
    "        json.dump(d, jf)\n",
    "        jf.write(',\\n')"
   ]
  },
  {
   "cell_type": "code",
   "execution_count": null,
   "metadata": {},
   "outputs": [],
   "source": [
    "print('Average RU charge: ' + str(sum(RUCharges) / len(RUCharges)))"
   ]
  },
  {
   "cell_type": "code",
   "execution_count": null,
   "metadata": {},
   "outputs": [],
   "source": [
    "RUCharges = []\n",
    "docs = []\n",
    "maxRange = 1\n",
    "\n",
    "for j in range(maxRange):\n",
    "    IOTSrc = IOTSources[fake.random_int(min=0, max=9999)]    \n",
    "    readings = []\n",
    "\n",
    "    # *** Produce N readings\n",
    "    # Execute this repeatedly by changing range from 1, 100, 1000 and 10000\n",
    "    for r in range(1000):        \n",
    "        readings.append(\n",
    "            {\n",
    "                'Dimension': fake.random_element(elements=('D1', 'D2', 'D3', 'D4', 'D5', 'D6', 'D7', 'D8', 'D9'))\n",
    "                , 'Value': fake.random_number(digits=5)\n",
    "                , 'Timestamp': fake.date_time_this_year().isoformat()\n",
    "            })\n",
    "\n",
    "    doc = {\n",
    "        'id': str(uuid.uuid4())\n",
    "        , 'PartitionKey': fake.bothify('##_') + IOTSrc['Name'] + '_' + IOTSrc['Type']\n",
    "        , 'Entity': IOTSrc\n",
    "        , 'Readings': readings\n",
    "        , 'class': fake.random_element(elements=OrderedDict([(\"A\", 0.40), (\"B\", 0.35), (\"C\", 0.15), (\"D\", 0.05), (\"E\", 0.05)]))\n",
    "    }\n",
    "\n",
    "    # Create items, record charges and store docs locally (optional)\n",
    "    # print(doc)\n",
    "    ctr.create_item(doc)\n",
    "    RUCharges.append(float(ctr.client_connection.last_response_headers['x-ms-request-charge']))\n",
    "    # print(ctr.client_connection.last_response_headers['x-ms-request-charge'])\n",
    "    docs.append(doc)\n",
    "\n",
    "with open('./OutputFiles/' + containerName + '_1000docs.json', 'w') as jf:\n",
    "    for d in docs:\n",
    "        json.dump(d, jf)\n",
    "        jf.write(',\\n')"
   ]
  },
  {
   "cell_type": "code",
   "execution_count": null,
   "metadata": {},
   "outputs": [],
   "source": [
    "print('Average RU charge: ' + str(sum(RUCharges) / len(RUCharges)))"
   ]
  },
  {
   "cell_type": "code",
   "execution_count": null,
   "metadata": {},
   "outputs": [],
   "source": [
    "RUCharges = []\n",
    "docs = []\n",
    "maxRange = 1\n",
    "\n",
    "for j in range(maxRange):\n",
    "    IOTSrc = IOTSources[fake.random_int(min=0, max=9999)]    \n",
    "    readings = []\n",
    "\n",
    "    # *** Produce N readings\n",
    "    # Execute this repeatedly by changing range from 1, 100, 1000 and 10000\n",
    "    for r in range(10000):        \n",
    "        readings.append(\n",
    "            {\n",
    "                'Dimension': fake.random_element(elements=('D1', 'D2', 'D3', 'D4', 'D5', 'D6', 'D7', 'D8', 'D9'))\n",
    "                , 'Value': fake.random_number(digits=5)\n",
    "                , 'Timestamp': fake.date_time_this_year().isoformat()\n",
    "            })\n",
    "\n",
    "    doc = {\n",
    "        'id': str(uuid.uuid4())\n",
    "        , 'PartitionKey': fake.bothify('##_') + IOTSrc['Name'] + '_' + IOTSrc['Type']\n",
    "        , 'Entity': IOTSrc\n",
    "        , 'Readings': readings\n",
    "        , 'class': fake.random_element(elements=OrderedDict([(\"A\", 0.40), (\"B\", 0.35), (\"C\", 0.15), (\"D\", 0.05), (\"E\", 0.05)]))\n",
    "    }\n",
    "\n",
    "    # Create items, record charges and store docs locally (optional)\n",
    "    # print(doc)\n",
    "    ctr.create_item(doc)\n",
    "    RUCharges.append(float(ctr.client_connection.last_response_headers['x-ms-request-charge']))\n",
    "    # print(ctr.client_connection.last_response_headers['x-ms-request-charge'])\n",
    "    docs.append(doc)\n",
    "\n",
    "with open('./OutputFiles/' + containerName + '_1000docs.json', 'w') as jf:\n",
    "    for d in docs:\n",
    "        json.dump(d, jf)\n",
    "        jf.write(',\\n')"
   ]
  },
  {
   "cell_type": "code",
   "execution_count": 13,
   "metadata": {},
   "outputs": [
    {
     "name": "stdout",
     "output_type": "stream",
     "text": [
      "Average RU charge: 6249.76\n"
     ]
    }
   ],
   "source": [
    "print('Average RU charge: ' + str(sum(RUCharges) / len(RUCharges)))"
   ]
  },
  {
   "cell_type": "code",
   "execution_count": null,
   "metadata": {},
   "outputs": [],
   "source": [
    "items = list(ctr.query_items(query='SELECT SUBSTRING(c.PartitionKey, 0, 23) AS PK, COUNT(c.id) AS Total FROM c GROUP BY SUBSTRING(c.PartitionKey, 0, 23) ', enable_cross_partition_query=True, max_item_count=100))\n",
    "\n",
    "print (float(ctr.client_connection.last_response_headers['x-ms-request-charge']))\n",
    "print(items.__len__())"
   ]
  },
  {
   "cell_type": "markdown",
   "metadata": {},
   "source": [
    "### Adjust index policy\n",
    "The readings being stored in the container should not require indexing, as most of the operations should fetch documents based on Device and then compute the values. Therefore application will not benefit from default indexing. <br/>\n",
    "Execute cell below to adjust indexPolicy and then re-execute cell to load data (adjusting number of readings)"
   ]
  },
  {
   "cell_type": "code",
   "execution_count": 19,
   "metadata": {},
   "outputs": [
    {
     "data": {
      "text/plain": [
       "<ContainerProxy [dbs/Models/colls/IOTEnergyTelemetry]>"
      ]
     },
     "execution_count": 19,
     "metadata": {},
     "output_type": "execute_result"
    }
   ],
   "source": [
    "# containerPath = 'dbs/'+ databaseName +'/colls/' + containerName\n",
    "# container = db.get_container_client(container=containerName)\n",
    "\n",
    "indexPolicy = {\n",
    "    \"indexingMode\":\"consistent\",\n",
    "    \"includedPaths\":[\n",
    "        {\"path\":\"/PartitionKey/?\"}\n",
    "        , {\"path\":\"/Entity/*\"}\n",
    "        , {\"path\":\"/Class/?\"}\n",
    "        , {\"path\":\"/_ts/?\"}\n",
    "        ]\n",
    "    , \"excludedPaths\":[{\"path\":\"/*\"}]\n",
    "}\n",
    "\n",
    "db.replace_container(containerName, pkPath, indexing_policy=indexPolicy)\n"
   ]
  },
  {
   "cell_type": "markdown",
   "metadata": {},
   "source": [
    "### Cross partition query workload assessment\n",
    "- Target 1 million readings\n",
    "  - 10000 docs with 100 readings\n",
    "  - 1000 docs with 1000 readings\n",
    "  - 100 docs with 10000 readings"
   ]
  },
  {
   "cell_type": "code",
   "execution_count": 22,
   "metadata": {},
   "outputs": [],
   "source": [
    "RUCharges = []\n",
    "docs = []\n",
    "maxRange = 10000\n",
    "IOTSrc = IOTSources[fake.random_int(min=0, max=9999)]\n",
    "\n",
    "for j in range(maxRange):\n",
    "    readings = []\n",
    "\n",
    "    # *** Produce N readings\n",
    "    for r in range(100):        \n",
    "        readings.append(\n",
    "            {\n",
    "                'Dimension': fake.random_element(elements=('D1', 'D2', 'D3', 'D4', 'D5', 'D6', 'D7', 'D8', 'D9'))\n",
    "                , 'Metric': fake.random_number(digits=5)\n",
    "                , 'Timestamp': fake.date_time_this_year().isoformat()\n",
    "            })\n",
    "\n",
    "    doc = {\n",
    "        'id': str(uuid.uuid4())\n",
    "        # , 'PartitionKey': fake.bothify('##_') + IOTSrc['Name'] + '_' + IOTSrc['Type']\n",
    "        , 'PartitionKey': IOTSrc['Name'] + '_' + IOTSrc['Type']\n",
    "        , 'Entity': IOTSrc\n",
    "        , 'Readings': readings\n",
    "        , 'class': fake.random_element(elements=OrderedDict([(\"A\", 0.40), (\"B\", 0.35), (\"C\", 0.15), (\"D\", 0.05), (\"E\", 0.05)]))\n",
    "    }\n",
    "\n",
    "    # Create items, record charges and store docs locally (optional)\n",
    "    # print(doc)\n",
    "    ctr.create_item(doc)\n",
    "    RUCharges.append(float(ctr.client_connection.last_response_headers['x-ms-request-charge']))\n",
    "    # print(ctr.client_connection.last_response_headers['x-ms-request-charge'])\n",
    "    docs.append(doc)\n",
    "\n",
    "with open('./OutputFiles/' + containerName + '_Opt1_docs.json', 'w') as jf:\n",
    "    for d in docs:\n",
    "        json.dump(d, jf)\n",
    "        jf.write(',\\n')"
   ]
  },
  {
   "cell_type": "code",
   "execution_count": null,
   "metadata": {},
   "outputs": [],
   "source": [
    "RUCharges = []\n",
    "docs = []\n",
    "maxRange = 1000\n",
    "IOTSrc = IOTSources[fake.random_int(min=0, max=9999)]\n",
    "\n",
    "for j in range(maxRange):\n",
    "    readings = []\n",
    "\n",
    "    # *** Produce N readings\n",
    "    for r in range(1000):        \n",
    "        readings.append(\n",
    "            {\n",
    "                'Dimension': fake.random_element(elements=('D1', 'D2', 'D3', 'D4', 'D5', 'D6', 'D7', 'D8', 'D9'))\n",
    "                , 'Metric': fake.random_number(digits=5)\n",
    "                , 'Timestamp': fake.date_time_this_year().isoformat()\n",
    "            })\n",
    "\n",
    "    doc = {\n",
    "        'id': str(uuid.uuid4())\n",
    "        # , 'PartitionKey': fake.bothify('##_') + IOTSrc['Name'] + '_' + IOTSrc['Type']\n",
    "        , 'PartitionKey': IOTSrc['Name'] + '_' + IOTSrc['Type']\n",
    "        , 'Entity': IOTSrc\n",
    "        , 'Readings': readings\n",
    "        , 'class': fake.random_element(elements=OrderedDict([(\"A\", 0.40), (\"B\", 0.35), (\"C\", 0.15), (\"D\", 0.05), (\"E\", 0.05)]))\n",
    "    }\n",
    "\n",
    "    # Create items, record charges and store docs locally (optional)\n",
    "    # print(doc)\n",
    "    ctr.create_item(doc)\n",
    "    RUCharges.append(float(ctr.client_connection.last_response_headers['x-ms-request-charge']))\n",
    "    # print(ctr.client_connection.last_response_headers['x-ms-request-charge'])\n",
    "    docs.append(doc)\n",
    "\n",
    "with open('./OutputFiles/' + containerName + '_Opt1_docs.json', 'w') as jf:\n",
    "    for d in docs:\n",
    "        json.dump(d, jf)\n",
    "        jf.write(',\\n')"
   ]
  },
  {
   "cell_type": "code",
   "execution_count": null,
   "metadata": {},
   "outputs": [],
   "source": [
    "RUCharges = []\n",
    "docs = []\n",
    "maxRange = 100\n",
    "IOTSrc = IOTSources[fake.random_int(min=0, max=9999)]\n",
    "\n",
    "for j in range(maxRange):\n",
    "    readings = []\n",
    "\n",
    "    # *** Produce N readings\n",
    "    for r in range(10000):        \n",
    "        readings.append(\n",
    "            {\n",
    "                'Dimension': fake.random_element(elements=('D1', 'D2', 'D3', 'D4', 'D5', 'D6', 'D7', 'D8', 'D9'))\n",
    "                , 'Metric': fake.random_number(digits=5)\n",
    "                , 'Timestamp': fake.date_time_this_year().isoformat()\n",
    "            })\n",
    "\n",
    "    doc = {\n",
    "        'id': str(uuid.uuid4())\n",
    "        # , 'PartitionKey': fake.bothify('##_') + IOTSrc['Name'] + '_' + IOTSrc['Type']\n",
    "        , 'PartitionKey': IOTSrc['Name'] + '_' + IOTSrc['Type']\n",
    "        , 'Entity': IOTSrc\n",
    "        , 'Readings': readings\n",
    "        , 'class': fake.random_element(elements=OrderedDict([(\"A\", 0.40), (\"B\", 0.35), (\"C\", 0.15), (\"D\", 0.05), (\"E\", 0.05)]))\n",
    "    }\n",
    "\n",
    "    # Create items, record charges and store docs locally (optional)\n",
    "    # print(doc)\n",
    "    ctr.create_item(doc)\n",
    "    RUCharges.append(float(ctr.client_connection.last_response_headers['x-ms-request-charge']))\n",
    "    # print(ctr.client_connection.last_response_headers['x-ms-request-charge'])\n",
    "    docs.append(doc)\n",
    "\n",
    "with open('./OutputFiles/' + containerName + '_Opt1_docs.json', 'w') as jf:\n",
    "    for d in docs:\n",
    "        json.dump(d, jf)\n",
    "        jf.write(',\\n')"
   ]
  },
  {
   "cell_type": "markdown",
   "metadata": {},
   "source": [
    "### Clean up code"
   ]
  },
  {
   "cell_type": "code",
   "execution_count": null,
   "metadata": {},
   "outputs": [],
   "source": [
    "# containerPath = 'dbs/'+ databaseName +'/colls/' + containerName\n",
    "# container = db.get_container_client(container=containerName)\n",
    "\n",
    "indexPolicy = {\n",
    "    \"indexingMode\":\"consistent\",\n",
    "    \"includedPaths\":[\n",
    "        {\"path\":\"/*\"}\n",
    "        ]\n",
    "    , \"excludedPaths\":[{\"path\":\"/\\\"_etag\\\"/?\"}]\n",
    "}\n",
    "\n",
    "db.replace_container(containerName, pkPath, indexing_policy=indexPolicy)"
   ]
  },
  {
   "cell_type": "code",
   "execution_count": 15,
   "metadata": {},
   "outputs": [],
   "source": [
    "# Assume objects are instantiated\n",
    "db.delete_container(containerName)"
   ]
  }
 ],
 "metadata": {
  "kernelspec": {
   "display_name": "Python 3.11.0 64-bit",
   "language": "python",
   "name": "python3"
  },
  "language_info": {
   "codemirror_mode": {
    "name": "ipython",
    "version": 3
   },
   "file_extension": ".py",
   "mimetype": "text/x-python",
   "name": "python",
   "nbconvert_exporter": "python",
   "pygments_lexer": "ipython3",
   "version": "3.11.0"
  },
  "orig_nbformat": 4,
  "vscode": {
   "interpreter": {
    "hash": "abe1e7399a09fa18af0ebf095038136f90b871e79c5a23ead6acfab615a0c0e3"
   }
  }
 },
 "nbformat": 4,
 "nbformat_minor": 2
}
