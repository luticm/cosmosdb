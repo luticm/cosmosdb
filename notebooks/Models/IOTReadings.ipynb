{
 "cells": [
  {
   "cell_type": "markdown",
   "metadata": {},
   "source": [
    "## IOT Readings - Embbed all readings or not?\n",
    "Test dataset to evaluate RU cost for collocating IOT readings in a single document or to have multiple documents with N readings. </br>\n",
    "Maximum number of readings: 10000"
   ]
  },
  {
   "attachments": {},
   "cell_type": "markdown",
   "metadata": {},
   "source": [
    "### Prepare key references for notebook\n",
    "Expected CosmosDBAccounts.cfg with format:<br/>\n",
    "[CosmosDB]<br/>\n",
    "COSMOSDB_ACCOUNT_URI: https://CosmosDBAccount.documents.azure.com:443/<br/>\n",
    "COSMOSDB_ACCOUNT_KEY: CosmosDBKey<br/>"
   ]
  },
  {
   "cell_type": "code",
   "execution_count": 1,
   "metadata": {},
   "outputs": [
    {
     "name": "stdout",
     "output_type": "stream",
     "text": [
      "https://cosmicgbbcdb-sql.documents.azure.com:443/\n"
     ]
    }
   ],
   "source": [
    "from azure.cosmos import CosmosClient, PartitionKey\n",
    "from configparser import ConfigParser\n",
    "from faker import Faker\n",
    "\n",
    "import os\n",
    "import json\n",
    "import uuid\n",
    "\n",
    "parser = ConfigParser()\n",
    "parser.read('../NotebookConfig.cfg')\n",
    "\n",
    "cosmosAccountURI = parser.get('CosmosDB', 'COSMOSDB_ACCOUNT_URI')\n",
    "cosmosAccountKey = parser.get('CosmosDB', 'COSMOSDB_ACCOUNT_KEY')\n",
    "\n",
    "databaseName = 'Models'\n",
    "containerName = 'Cnt5PhysicalPartitions'\n",
    "partitionKeypath = '/PartitionKey'\n",
    "\n",
    "Faker.seed(0)\n",
    "fake = Faker(['en-US'])\n",
    "\n",
    "print(cosmosAccountURI)"
   ]
  },
  {
   "cell_type": "markdown",
   "metadata": {},
   "source": [
    "### Create DB and collection for sample data\n",
    "If resources already exists, just get references for database and container."
   ]
  },
  {
   "cell_type": "code",
   "execution_count": 2,
   "metadata": {},
   "outputs": [],
   "source": [
    "client = CosmosClient(cosmosAccountURI, cosmosAccountKey)\n",
    "db = client.create_database_if_not_exists(databaseName)\n",
    "\n",
    "pkPath = PartitionKey(path=partitionKeypath)\n",
    "ctr = db.create_container_if_not_exists(id=containerName, partition_key=pkPath, offer_throughput=1000) "
   ]
  },
  {
   "cell_type": "markdown",
   "metadata": {},
   "source": [
    "### Repeatable Reference lists\n",
    "Contains documents that should have consistent across cell/operations. </br>\n",
    "For example: Patient, IOT devices, tax payer information, ..."
   ]
  },
  {
   "cell_type": "code",
   "execution_count": 3,
   "metadata": {},
   "outputs": [],
   "source": [
    "from collections import OrderedDict\n",
    "maxRange = 10000\n",
    "IOTSources = []\n",
    "\n",
    "os.makedirs(os.path.dirname('./OutputFiles/'), exist_ok=True)\n",
    "with open('./OutputFiles/' + containerName + '_referenceData.json', 'w') as jsonFile:\n",
    "    for i in range(maxRange):\n",
    "        entity = {            \n",
    "            'Name': fake.bothify('????_############') ## SiteId_ResourceId\n",
    "            , 'Type': fake.random_element(elements=('Type1', 'Type2', 'Type3', 'Type4', 'Type5', 'Type6'))\n",
    "        }\n",
    "        IOTSources.append(entity)\n",
    "\n",
    "        # Save patients for reference\n",
    "        json.dump(entity, jsonFile)\n",
    "        if (i < maxRange):\n",
    "            jsonFile.write(',\\n')"
   ]
  },
  {
   "cell_type": "markdown",
   "metadata": {},
   "source": [
    "### Load sample documents in the container\n",
    "Save generated documents in 'Output' directory"
   ]
  },
  {
   "cell_type": "code",
   "execution_count": 6,
   "metadata": {},
   "outputs": [],
   "source": [
    "RUCharges = []\n",
    "docs = []\n",
    "maxRange = 1\n",
    "\n",
    "for j in range(maxRange):\n",
    "    IOTSrc = IOTSources[fake.random_int(min=0, max=9999)]    \n",
    "    readings = []\n",
    "\n",
    "    # *** Produce N readings\n",
    "    # Execute this repeatedly by changing range from 1, 100, 1000 and 10000\n",
    "    for r in range(1):        \n",
    "        readings.append(\n",
    "            {\n",
    "                'Dimension': fake.random_element(elements=('D1', 'D2', 'D3', 'D4', 'D5', 'D6', 'D7', 'D8', 'D9'))\n",
    "                , 'Value': fake.random_number(digits=5)\n",
    "                , 'Timestamp': fake.date_time_this_year().isoformat()\n",
    "            })\n",
    "\n",
    "    doc = {\n",
    "        'id': str(uuid.uuid4())\n",
    "        , 'PartitionKey': fake.bothify('##_') + IOTSrc['Name'] + '_' + IOTSrc['Type']\n",
    "        , 'Entity': IOTSrc\n",
    "        , 'Readings': readings\n",
    "        , 'class': fake.random_element(elements=OrderedDict([(\"A\", 0.40), (\"B\", 0.35), (\"C\", 0.15), (\"D\", 0.05), (\"E\", 0.05)]))\n",
    "    }\n",
    "\n",
    "    # Create items, record charges and store docs locally (optional)\n",
    "    # print(doc)\n",
    "    ctr.create_item(doc)\n",
    "    RUCharges.append(float(ctr.client_connection.last_response_headers['x-ms-request-charge']))\n",
    "    # print(ctr.client_connection.last_response_headers['x-ms-request-charge'])\n",
    "    docs.append(doc)\n",
    "\n",
    "with open('./OutputFiles/' + containerName + '_1docs.json', 'w') as jf:\n",
    "    for d in docs:\n",
    "        json.dump(d, jf)\n",
    "        jf.write(',\\n')"
   ]
  },
  {
   "cell_type": "code",
   "execution_count": 7,
   "metadata": {},
   "outputs": [
    {
     "name": "stdout",
     "output_type": "stream",
     "text": [
      "Average RU charge: 9.33\n"
     ]
    }
   ],
   "source": [
    "print('Average RU charge: ' + str(sum(RUCharges) / len(RUCharges)))"
   ]
  },
  {
   "cell_type": "code",
   "execution_count": 7,
   "metadata": {},
   "outputs": [],
   "source": [
    "RUCharges = []\n",
    "docs = []\n",
    "maxRange = 1\n",
    "\n",
    "for j in range(maxRange):\n",
    "    IOTSrc = IOTSources[fake.random_int(min=0, max=9999)]    \n",
    "    readings = []\n",
    "\n",
    "    # *** Produce N readings\n",
    "    # Execute this repeatedly by changing range from 1, 100, 1000 and 10000\n",
    "    for r in range(100):        \n",
    "        readings.append(\n",
    "            {\n",
    "                'Dimension': fake.random_element(elements=('D1', 'D2', 'D3', 'D4', 'D5', 'D6', 'D7', 'D8', 'D9'))\n",
    "                , 'Value': fake.random_number(digits=5)\n",
    "                , 'Timestamp': fake.date_time_this_year().isoformat()\n",
    "            })\n",
    "\n",
    "    doc = {\n",
    "        'id': str(uuid.uuid4())\n",
    "        , 'PartitionKey': fake.bothify('##_') + IOTSrc['Name'] + '_' + IOTSrc['Type']\n",
    "        , 'Entity': IOTSrc\n",
    "        , 'Readings': readings\n",
    "        , 'class': fake.random_element(elements=OrderedDict([(\"A\", 0.40), (\"B\", 0.35), (\"C\", 0.15), (\"D\", 0.05), (\"E\", 0.05)]))\n",
    "    }\n",
    "\n",
    "    # Create items, record charges and store docs locally (optional)\n",
    "    # print(doc)\n",
    "    ctr.create_item(doc)\n",
    "    RUCharges.append(float(ctr.client_connection.last_response_headers['x-ms-request-charge']))\n",
    "    # print(ctr.client_connection.last_response_headers['x-ms-request-charge'])\n",
    "    docs.append(doc)\n",
    "\n",
    "with open('./OutputFiles/' + containerName + '_100docs.json', 'w') as jf:\n",
    "    for d in docs:\n",
    "        json.dump(d, jf)\n",
    "        jf.write(',\\n')"
   ]
  },
  {
   "cell_type": "code",
   "execution_count": 8,
   "metadata": {},
   "outputs": [
    {
     "name": "stdout",
     "output_type": "stream",
     "text": [
      "Average RU charge: 69.52\n"
     ]
    }
   ],
   "source": [
    "print('Average RU charge: ' + str(sum(RUCharges) / len(RUCharges)))"
   ]
  },
  {
   "cell_type": "code",
   "execution_count": 8,
   "metadata": {},
   "outputs": [
    {
     "ename": "KeyboardInterrupt",
     "evalue": "",
     "output_type": "error",
     "traceback": [
      "\u001b[1;31m---------------------------------------------------------------------------\u001b[0m",
      "\u001b[1;31mCosmosHttpResponseError\u001b[0m                   Traceback (most recent call last)",
      "File \u001b[1;32m~\\AppData\\Local\\Packages\\PythonSoftwareFoundation.Python.3.10_qbz5n2kfra8p0\\LocalCache\\local-packages\\Python310\\site-packages\\azure\\cosmos\\_retry_utility.py:77\u001b[0m, in \u001b[0;36mExecute\u001b[1;34m(client, global_endpoint_manager, function, *args, **kwargs)\u001b[0m\n\u001b[0;32m     76\u001b[0m \u001b[39mif\u001b[39;00m args:\n\u001b[1;32m---> 77\u001b[0m     result \u001b[39m=\u001b[39m ExecuteFunction(function, global_endpoint_manager, \u001b[39m*\u001b[39margs, \u001b[39m*\u001b[39m\u001b[39m*\u001b[39mkwargs)\n\u001b[0;32m     78\u001b[0m \u001b[39melse\u001b[39;00m:\n",
      "File \u001b[1;32m~\\AppData\\Local\\Packages\\PythonSoftwareFoundation.Python.3.10_qbz5n2kfra8p0\\LocalCache\\local-packages\\Python310\\site-packages\\azure\\cosmos\\_retry_utility.py:136\u001b[0m, in \u001b[0;36mExecuteFunction\u001b[1;34m(function, *args, **kwargs)\u001b[0m\n\u001b[0;32m    134\u001b[0m \u001b[39m\"\"\"Stub method so that it can be used for mocking purposes as well.\u001b[39;00m\n\u001b[0;32m    135\u001b[0m \u001b[39m\"\"\"\u001b[39;00m\n\u001b[1;32m--> 136\u001b[0m \u001b[39mreturn\u001b[39;00m function(\u001b[39m*\u001b[39margs, \u001b[39m*\u001b[39m\u001b[39m*\u001b[39mkwargs)\n",
      "File \u001b[1;32m~\\AppData\\Local\\Packages\\PythonSoftwareFoundation.Python.3.10_qbz5n2kfra8p0\\LocalCache\\local-packages\\Python310\\site-packages\\azure\\cosmos\\_synchronized_request.py:154\u001b[0m, in \u001b[0;36m_Request\u001b[1;34m(global_endpoint_manager, request_params, connection_policy, pipeline_client, request, **kwargs)\u001b[0m\n\u001b[0;32m    153\u001b[0m \u001b[39mif\u001b[39;00m response\u001b[39m.\u001b[39mstatus_code \u001b[39m>\u001b[39m\u001b[39m=\u001b[39m \u001b[39m400\u001b[39m:\n\u001b[1;32m--> 154\u001b[0m     \u001b[39mraise\u001b[39;00m exceptions\u001b[39m.\u001b[39mCosmosHttpResponseError(message\u001b[39m=\u001b[39mdata, response\u001b[39m=\u001b[39mresponse)\n\u001b[0;32m    156\u001b[0m result \u001b[39m=\u001b[39m \u001b[39mNone\u001b[39;00m\n",
      "\u001b[1;31mCosmosHttpResponseError\u001b[0m: (429) Message: {\"Errors\":[\"Request rate is large. More Request Units may be needed, so no changes were made. Please retry this request later. Learn more: http://aka.ms/cosmosdb-error-429\"]}\r\nActivityId: c1bf3f0a-618b-405b-8f8f-fbf1c66c7dd1, Request URI: /apps/38bfe303-da54-4990-99d7-2e697e386886/services/278f5fd9-054d-4507-be7c-acbab75479a2/partitions/2885aee8-5835-4faf-ae80-50ca6f2c2264/replicas/133153596060695198p/, RequestStats: \r\nRequestStartTime: 2023-01-31T14:59:39.3185258Z, RequestEndTime: 2023-01-31T14:59:39.3185258Z,  Number of regions attempted:1\r\n{\"systemHistory\":[{\"dateUtc\":\"2023-01-31T14:58:48.7379175Z\",\"cpu\":0.268,\"memory\":440084768.000,\"threadInfo\":{\"isThreadStarving\":\"False\",\"threadWaitIntervalInMs\":0.0165,\"availableThreads\":32763,\"minThreads\":64,\"maxThreads\":32767},\"numberOfOpenTcpConnection\":1076},{\"dateUtc\":\"2023-01-31T14:58:58.7479359Z\",\"cpu\":0.437,\"memory\":440078572.000,\"threadInfo\":{\"isThreadStarving\":\"False\",\"threadWaitIntervalInMs\":0.0194,\"availableThreads\":32764,\"minThreads\":64,\"maxThreads\":32767},\"numberOfOpenTcpConnection\":1076},{\"dateUtc\":\"2023-01-31T14:59:08.7679570Z\",\"cpu\":0.227,\"memory\":440071220.000,\"threadInfo\":{\"isThreadStarving\":\"False\",\"threadWaitIntervalInMs\":0.0132,\"availableThreads\":32761,\"minThreads\":64,\"maxThreads\":32767},\"numberOfOpenTcpConnection\":1076},{\"dateUtc\":\"2023-01-31T14:59:18.7779760Z\",\"cpu\":0.251,\"memory\":440062028.000,\"threadInfo\":{\"isThreadStarving\":\"False\",\"threadWaitIntervalInMs\":0.0208,\"availableThreads\":32764,\"minThreads\":64,\"maxThreads\":32767},\"numberOfOpenTcpConnection\":1076},{\"dateUtc\":\"2023-01-31T14:59:28.7885070Z\",\"cpu\":0.224,\"memory\":440040428.000,\"threadInfo\":{\"isThreadStarving\":\"False\",\"threadWaitIntervalInMs\":0.0395,\"availableThreads\":32762,\"minThreads\":64,\"maxThreads\":32767},\"numberOfOpenTcpConnection\":1076},{\"dateUtc\":\"2023-01-31T14:59:38.7985268Z\",\"cpu\":0.478,\"memory\":440020148.000,\"threadInfo\":{\"isThreadStarving\":\"False\",\"threadWaitIntervalInMs\":0.018,\"availableThreads\":32763,\"minThreads\":64,\"maxThreads\":32767},\"numberOfOpenTcpConnection\":1076}]}\r\nRequestStart: 2023-01-31T14:59:39.3185258Z; ResponseTime: 2023-01-31T14:59:39.3185258Z; StoreResult: StorePhysicalAddress: rntbd://cdb-ms-prod-southcentralus1-be21.documents.azure.com:14131/apps/38bfe303-da54-4990-99d7-2e697e386886/services/278f5fd9-054d-4507-be7c-acbab75479a2/partitions/2885aee8-5835-4faf-ae80-50ca6f2c2264/replicas/133153596060695198p/, LSN: 1581, GlobalCommittedLsn: 1581, PartitionKeyRangeId: , IsValid: True, StatusCode: 429, SubStatusCode: 3200, RequestCharge: 0.38, ItemLSN: -1, SessionToken: , UsingLocalLSN: False, TransportException: null, BELatencyMs: , ActivityId: c1bf3f0a-618b-405b-8f8f-fbf1c66c7dd1, RetryAfterInMs: 5712, TransportRequestTimeline: {\"requestTimeline\":[{\"event\": \"Created\", \"startTimeUtc\": \"2023-01-31T14:59:39.3185258Z\", \"durationInMs\": 0.012},{\"event\": \"ChannelAcquisitionStarted\", \"startTimeUtc\": \"2023-01-31T14:59:39.3185378Z\", \"durationInMs\": 0.0024},{\"event\": \"Pipelined\", \"startTimeUtc\": \"2023-01-31T14:59:39.3185402Z\", \"durationInMs\": 0.3778},{\"event\": \"Transit Time\", \"startTimeUtc\": \"2023-01-31T14:59:39.3189180Z\", \"durationInMs\": 0.0056},{\"event\": \"Received\", \"startTimeUtc\": \"2023-01-31T14:59:39.3189236Z\", \"durationInMs\": 0.0945},{\"event\": \"Completed\", \"startTimeUtc\": \"2023-01-31T14:59:39.3190181Z\", \"durationInMs\": 0}],\"serviceEndpointStats\":{\"inflightRequests\":1,\"openConnections\":1},\"connectionStats\":{\"waitforConnectionInit\":\"False\",\"callsPendingReceive\":0,\"lastSendAttempt\":\"2023-01-31T14:59:39.1785255Z\",\"lastSend\":\"2023-01-31T14:59:39.1785255Z\",\"lastReceive\":\"2023-01-31T14:59:39.1985262Z\"},\"requestSizeInBytes\":67606,\"requestBodySizeInBytes\":67057,\"responseMetadataSizeInBytes\":127,\"responseBodySizeInBytes\":174};\r\n ResourceType: Document, OperationType: Create\r\n, SDK: Microsoft.Azure.Documents.Common/2.14.0\nCode: 429\nMessage: Message: {\"Errors\":[\"Request rate is large. More Request Units may be needed, so no changes were made. Please retry this request later. Learn more: http://aka.ms/cosmosdb-error-429\"]}\r\nActivityId: c1bf3f0a-618b-405b-8f8f-fbf1c66c7dd1, Request URI: /apps/38bfe303-da54-4990-99d7-2e697e386886/services/278f5fd9-054d-4507-be7c-acbab75479a2/partitions/2885aee8-5835-4faf-ae80-50ca6f2c2264/replicas/133153596060695198p/, RequestStats: \r\nRequestStartTime: 2023-01-31T14:59:39.3185258Z, RequestEndTime: 2023-01-31T14:59:39.3185258Z,  Number of regions attempted:1\r\n{\"systemHistory\":[{\"dateUtc\":\"2023-01-31T14:58:48.7379175Z\",\"cpu\":0.268,\"memory\":440084768.000,\"threadInfo\":{\"isThreadStarving\":\"False\",\"threadWaitIntervalInMs\":0.0165,\"availableThreads\":32763,\"minThreads\":64,\"maxThreads\":32767},\"numberOfOpenTcpConnection\":1076},{\"dateUtc\":\"2023-01-31T14:58:58.7479359Z\",\"cpu\":0.437,\"memory\":440078572.000,\"threadInfo\":{\"isThreadStarving\":\"False\",\"threadWaitIntervalInMs\":0.0194,\"availableThreads\":32764,\"minThreads\":64,\"maxThreads\":32767},\"numberOfOpenTcpConnection\":1076},{\"dateUtc\":\"2023-01-31T14:59:08.7679570Z\",\"cpu\":0.227,\"memory\":440071220.000,\"threadInfo\":{\"isThreadStarving\":\"False\",\"threadWaitIntervalInMs\":0.0132,\"availableThreads\":32761,\"minThreads\":64,\"maxThreads\":32767},\"numberOfOpenTcpConnection\":1076},{\"dateUtc\":\"2023-01-31T14:59:18.7779760Z\",\"cpu\":0.251,\"memory\":440062028.000,\"threadInfo\":{\"isThreadStarving\":\"False\",\"threadWaitIntervalInMs\":0.0208,\"availableThreads\":32764,\"minThreads\":64,\"maxThreads\":32767},\"numberOfOpenTcpConnection\":1076},{\"dateUtc\":\"2023-01-31T14:59:28.7885070Z\",\"cpu\":0.224,\"memory\":440040428.000,\"threadInfo\":{\"isThreadStarving\":\"False\",\"threadWaitIntervalInMs\":0.0395,\"availableThreads\":32762,\"minThreads\":64,\"maxThreads\":32767},\"numberOfOpenTcpConnection\":1076},{\"dateUtc\":\"2023-01-31T14:59:38.7985268Z\",\"cpu\":0.478,\"memory\":440020148.000,\"threadInfo\":{\"isThreadStarving\":\"False\",\"threadWaitIntervalInMs\":0.018,\"availableThreads\":32763,\"minThreads\":64,\"maxThreads\":32767},\"numberOfOpenTcpConnection\":1076}]}\r\nRequestStart: 2023-01-31T14:59:39.3185258Z; ResponseTime: 2023-01-31T14:59:39.3185258Z; StoreResult: StorePhysicalAddress: rntbd://cdb-ms-prod-southcentralus1-be21.documents.azure.com:14131/apps/38bfe303-da54-4990-99d7-2e697e386886/services/278f5fd9-054d-4507-be7c-acbab75479a2/partitions/2885aee8-5835-4faf-ae80-50ca6f2c2264/replicas/133153596060695198p/, LSN: 1581, GlobalCommittedLsn: 1581, PartitionKeyRangeId: , IsValid: True, StatusCode: 429, SubStatusCode: 3200, RequestCharge: 0.38, ItemLSN: -1, SessionToken: , UsingLocalLSN: False, TransportException: null, BELatencyMs: , ActivityId: c1bf3f0a-618b-405b-8f8f-fbf1c66c7dd1, RetryAfterInMs: 5712, TransportRequestTimeline: {\"requestTimeline\":[{\"event\": \"Created\", \"startTimeUtc\": \"2023-01-31T14:59:39.3185258Z\", \"durationInMs\": 0.012},{\"event\": \"ChannelAcquisitionStarted\", \"startTimeUtc\": \"2023-01-31T14:59:39.3185378Z\", \"durationInMs\": 0.0024},{\"event\": \"Pipelined\", \"startTimeUtc\": \"2023-01-31T14:59:39.3185402Z\", \"durationInMs\": 0.3778},{\"event\": \"Transit Time\", \"startTimeUtc\": \"2023-01-31T14:59:39.3189180Z\", \"durationInMs\": 0.0056},{\"event\": \"Received\", \"startTimeUtc\": \"2023-01-31T14:59:39.3189236Z\", \"durationInMs\": 0.0945},{\"event\": \"Completed\", \"startTimeUtc\": \"2023-01-31T14:59:39.3190181Z\", \"durationInMs\": 0}],\"serviceEndpointStats\":{\"inflightRequests\":1,\"openConnections\":1},\"connectionStats\":{\"waitforConnectionInit\":\"False\",\"callsPendingReceive\":0,\"lastSendAttempt\":\"2023-01-31T14:59:39.1785255Z\",\"lastSend\":\"2023-01-31T14:59:39.1785255Z\",\"lastReceive\":\"2023-01-31T14:59:39.1985262Z\"},\"requestSizeInBytes\":67606,\"requestBodySizeInBytes\":67057,\"responseMetadataSizeInBytes\":127,\"responseBodySizeInBytes\":174};\r\n ResourceType: Document, OperationType: Create\r\n, SDK: Microsoft.Azure.Documents.Common/2.14.0",
      "\nDuring handling of the above exception, another exception occurred:\n",
      "\u001b[1;31mKeyboardInterrupt\u001b[0m                         Traceback (most recent call last)",
      "Cell \u001b[1;32mIn[8], line 29\u001b[0m\n\u001b[0;32m     19\u001b[0m doc \u001b[39m=\u001b[39m {\n\u001b[0;32m     20\u001b[0m     \u001b[39m'\u001b[39m\u001b[39mid\u001b[39m\u001b[39m'\u001b[39m: \u001b[39mstr\u001b[39m(uuid\u001b[39m.\u001b[39muuid4())\n\u001b[0;32m     21\u001b[0m     , \u001b[39m'\u001b[39m\u001b[39mPartitionKey\u001b[39m\u001b[39m'\u001b[39m: fake\u001b[39m.\u001b[39mbothify(\u001b[39m'\u001b[39m\u001b[39m##_\u001b[39m\u001b[39m'\u001b[39m) \u001b[39m+\u001b[39m IOTSrc[\u001b[39m'\u001b[39m\u001b[39mName\u001b[39m\u001b[39m'\u001b[39m] \u001b[39m+\u001b[39m \u001b[39m'\u001b[39m\u001b[39m_\u001b[39m\u001b[39m'\u001b[39m \u001b[39m+\u001b[39m IOTSrc[\u001b[39m'\u001b[39m\u001b[39mType\u001b[39m\u001b[39m'\u001b[39m]\n\u001b[1;32m   (...)\u001b[0m\n\u001b[0;32m     24\u001b[0m     , \u001b[39m'\u001b[39m\u001b[39mclass\u001b[39m\u001b[39m'\u001b[39m: fake\u001b[39m.\u001b[39mrandom_element(elements\u001b[39m=\u001b[39mOrderedDict([(\u001b[39m\"\u001b[39m\u001b[39mA\u001b[39m\u001b[39m\"\u001b[39m, \u001b[39m0.40\u001b[39m), (\u001b[39m\"\u001b[39m\u001b[39mB\u001b[39m\u001b[39m\"\u001b[39m, \u001b[39m0.35\u001b[39m), (\u001b[39m\"\u001b[39m\u001b[39mC\u001b[39m\u001b[39m\"\u001b[39m, \u001b[39m0.15\u001b[39m), (\u001b[39m\"\u001b[39m\u001b[39mD\u001b[39m\u001b[39m\"\u001b[39m, \u001b[39m0.05\u001b[39m), (\u001b[39m\"\u001b[39m\u001b[39mE\u001b[39m\u001b[39m\"\u001b[39m, \u001b[39m0.05\u001b[39m)]))\n\u001b[0;32m     25\u001b[0m }\n\u001b[0;32m     27\u001b[0m \u001b[39m# Create items, record charges and store docs locally (optional)\u001b[39;00m\n\u001b[0;32m     28\u001b[0m \u001b[39m# print(doc)\u001b[39;00m\n\u001b[1;32m---> 29\u001b[0m ctr\u001b[39m.\u001b[39;49mcreate_item(doc)\n\u001b[0;32m     30\u001b[0m RUCharges\u001b[39m.\u001b[39mappend(\u001b[39mfloat\u001b[39m(ctr\u001b[39m.\u001b[39mclient_connection\u001b[39m.\u001b[39mlast_response_headers[\u001b[39m'\u001b[39m\u001b[39mx-ms-request-charge\u001b[39m\u001b[39m'\u001b[39m]))\n\u001b[0;32m     31\u001b[0m \u001b[39m# print(ctr.client_connection.last_response_headers['x-ms-request-charge'])\u001b[39;00m\n",
      "File \u001b[1;32m~\\AppData\\Local\\Packages\\PythonSoftwareFoundation.Python.3.10_qbz5n2kfra8p0\\LocalCache\\local-packages\\Python310\\site-packages\\azure\\core\\tracing\\decorator.py:78\u001b[0m, in \u001b[0;36mdistributed_trace.<locals>.decorator.<locals>.wrapper_use_tracer\u001b[1;34m(*args, **kwargs)\u001b[0m\n\u001b[0;32m     76\u001b[0m span_impl_type \u001b[39m=\u001b[39m settings\u001b[39m.\u001b[39mtracing_implementation()\n\u001b[0;32m     77\u001b[0m \u001b[39mif\u001b[39;00m span_impl_type \u001b[39mis\u001b[39;00m \u001b[39mNone\u001b[39;00m:\n\u001b[1;32m---> 78\u001b[0m     \u001b[39mreturn\u001b[39;00m func(\u001b[39m*\u001b[39margs, \u001b[39m*\u001b[39m\u001b[39m*\u001b[39mkwargs)\n\u001b[0;32m     80\u001b[0m \u001b[39m# Merge span is parameter is set, but only if no explicit parent are passed\u001b[39;00m\n\u001b[0;32m     81\u001b[0m \u001b[39mif\u001b[39;00m merge_span \u001b[39mand\u001b[39;00m \u001b[39mnot\u001b[39;00m passed_in_parent:\n",
      "File \u001b[1;32m~\\AppData\\Local\\Packages\\PythonSoftwareFoundation.Python.3.10_qbz5n2kfra8p0\\LocalCache\\local-packages\\Python310\\site-packages\\azure\\cosmos\\container.py:570\u001b[0m, in \u001b[0;36mContainerProxy.create_item\u001b[1;34m(self, body, populate_query_metrics, pre_trigger_include, post_trigger_include, indexing_directive, **kwargs)\u001b[0m\n\u001b[0;32m    567\u001b[0m \u001b[39mif\u001b[39;00m indexing_directive \u001b[39mis\u001b[39;00m \u001b[39mnot\u001b[39;00m \u001b[39mNone\u001b[39;00m:\n\u001b[0;32m    568\u001b[0m     request_options[\u001b[39m\"\u001b[39m\u001b[39mindexingDirective\u001b[39m\u001b[39m\"\u001b[39m] \u001b[39m=\u001b[39m indexing_directive\n\u001b[1;32m--> 570\u001b[0m result \u001b[39m=\u001b[39m \u001b[39mself\u001b[39m\u001b[39m.\u001b[39mclient_connection\u001b[39m.\u001b[39mCreateItem(\n\u001b[0;32m    571\u001b[0m     database_or_container_link\u001b[39m=\u001b[39m\u001b[39mself\u001b[39m\u001b[39m.\u001b[39mcontainer_link, document\u001b[39m=\u001b[39mbody, options\u001b[39m=\u001b[39mrequest_options, \u001b[39m*\u001b[39m\u001b[39m*\u001b[39mkwargs\n\u001b[0;32m    572\u001b[0m )\n\u001b[0;32m    573\u001b[0m \u001b[39mif\u001b[39;00m response_hook:\n\u001b[0;32m    574\u001b[0m     response_hook(\u001b[39mself\u001b[39m\u001b[39m.\u001b[39mclient_connection\u001b[39m.\u001b[39mlast_response_headers, result)\n",
      "File \u001b[1;32m~\\AppData\\Local\\Packages\\PythonSoftwareFoundation.Python.3.10_qbz5n2kfra8p0\\LocalCache\\local-packages\\Python310\\site-packages\\azure\\cosmos\\_cosmos_client_connection.py:1126\u001b[0m, in \u001b[0;36mCosmosClientConnection.CreateItem\u001b[1;34m(self, database_or_container_link, document, options, **kwargs)\u001b[0m\n\u001b[0;32m   1123\u001b[0m \u001b[39mif\u001b[39;00m base\u001b[39m.\u001b[39mIsItemContainerLink(database_or_container_link):\n\u001b[0;32m   1124\u001b[0m     options \u001b[39m=\u001b[39m \u001b[39mself\u001b[39m\u001b[39m.\u001b[39m_AddPartitionKey(database_or_container_link, document, options)\n\u001b[1;32m-> 1126\u001b[0m \u001b[39mreturn\u001b[39;00m \u001b[39mself\u001b[39m\u001b[39m.\u001b[39mCreate(document, path, \u001b[39m\"\u001b[39m\u001b[39mdocs\u001b[39m\u001b[39m\"\u001b[39m, collection_id, \u001b[39mNone\u001b[39;00m, options, \u001b[39m*\u001b[39m\u001b[39m*\u001b[39mkwargs)\n",
      "File \u001b[1;32m~\\AppData\\Local\\Packages\\PythonSoftwareFoundation.Python.3.10_qbz5n2kfra8p0\\LocalCache\\local-packages\\Python310\\site-packages\\azure\\cosmos\\_cosmos_client_connection.py:2108\u001b[0m, in \u001b[0;36mCosmosClientConnection.Create\u001b[1;34m(self, body, path, typ, id, initial_headers, options, **kwargs)\u001b[0m\n\u001b[0;32m   2105\u001b[0m \u001b[39m# Create will use WriteEndpoint since it uses POST operation\u001b[39;00m\n\u001b[0;32m   2107\u001b[0m request_params \u001b[39m=\u001b[39m _request_object\u001b[39m.\u001b[39mRequestObject(typ, documents\u001b[39m.\u001b[39m_OperationType\u001b[39m.\u001b[39mCreate)\n\u001b[1;32m-> 2108\u001b[0m result, \u001b[39mself\u001b[39m\u001b[39m.\u001b[39mlast_response_headers \u001b[39m=\u001b[39m \u001b[39mself\u001b[39m\u001b[39m.\u001b[39m__Post(path, request_params, body, headers, \u001b[39m*\u001b[39m\u001b[39m*\u001b[39mkwargs)\n\u001b[0;32m   2110\u001b[0m \u001b[39m# update session for write request\u001b[39;00m\n\u001b[0;32m   2111\u001b[0m \u001b[39mself\u001b[39m\u001b[39m.\u001b[39m_UpdateSessionIfRequired(headers, result, \u001b[39mself\u001b[39m\u001b[39m.\u001b[39mlast_response_headers)\n",
      "File \u001b[1;32m~\\AppData\\Local\\Packages\\PythonSoftwareFoundation.Python.3.10_qbz5n2kfra8p0\\LocalCache\\local-packages\\Python310\\site-packages\\azure\\cosmos\\_cosmos_client_connection.py:2274\u001b[0m, in \u001b[0;36mCosmosClientConnection.__Post\u001b[1;34m(self, path, request_params, body, req_headers, **kwargs)\u001b[0m\n\u001b[0;32m   2260\u001b[0m \u001b[39m\"\"\"Azure Cosmos 'POST' http request.\u001b[39;00m\n\u001b[0;32m   2261\u001b[0m \n\u001b[0;32m   2262\u001b[0m \u001b[39m:params str url:\u001b[39;00m\n\u001b[1;32m   (...)\u001b[0m\n\u001b[0;32m   2271\u001b[0m \n\u001b[0;32m   2272\u001b[0m \u001b[39m\"\"\"\u001b[39;00m\n\u001b[0;32m   2273\u001b[0m request \u001b[39m=\u001b[39m \u001b[39mself\u001b[39m\u001b[39m.\u001b[39mpipeline_client\u001b[39m.\u001b[39mpost(url\u001b[39m=\u001b[39mpath, headers\u001b[39m=\u001b[39mreq_headers)\n\u001b[1;32m-> 2274\u001b[0m \u001b[39mreturn\u001b[39;00m synchronized_request\u001b[39m.\u001b[39mSynchronizedRequest(\n\u001b[0;32m   2275\u001b[0m     client\u001b[39m=\u001b[39m\u001b[39mself\u001b[39m,\n\u001b[0;32m   2276\u001b[0m     request_params\u001b[39m=\u001b[39mrequest_params,\n\u001b[0;32m   2277\u001b[0m     global_endpoint_manager\u001b[39m=\u001b[39m\u001b[39mself\u001b[39m\u001b[39m.\u001b[39m_global_endpoint_manager,\n\u001b[0;32m   2278\u001b[0m     connection_policy\u001b[39m=\u001b[39m\u001b[39mself\u001b[39m\u001b[39m.\u001b[39mconnection_policy,\n\u001b[0;32m   2279\u001b[0m     pipeline_client\u001b[39m=\u001b[39m\u001b[39mself\u001b[39m\u001b[39m.\u001b[39mpipeline_client,\n\u001b[0;32m   2280\u001b[0m     request\u001b[39m=\u001b[39mrequest,\n\u001b[0;32m   2281\u001b[0m     request_data\u001b[39m=\u001b[39mbody,\n\u001b[0;32m   2282\u001b[0m     \u001b[39m*\u001b[39m\u001b[39m*\u001b[39mkwargs\n\u001b[0;32m   2283\u001b[0m )\n",
      "File \u001b[1;32m~\\AppData\\Local\\Packages\\PythonSoftwareFoundation.Python.3.10_qbz5n2kfra8p0\\LocalCache\\local-packages\\Python310\\site-packages\\azure\\cosmos\\_synchronized_request.py:206\u001b[0m, in \u001b[0;36mSynchronizedRequest\u001b[1;34m(client, request_params, global_endpoint_manager, connection_policy, pipeline_client, request, request_data, **kwargs)\u001b[0m\n\u001b[0;32m    203\u001b[0m     request\u001b[39m.\u001b[39mheaders[http_constants\u001b[39m.\u001b[39mHttpHeaders\u001b[39m.\u001b[39mContentLength] \u001b[39m=\u001b[39m \u001b[39m0\u001b[39m\n\u001b[0;32m    205\u001b[0m \u001b[39m# Pass _Request function with it's parameters to retry_utility's Execute method that wraps the call with retries\u001b[39;00m\n\u001b[1;32m--> 206\u001b[0m \u001b[39mreturn\u001b[39;00m _retry_utility\u001b[39m.\u001b[39mExecute(\n\u001b[0;32m    207\u001b[0m     client,\n\u001b[0;32m    208\u001b[0m     global_endpoint_manager,\n\u001b[0;32m    209\u001b[0m     _Request,\n\u001b[0;32m    210\u001b[0m     request_params,\n\u001b[0;32m    211\u001b[0m     connection_policy,\n\u001b[0;32m    212\u001b[0m     pipeline_client,\n\u001b[0;32m    213\u001b[0m     request,\n\u001b[0;32m    214\u001b[0m     \u001b[39m*\u001b[39m\u001b[39m*\u001b[39mkwargs\n\u001b[0;32m    215\u001b[0m )\n",
      "File \u001b[1;32m~\\AppData\\Local\\Packages\\PythonSoftwareFoundation.Python.3.10_qbz5n2kfra8p0\\LocalCache\\local-packages\\Python310\\site-packages\\azure\\cosmos\\_retry_utility.py:126\u001b[0m, in \u001b[0;36mExecute\u001b[1;34m(client, global_endpoint_manager, function, *args, **kwargs)\u001b[0m\n\u001b[0;32m    123\u001b[0m     \u001b[39mraise\u001b[39;00m\n\u001b[0;32m    125\u001b[0m \u001b[39m# Wait for retry_after_in_milliseconds time before the next retry\u001b[39;00m\n\u001b[1;32m--> 126\u001b[0m time\u001b[39m.\u001b[39;49msleep(retry_policy\u001b[39m.\u001b[39;49mretry_after_in_milliseconds \u001b[39m/\u001b[39;49m \u001b[39m1000.0\u001b[39;49m)\n\u001b[0;32m    127\u001b[0m \u001b[39mif\u001b[39;00m client_timeout:\n\u001b[0;32m    128\u001b[0m     kwargs[\u001b[39m'\u001b[39m\u001b[39mtimeout\u001b[39m\u001b[39m'\u001b[39m] \u001b[39m=\u001b[39m client_timeout \u001b[39m-\u001b[39m (time\u001b[39m.\u001b[39mtime() \u001b[39m-\u001b[39m start_time)\n",
      "\u001b[1;31mKeyboardInterrupt\u001b[0m: "
     ]
    }
   ],
   "source": [
    "RUCharges = []\n",
    "docs = []\n",
    "maxRange = 1000\n",
    "\n",
    "for j in range(maxRange):\n",
    "    IOTSrc = IOTSources[fake.random_int(min=0, max=9999)]    \n",
    "    readings = []\n",
    "\n",
    "    # *** Produce N readings\n",
    "    # Execute this repeatedly by changing range from 1, 100, 1000 and 10000\n",
    "    for r in range(1000):        \n",
    "        readings.append(\n",
    "            {\n",
    "                'Dimension': fake.random_element(elements=('D1', 'D2', 'D3', 'D4', 'D5', 'D6', 'D7', 'D8', 'D9'))\n",
    "                , 'Value': fake.random_number(digits=5)\n",
    "                , 'Timestamp': fake.date_time_this_year().isoformat()\n",
    "            })\n",
    "\n",
    "    doc = {\n",
    "        'id': str(uuid.uuid4())\n",
    "        , 'PartitionKey': fake.bothify('##_') + IOTSrc['Name'] + '_' + IOTSrc['Type']\n",
    "        , 'Entity': IOTSrc\n",
    "        , 'Readings': readings\n",
    "        , 'class': fake.random_element(elements=OrderedDict([(\"A\", 0.40), (\"B\", 0.35), (\"C\", 0.15), (\"D\", 0.05), (\"E\", 0.05)]))\n",
    "    }\n",
    "\n",
    "    # Create items, record charges and store docs locally (optional)\n",
    "    # print(doc)\n",
    "    ctr.create_item(doc)\n",
    "    RUCharges.append(float(ctr.client_connection.last_response_headers['x-ms-request-charge']))\n",
    "    # print(ctr.client_connection.last_response_headers['x-ms-request-charge'])\n",
    "    docs.append(doc)\n",
    "\n",
    "with open('./OutputFiles/' + containerName + '_1000docs.json', 'w') as jf:\n",
    "    for d in docs:\n",
    "        json.dump(d, jf)\n",
    "        jf.write(',\\n')"
   ]
  },
  {
   "cell_type": "code",
   "execution_count": 10,
   "metadata": {},
   "outputs": [
    {
     "name": "stdout",
     "output_type": "stream",
     "text": [
      "Average RU charge: 624.0\n"
     ]
    }
   ],
   "source": [
    "print('Average RU charge: ' + str(sum(RUCharges) / len(RUCharges)))"
   ]
  },
  {
   "cell_type": "code",
   "execution_count": 7,
   "metadata": {},
   "outputs": [
    {
     "ename": "CosmosHttpResponseError",
     "evalue": "(429) Message: {\"Errors\":[\"Request rate is large. More Request Units may be needed, so no changes were made. Please retry this request later. Learn more: http://aka.ms/cosmosdb-error-429\"]}\r\nActivityId: eddbb7e1-1287-41ff-b220-a1b381a55ce3, Request URI: /apps/38bfe303-da54-4990-99d7-2e697e386886/services/ded8d209-afd6-4758-a06d-9adabc3d0df8/partitions/300bc55c-bca2-46c6-9ed3-68059f435abe/replicas/133151112070723957p/, RequestStats: \r\nRequestStartTime: 2023-01-31T14:47:07.3963717Z, RequestEndTime: 2023-01-31T14:47:07.3963717Z,  Number of regions attempted:1\r\n{\"systemHistory\":[{\"dateUtc\":\"2023-01-31T14:46:11.6259969Z\",\"cpu\":0.195,\"memory\":440055952.000,\"threadInfo\":{\"isThreadStarving\":\"False\",\"threadWaitIntervalInMs\":0.0123,\"availableThreads\":32763,\"minThreads\":64,\"maxThreads\":32767},\"numberOfOpenTcpConnection\":1087},{\"dateUtc\":\"2023-01-31T14:46:21.6360656Z\",\"cpu\":0.246,\"memory\":440037164.000,\"threadInfo\":{\"isThreadStarving\":\"False\",\"threadWaitIntervalInMs\":0.0161,\"availableThreads\":32764,\"minThreads\":64,\"maxThreads\":32767},\"numberOfOpenTcpConnection\":1087},{\"dateUtc\":\"2023-01-31T14:46:31.6561386Z\",\"cpu\":0.280,\"memory\":440019768.000,\"threadInfo\":{\"isThreadStarving\":\"False\",\"threadWaitIntervalInMs\":0.0177,\"availableThreads\":32762,\"minThreads\":64,\"maxThreads\":32767},\"numberOfOpenTcpConnection\":1087},{\"dateUtc\":\"2023-01-31T14:46:41.6662109Z\",\"cpu\":0.183,\"memory\":440032060.000,\"threadInfo\":{\"isThreadStarving\":\"False\",\"threadWaitIntervalInMs\":0.0194,\"availableThreads\":32764,\"minThreads\":64,\"maxThreads\":32767},\"numberOfOpenTcpConnection\":1087},{\"dateUtc\":\"2023-01-31T14:46:51.6862749Z\",\"cpu\":0.305,\"memory\":440021544.000,\"threadInfo\":{\"isThreadStarving\":\"False\",\"threadWaitIntervalInMs\":0.0143,\"availableThreads\":32763,\"minThreads\":64,\"maxThreads\":32767},\"numberOfOpenTcpConnection\":1087},{\"dateUtc\":\"2023-01-31T14:47:01.6963339Z\",\"cpu\":0.268,\"memory\":440023132.000,\"threadInfo\":{\"isThreadStarving\":\"False\",\"threadWaitIntervalInMs\":0.0148,\"availableThreads\":32764,\"minThreads\":64,\"maxThreads\":32767},\"numberOfOpenTcpConnection\":1087}]}\r\nRequestStart: 2023-01-31T14:47:07.3963717Z; ResponseTime: 2023-01-31T14:47:07.3963717Z; StoreResult: StorePhysicalAddress: rntbd://cdb-ms-prod-southcentralus1-be21.documents.azure.com:14046/apps/38bfe303-da54-4990-99d7-2e697e386886/services/ded8d209-afd6-4758-a06d-9adabc3d0df8/partitions/300bc55c-bca2-46c6-9ed3-68059f435abe/replicas/133151112070723957p/, LSN: 1511, GlobalCommittedLsn: 1511, PartitionKeyRangeId: , IsValid: True, StatusCode: 429, SubStatusCode: 3200, RequestCharge: 0.38, ItemLSN: -1, SessionToken: , UsingLocalLSN: False, TransportException: null, BELatencyMs: , ActivityId: eddbb7e1-1287-41ff-b220-a1b381a55ce3, RetryAfterInMs: 9321, TransportRequestTimeline: {\"requestTimeline\":[{\"event\": \"Created\", \"startTimeUtc\": \"2023-01-31T14:47:07.3963717Z\", \"durationInMs\": 0.0095},{\"event\": \"ChannelAcquisitionStarted\", \"startTimeUtc\": \"2023-01-31T14:47:07.3963812Z\", \"durationInMs\": 0.0073},{\"event\": \"Pipelined\", \"startTimeUtc\": \"2023-01-31T14:47:07.3963885Z\", \"durationInMs\": 1.506},{\"event\": \"Transit Time\", \"startTimeUtc\": \"2023-01-31T14:47:07.3978945Z\", \"durationInMs\": -1.0317},{\"event\": \"Received\", \"startTimeUtc\": \"2023-01-31T14:47:07.3968628Z\", \"durationInMs\": 1.0435},{\"event\": \"Completed\", \"startTimeUtc\": \"2023-01-31T14:47:07.3979063Z\", \"durationInMs\": 0}],\"serviceEndpointStats\":{\"inflightRequests\":1,\"openConnections\":1},\"connectionStats\":{\"waitforConnectionInit\":\"False\",\"callsPendingReceive\":0,\"lastSendAttempt\":\"2023-01-31T14:46:01.6359413Z\",\"lastSend\":\"2023-01-31T14:46:01.6359413Z\",\"lastReceive\":\"2023-01-31T14:46:01.6359413Z\"},\"requestSizeInBytes\":669596,\"requestBodySizeInBytes\":669051,\"responseMetadataSizeInBytes\":127,\"responseBodySizeInBytes\":174};\r\n ResourceType: Document, OperationType: Create\r\n, SDK: Microsoft.Azure.Documents.Common/2.14.0\nCode: 429\nMessage: Message: {\"Errors\":[\"Request rate is large. More Request Units may be needed, so no changes were made. Please retry this request later. Learn more: http://aka.ms/cosmosdb-error-429\"]}\r\nActivityId: eddbb7e1-1287-41ff-b220-a1b381a55ce3, Request URI: /apps/38bfe303-da54-4990-99d7-2e697e386886/services/ded8d209-afd6-4758-a06d-9adabc3d0df8/partitions/300bc55c-bca2-46c6-9ed3-68059f435abe/replicas/133151112070723957p/, RequestStats: \r\nRequestStartTime: 2023-01-31T14:47:07.3963717Z, RequestEndTime: 2023-01-31T14:47:07.3963717Z,  Number of regions attempted:1\r\n{\"systemHistory\":[{\"dateUtc\":\"2023-01-31T14:46:11.6259969Z\",\"cpu\":0.195,\"memory\":440055952.000,\"threadInfo\":{\"isThreadStarving\":\"False\",\"threadWaitIntervalInMs\":0.0123,\"availableThreads\":32763,\"minThreads\":64,\"maxThreads\":32767},\"numberOfOpenTcpConnection\":1087},{\"dateUtc\":\"2023-01-31T14:46:21.6360656Z\",\"cpu\":0.246,\"memory\":440037164.000,\"threadInfo\":{\"isThreadStarving\":\"False\",\"threadWaitIntervalInMs\":0.0161,\"availableThreads\":32764,\"minThreads\":64,\"maxThreads\":32767},\"numberOfOpenTcpConnection\":1087},{\"dateUtc\":\"2023-01-31T14:46:31.6561386Z\",\"cpu\":0.280,\"memory\":440019768.000,\"threadInfo\":{\"isThreadStarving\":\"False\",\"threadWaitIntervalInMs\":0.0177,\"availableThreads\":32762,\"minThreads\":64,\"maxThreads\":32767},\"numberOfOpenTcpConnection\":1087},{\"dateUtc\":\"2023-01-31T14:46:41.6662109Z\",\"cpu\":0.183,\"memory\":440032060.000,\"threadInfo\":{\"isThreadStarving\":\"False\",\"threadWaitIntervalInMs\":0.0194,\"availableThreads\":32764,\"minThreads\":64,\"maxThreads\":32767},\"numberOfOpenTcpConnection\":1087},{\"dateUtc\":\"2023-01-31T14:46:51.6862749Z\",\"cpu\":0.305,\"memory\":440021544.000,\"threadInfo\":{\"isThreadStarving\":\"False\",\"threadWaitIntervalInMs\":0.0143,\"availableThreads\":32763,\"minThreads\":64,\"maxThreads\":32767},\"numberOfOpenTcpConnection\":1087},{\"dateUtc\":\"2023-01-31T14:47:01.6963339Z\",\"cpu\":0.268,\"memory\":440023132.000,\"threadInfo\":{\"isThreadStarving\":\"False\",\"threadWaitIntervalInMs\":0.0148,\"availableThreads\":32764,\"minThreads\":64,\"maxThreads\":32767},\"numberOfOpenTcpConnection\":1087}]}\r\nRequestStart: 2023-01-31T14:47:07.3963717Z; ResponseTime: 2023-01-31T14:47:07.3963717Z; StoreResult: StorePhysicalAddress: rntbd://cdb-ms-prod-southcentralus1-be21.documents.azure.com:14046/apps/38bfe303-da54-4990-99d7-2e697e386886/services/ded8d209-afd6-4758-a06d-9adabc3d0df8/partitions/300bc55c-bca2-46c6-9ed3-68059f435abe/replicas/133151112070723957p/, LSN: 1511, GlobalCommittedLsn: 1511, PartitionKeyRangeId: , IsValid: True, StatusCode: 429, SubStatusCode: 3200, RequestCharge: 0.38, ItemLSN: -1, SessionToken: , UsingLocalLSN: False, TransportException: null, BELatencyMs: , ActivityId: eddbb7e1-1287-41ff-b220-a1b381a55ce3, RetryAfterInMs: 9321, TransportRequestTimeline: {\"requestTimeline\":[{\"event\": \"Created\", \"startTimeUtc\": \"2023-01-31T14:47:07.3963717Z\", \"durationInMs\": 0.0095},{\"event\": \"ChannelAcquisitionStarted\", \"startTimeUtc\": \"2023-01-31T14:47:07.3963812Z\", \"durationInMs\": 0.0073},{\"event\": \"Pipelined\", \"startTimeUtc\": \"2023-01-31T14:47:07.3963885Z\", \"durationInMs\": 1.506},{\"event\": \"Transit Time\", \"startTimeUtc\": \"2023-01-31T14:47:07.3978945Z\", \"durationInMs\": -1.0317},{\"event\": \"Received\", \"startTimeUtc\": \"2023-01-31T14:47:07.3968628Z\", \"durationInMs\": 1.0435},{\"event\": \"Completed\", \"startTimeUtc\": \"2023-01-31T14:47:07.3979063Z\", \"durationInMs\": 0}],\"serviceEndpointStats\":{\"inflightRequests\":1,\"openConnections\":1},\"connectionStats\":{\"waitforConnectionInit\":\"False\",\"callsPendingReceive\":0,\"lastSendAttempt\":\"2023-01-31T14:46:01.6359413Z\",\"lastSend\":\"2023-01-31T14:46:01.6359413Z\",\"lastReceive\":\"2023-01-31T14:46:01.6359413Z\"},\"requestSizeInBytes\":669596,\"requestBodySizeInBytes\":669051,\"responseMetadataSizeInBytes\":127,\"responseBodySizeInBytes\":174};\r\n ResourceType: Document, OperationType: Create\r\n, SDK: Microsoft.Azure.Documents.Common/2.14.0",
     "output_type": "error",
     "traceback": [
      "\u001b[1;31m---------------------------------------------------------------------------\u001b[0m",
      "\u001b[1;31mCosmosHttpResponseError\u001b[0m                   Traceback (most recent call last)",
      "Cell \u001b[1;32mIn[7], line 29\u001b[0m\n\u001b[0;32m     19\u001b[0m doc \u001b[39m=\u001b[39m {\n\u001b[0;32m     20\u001b[0m     \u001b[39m'\u001b[39m\u001b[39mid\u001b[39m\u001b[39m'\u001b[39m: \u001b[39mstr\u001b[39m(uuid\u001b[39m.\u001b[39muuid4())\n\u001b[0;32m     21\u001b[0m     , \u001b[39m'\u001b[39m\u001b[39mPartitionKey\u001b[39m\u001b[39m'\u001b[39m: fake\u001b[39m.\u001b[39mbothify(\u001b[39m'\u001b[39m\u001b[39m##_\u001b[39m\u001b[39m'\u001b[39m) \u001b[39m+\u001b[39m IOTSrc[\u001b[39m'\u001b[39m\u001b[39mName\u001b[39m\u001b[39m'\u001b[39m] \u001b[39m+\u001b[39m \u001b[39m'\u001b[39m\u001b[39m_\u001b[39m\u001b[39m'\u001b[39m \u001b[39m+\u001b[39m IOTSrc[\u001b[39m'\u001b[39m\u001b[39mType\u001b[39m\u001b[39m'\u001b[39m]\n\u001b[1;32m   (...)\u001b[0m\n\u001b[0;32m     24\u001b[0m     , \u001b[39m'\u001b[39m\u001b[39mclass\u001b[39m\u001b[39m'\u001b[39m: fake\u001b[39m.\u001b[39mrandom_element(elements\u001b[39m=\u001b[39mOrderedDict([(\u001b[39m\"\u001b[39m\u001b[39mA\u001b[39m\u001b[39m\"\u001b[39m, \u001b[39m0.40\u001b[39m), (\u001b[39m\"\u001b[39m\u001b[39mB\u001b[39m\u001b[39m\"\u001b[39m, \u001b[39m0.35\u001b[39m), (\u001b[39m\"\u001b[39m\u001b[39mC\u001b[39m\u001b[39m\"\u001b[39m, \u001b[39m0.15\u001b[39m), (\u001b[39m\"\u001b[39m\u001b[39mD\u001b[39m\u001b[39m\"\u001b[39m, \u001b[39m0.05\u001b[39m), (\u001b[39m\"\u001b[39m\u001b[39mE\u001b[39m\u001b[39m\"\u001b[39m, \u001b[39m0.05\u001b[39m)]))\n\u001b[0;32m     25\u001b[0m }\n\u001b[0;32m     27\u001b[0m \u001b[39m# Create items, record charges and store docs locally (optional)\u001b[39;00m\n\u001b[0;32m     28\u001b[0m \u001b[39m# print(doc)\u001b[39;00m\n\u001b[1;32m---> 29\u001b[0m ctr\u001b[39m.\u001b[39;49mcreate_item(doc)\n\u001b[0;32m     30\u001b[0m RUCharges\u001b[39m.\u001b[39mappend(\u001b[39mfloat\u001b[39m(ctr\u001b[39m.\u001b[39mclient_connection\u001b[39m.\u001b[39mlast_response_headers[\u001b[39m'\u001b[39m\u001b[39mx-ms-request-charge\u001b[39m\u001b[39m'\u001b[39m]))\n\u001b[0;32m     31\u001b[0m \u001b[39m# print(ctr.client_connection.last_response_headers['x-ms-request-charge'])\u001b[39;00m\n",
      "File \u001b[1;32m~\\AppData\\Local\\Packages\\PythonSoftwareFoundation.Python.3.10_qbz5n2kfra8p0\\LocalCache\\local-packages\\Python310\\site-packages\\azure\\core\\tracing\\decorator.py:78\u001b[0m, in \u001b[0;36mdistributed_trace.<locals>.decorator.<locals>.wrapper_use_tracer\u001b[1;34m(*args, **kwargs)\u001b[0m\n\u001b[0;32m     76\u001b[0m span_impl_type \u001b[39m=\u001b[39m settings\u001b[39m.\u001b[39mtracing_implementation()\n\u001b[0;32m     77\u001b[0m \u001b[39mif\u001b[39;00m span_impl_type \u001b[39mis\u001b[39;00m \u001b[39mNone\u001b[39;00m:\n\u001b[1;32m---> 78\u001b[0m     \u001b[39mreturn\u001b[39;00m func(\u001b[39m*\u001b[39margs, \u001b[39m*\u001b[39m\u001b[39m*\u001b[39mkwargs)\n\u001b[0;32m     80\u001b[0m \u001b[39m# Merge span is parameter is set, but only if no explicit parent are passed\u001b[39;00m\n\u001b[0;32m     81\u001b[0m \u001b[39mif\u001b[39;00m merge_span \u001b[39mand\u001b[39;00m \u001b[39mnot\u001b[39;00m passed_in_parent:\n",
      "File \u001b[1;32m~\\AppData\\Local\\Packages\\PythonSoftwareFoundation.Python.3.10_qbz5n2kfra8p0\\LocalCache\\local-packages\\Python310\\site-packages\\azure\\cosmos\\container.py:570\u001b[0m, in \u001b[0;36mContainerProxy.create_item\u001b[1;34m(self, body, populate_query_metrics, pre_trigger_include, post_trigger_include, indexing_directive, **kwargs)\u001b[0m\n\u001b[0;32m    567\u001b[0m \u001b[39mif\u001b[39;00m indexing_directive \u001b[39mis\u001b[39;00m \u001b[39mnot\u001b[39;00m \u001b[39mNone\u001b[39;00m:\n\u001b[0;32m    568\u001b[0m     request_options[\u001b[39m\"\u001b[39m\u001b[39mindexingDirective\u001b[39m\u001b[39m\"\u001b[39m] \u001b[39m=\u001b[39m indexing_directive\n\u001b[1;32m--> 570\u001b[0m result \u001b[39m=\u001b[39m \u001b[39mself\u001b[39m\u001b[39m.\u001b[39mclient_connection\u001b[39m.\u001b[39mCreateItem(\n\u001b[0;32m    571\u001b[0m     database_or_container_link\u001b[39m=\u001b[39m\u001b[39mself\u001b[39m\u001b[39m.\u001b[39mcontainer_link, document\u001b[39m=\u001b[39mbody, options\u001b[39m=\u001b[39mrequest_options, \u001b[39m*\u001b[39m\u001b[39m*\u001b[39mkwargs\n\u001b[0;32m    572\u001b[0m )\n\u001b[0;32m    573\u001b[0m \u001b[39mif\u001b[39;00m response_hook:\n\u001b[0;32m    574\u001b[0m     response_hook(\u001b[39mself\u001b[39m\u001b[39m.\u001b[39mclient_connection\u001b[39m.\u001b[39mlast_response_headers, result)\n",
      "File \u001b[1;32m~\\AppData\\Local\\Packages\\PythonSoftwareFoundation.Python.3.10_qbz5n2kfra8p0\\LocalCache\\local-packages\\Python310\\site-packages\\azure\\cosmos\\_cosmos_client_connection.py:1126\u001b[0m, in \u001b[0;36mCosmosClientConnection.CreateItem\u001b[1;34m(self, database_or_container_link, document, options, **kwargs)\u001b[0m\n\u001b[0;32m   1123\u001b[0m \u001b[39mif\u001b[39;00m base\u001b[39m.\u001b[39mIsItemContainerLink(database_or_container_link):\n\u001b[0;32m   1124\u001b[0m     options \u001b[39m=\u001b[39m \u001b[39mself\u001b[39m\u001b[39m.\u001b[39m_AddPartitionKey(database_or_container_link, document, options)\n\u001b[1;32m-> 1126\u001b[0m \u001b[39mreturn\u001b[39;00m \u001b[39mself\u001b[39m\u001b[39m.\u001b[39mCreate(document, path, \u001b[39m\"\u001b[39m\u001b[39mdocs\u001b[39m\u001b[39m\"\u001b[39m, collection_id, \u001b[39mNone\u001b[39;00m, options, \u001b[39m*\u001b[39m\u001b[39m*\u001b[39mkwargs)\n",
      "File \u001b[1;32m~\\AppData\\Local\\Packages\\PythonSoftwareFoundation.Python.3.10_qbz5n2kfra8p0\\LocalCache\\local-packages\\Python310\\site-packages\\azure\\cosmos\\_cosmos_client_connection.py:2108\u001b[0m, in \u001b[0;36mCosmosClientConnection.Create\u001b[1;34m(self, body, path, typ, id, initial_headers, options, **kwargs)\u001b[0m\n\u001b[0;32m   2105\u001b[0m \u001b[39m# Create will use WriteEndpoint since it uses POST operation\u001b[39;00m\n\u001b[0;32m   2107\u001b[0m request_params \u001b[39m=\u001b[39m _request_object\u001b[39m.\u001b[39mRequestObject(typ, documents\u001b[39m.\u001b[39m_OperationType\u001b[39m.\u001b[39mCreate)\n\u001b[1;32m-> 2108\u001b[0m result, \u001b[39mself\u001b[39m\u001b[39m.\u001b[39mlast_response_headers \u001b[39m=\u001b[39m \u001b[39mself\u001b[39m\u001b[39m.\u001b[39m__Post(path, request_params, body, headers, \u001b[39m*\u001b[39m\u001b[39m*\u001b[39mkwargs)\n\u001b[0;32m   2110\u001b[0m \u001b[39m# update session for write request\u001b[39;00m\n\u001b[0;32m   2111\u001b[0m \u001b[39mself\u001b[39m\u001b[39m.\u001b[39m_UpdateSessionIfRequired(headers, result, \u001b[39mself\u001b[39m\u001b[39m.\u001b[39mlast_response_headers)\n",
      "File \u001b[1;32m~\\AppData\\Local\\Packages\\PythonSoftwareFoundation.Python.3.10_qbz5n2kfra8p0\\LocalCache\\local-packages\\Python310\\site-packages\\azure\\cosmos\\_cosmos_client_connection.py:2274\u001b[0m, in \u001b[0;36mCosmosClientConnection.__Post\u001b[1;34m(self, path, request_params, body, req_headers, **kwargs)\u001b[0m\n\u001b[0;32m   2260\u001b[0m \u001b[39m\"\"\"Azure Cosmos 'POST' http request.\u001b[39;00m\n\u001b[0;32m   2261\u001b[0m \n\u001b[0;32m   2262\u001b[0m \u001b[39m:params str url:\u001b[39;00m\n\u001b[1;32m   (...)\u001b[0m\n\u001b[0;32m   2271\u001b[0m \n\u001b[0;32m   2272\u001b[0m \u001b[39m\"\"\"\u001b[39;00m\n\u001b[0;32m   2273\u001b[0m request \u001b[39m=\u001b[39m \u001b[39mself\u001b[39m\u001b[39m.\u001b[39mpipeline_client\u001b[39m.\u001b[39mpost(url\u001b[39m=\u001b[39mpath, headers\u001b[39m=\u001b[39mreq_headers)\n\u001b[1;32m-> 2274\u001b[0m \u001b[39mreturn\u001b[39;00m synchronized_request\u001b[39m.\u001b[39mSynchronizedRequest(\n\u001b[0;32m   2275\u001b[0m     client\u001b[39m=\u001b[39m\u001b[39mself\u001b[39m,\n\u001b[0;32m   2276\u001b[0m     request_params\u001b[39m=\u001b[39mrequest_params,\n\u001b[0;32m   2277\u001b[0m     global_endpoint_manager\u001b[39m=\u001b[39m\u001b[39mself\u001b[39m\u001b[39m.\u001b[39m_global_endpoint_manager,\n\u001b[0;32m   2278\u001b[0m     connection_policy\u001b[39m=\u001b[39m\u001b[39mself\u001b[39m\u001b[39m.\u001b[39mconnection_policy,\n\u001b[0;32m   2279\u001b[0m     pipeline_client\u001b[39m=\u001b[39m\u001b[39mself\u001b[39m\u001b[39m.\u001b[39mpipeline_client,\n\u001b[0;32m   2280\u001b[0m     request\u001b[39m=\u001b[39mrequest,\n\u001b[0;32m   2281\u001b[0m     request_data\u001b[39m=\u001b[39mbody,\n\u001b[0;32m   2282\u001b[0m     \u001b[39m*\u001b[39m\u001b[39m*\u001b[39mkwargs\n\u001b[0;32m   2283\u001b[0m )\n",
      "File \u001b[1;32m~\\AppData\\Local\\Packages\\PythonSoftwareFoundation.Python.3.10_qbz5n2kfra8p0\\LocalCache\\local-packages\\Python310\\site-packages\\azure\\cosmos\\_synchronized_request.py:206\u001b[0m, in \u001b[0;36mSynchronizedRequest\u001b[1;34m(client, request_params, global_endpoint_manager, connection_policy, pipeline_client, request, request_data, **kwargs)\u001b[0m\n\u001b[0;32m    203\u001b[0m     request\u001b[39m.\u001b[39mheaders[http_constants\u001b[39m.\u001b[39mHttpHeaders\u001b[39m.\u001b[39mContentLength] \u001b[39m=\u001b[39m \u001b[39m0\u001b[39m\n\u001b[0;32m    205\u001b[0m \u001b[39m# Pass _Request function with it's parameters to retry_utility's Execute method that wraps the call with retries\u001b[39;00m\n\u001b[1;32m--> 206\u001b[0m \u001b[39mreturn\u001b[39;00m _retry_utility\u001b[39m.\u001b[39mExecute(\n\u001b[0;32m    207\u001b[0m     client,\n\u001b[0;32m    208\u001b[0m     global_endpoint_manager,\n\u001b[0;32m    209\u001b[0m     _Request,\n\u001b[0;32m    210\u001b[0m     request_params,\n\u001b[0;32m    211\u001b[0m     connection_policy,\n\u001b[0;32m    212\u001b[0m     pipeline_client,\n\u001b[0;32m    213\u001b[0m     request,\n\u001b[0;32m    214\u001b[0m     \u001b[39m*\u001b[39m\u001b[39m*\u001b[39mkwargs\n\u001b[0;32m    215\u001b[0m )\n",
      "File \u001b[1;32m~\\AppData\\Local\\Packages\\PythonSoftwareFoundation.Python.3.10_qbz5n2kfra8p0\\LocalCache\\local-packages\\Python310\\site-packages\\azure\\cosmos\\_retry_utility.py:77\u001b[0m, in \u001b[0;36mExecute\u001b[1;34m(client, global_endpoint_manager, function, *args, **kwargs)\u001b[0m\n\u001b[0;32m     75\u001b[0m start_time \u001b[39m=\u001b[39m time\u001b[39m.\u001b[39mtime()\n\u001b[0;32m     76\u001b[0m \u001b[39mif\u001b[39;00m args:\n\u001b[1;32m---> 77\u001b[0m     result \u001b[39m=\u001b[39m ExecuteFunction(function, global_endpoint_manager, \u001b[39m*\u001b[39margs, \u001b[39m*\u001b[39m\u001b[39m*\u001b[39mkwargs)\n\u001b[0;32m     78\u001b[0m \u001b[39melse\u001b[39;00m:\n\u001b[0;32m     79\u001b[0m     result \u001b[39m=\u001b[39m ExecuteFunction(function, \u001b[39m*\u001b[39margs, \u001b[39m*\u001b[39m\u001b[39m*\u001b[39mkwargs)\n",
      "File \u001b[1;32m~\\AppData\\Local\\Packages\\PythonSoftwareFoundation.Python.3.10_qbz5n2kfra8p0\\LocalCache\\local-packages\\Python310\\site-packages\\azure\\cosmos\\_retry_utility.py:136\u001b[0m, in \u001b[0;36mExecuteFunction\u001b[1;34m(function, *args, **kwargs)\u001b[0m\n\u001b[0;32m    133\u001b[0m \u001b[39mdef\u001b[39;00m \u001b[39mExecuteFunction\u001b[39m(function, \u001b[39m*\u001b[39margs, \u001b[39m*\u001b[39m\u001b[39m*\u001b[39mkwargs):\n\u001b[0;32m    134\u001b[0m     \u001b[39m\"\"\"Stub method so that it can be used for mocking purposes as well.\u001b[39;00m\n\u001b[0;32m    135\u001b[0m \u001b[39m    \"\"\"\u001b[39;00m\n\u001b[1;32m--> 136\u001b[0m     \u001b[39mreturn\u001b[39;00m function(\u001b[39m*\u001b[39margs, \u001b[39m*\u001b[39m\u001b[39m*\u001b[39mkwargs)\n",
      "File \u001b[1;32m~\\AppData\\Local\\Packages\\PythonSoftwareFoundation.Python.3.10_qbz5n2kfra8p0\\LocalCache\\local-packages\\Python310\\site-packages\\azure\\cosmos\\_synchronized_request.py:154\u001b[0m, in \u001b[0;36m_Request\u001b[1;34m(global_endpoint_manager, request_params, connection_policy, pipeline_client, request, **kwargs)\u001b[0m\n\u001b[0;32m    152\u001b[0m     \u001b[39mraise\u001b[39;00m exceptions\u001b[39m.\u001b[39mCosmosAccessConditionFailedError(message\u001b[39m=\u001b[39mdata, response\u001b[39m=\u001b[39mresponse)\n\u001b[0;32m    153\u001b[0m \u001b[39mif\u001b[39;00m response\u001b[39m.\u001b[39mstatus_code \u001b[39m>\u001b[39m\u001b[39m=\u001b[39m \u001b[39m400\u001b[39m:\n\u001b[1;32m--> 154\u001b[0m     \u001b[39mraise\u001b[39;00m exceptions\u001b[39m.\u001b[39mCosmosHttpResponseError(message\u001b[39m=\u001b[39mdata, response\u001b[39m=\u001b[39mresponse)\n\u001b[0;32m    156\u001b[0m result \u001b[39m=\u001b[39m \u001b[39mNone\u001b[39;00m\n\u001b[0;32m    157\u001b[0m \u001b[39mif\u001b[39;00m data:\n",
      "\u001b[1;31mCosmosHttpResponseError\u001b[0m: (429) Message: {\"Errors\":[\"Request rate is large. More Request Units may be needed, so no changes were made. Please retry this request later. Learn more: http://aka.ms/cosmosdb-error-429\"]}\r\nActivityId: eddbb7e1-1287-41ff-b220-a1b381a55ce3, Request URI: /apps/38bfe303-da54-4990-99d7-2e697e386886/services/ded8d209-afd6-4758-a06d-9adabc3d0df8/partitions/300bc55c-bca2-46c6-9ed3-68059f435abe/replicas/133151112070723957p/, RequestStats: \r\nRequestStartTime: 2023-01-31T14:47:07.3963717Z, RequestEndTime: 2023-01-31T14:47:07.3963717Z,  Number of regions attempted:1\r\n{\"systemHistory\":[{\"dateUtc\":\"2023-01-31T14:46:11.6259969Z\",\"cpu\":0.195,\"memory\":440055952.000,\"threadInfo\":{\"isThreadStarving\":\"False\",\"threadWaitIntervalInMs\":0.0123,\"availableThreads\":32763,\"minThreads\":64,\"maxThreads\":32767},\"numberOfOpenTcpConnection\":1087},{\"dateUtc\":\"2023-01-31T14:46:21.6360656Z\",\"cpu\":0.246,\"memory\":440037164.000,\"threadInfo\":{\"isThreadStarving\":\"False\",\"threadWaitIntervalInMs\":0.0161,\"availableThreads\":32764,\"minThreads\":64,\"maxThreads\":32767},\"numberOfOpenTcpConnection\":1087},{\"dateUtc\":\"2023-01-31T14:46:31.6561386Z\",\"cpu\":0.280,\"memory\":440019768.000,\"threadInfo\":{\"isThreadStarving\":\"False\",\"threadWaitIntervalInMs\":0.0177,\"availableThreads\":32762,\"minThreads\":64,\"maxThreads\":32767},\"numberOfOpenTcpConnection\":1087},{\"dateUtc\":\"2023-01-31T14:46:41.6662109Z\",\"cpu\":0.183,\"memory\":440032060.000,\"threadInfo\":{\"isThreadStarving\":\"False\",\"threadWaitIntervalInMs\":0.0194,\"availableThreads\":32764,\"minThreads\":64,\"maxThreads\":32767},\"numberOfOpenTcpConnection\":1087},{\"dateUtc\":\"2023-01-31T14:46:51.6862749Z\",\"cpu\":0.305,\"memory\":440021544.000,\"threadInfo\":{\"isThreadStarving\":\"False\",\"threadWaitIntervalInMs\":0.0143,\"availableThreads\":32763,\"minThreads\":64,\"maxThreads\":32767},\"numberOfOpenTcpConnection\":1087},{\"dateUtc\":\"2023-01-31T14:47:01.6963339Z\",\"cpu\":0.268,\"memory\":440023132.000,\"threadInfo\":{\"isThreadStarving\":\"False\",\"threadWaitIntervalInMs\":0.0148,\"availableThreads\":32764,\"minThreads\":64,\"maxThreads\":32767},\"numberOfOpenTcpConnection\":1087}]}\r\nRequestStart: 2023-01-31T14:47:07.3963717Z; ResponseTime: 2023-01-31T14:47:07.3963717Z; StoreResult: StorePhysicalAddress: rntbd://cdb-ms-prod-southcentralus1-be21.documents.azure.com:14046/apps/38bfe303-da54-4990-99d7-2e697e386886/services/ded8d209-afd6-4758-a06d-9adabc3d0df8/partitions/300bc55c-bca2-46c6-9ed3-68059f435abe/replicas/133151112070723957p/, LSN: 1511, GlobalCommittedLsn: 1511, PartitionKeyRangeId: , IsValid: True, StatusCode: 429, SubStatusCode: 3200, RequestCharge: 0.38, ItemLSN: -1, SessionToken: , UsingLocalLSN: False, TransportException: null, BELatencyMs: , ActivityId: eddbb7e1-1287-41ff-b220-a1b381a55ce3, RetryAfterInMs: 9321, TransportRequestTimeline: {\"requestTimeline\":[{\"event\": \"Created\", \"startTimeUtc\": \"2023-01-31T14:47:07.3963717Z\", \"durationInMs\": 0.0095},{\"event\": \"ChannelAcquisitionStarted\", \"startTimeUtc\": \"2023-01-31T14:47:07.3963812Z\", \"durationInMs\": 0.0073},{\"event\": \"Pipelined\", \"startTimeUtc\": \"2023-01-31T14:47:07.3963885Z\", \"durationInMs\": 1.506},{\"event\": \"Transit Time\", \"startTimeUtc\": \"2023-01-31T14:47:07.3978945Z\", \"durationInMs\": -1.0317},{\"event\": \"Received\", \"startTimeUtc\": \"2023-01-31T14:47:07.3968628Z\", \"durationInMs\": 1.0435},{\"event\": \"Completed\", \"startTimeUtc\": \"2023-01-31T14:47:07.3979063Z\", \"durationInMs\": 0}],\"serviceEndpointStats\":{\"inflightRequests\":1,\"openConnections\":1},\"connectionStats\":{\"waitforConnectionInit\":\"False\",\"callsPendingReceive\":0,\"lastSendAttempt\":\"2023-01-31T14:46:01.6359413Z\",\"lastSend\":\"2023-01-31T14:46:01.6359413Z\",\"lastReceive\":\"2023-01-31T14:46:01.6359413Z\"},\"requestSizeInBytes\":669596,\"requestBodySizeInBytes\":669051,\"responseMetadataSizeInBytes\":127,\"responseBodySizeInBytes\":174};\r\n ResourceType: Document, OperationType: Create\r\n, SDK: Microsoft.Azure.Documents.Common/2.14.0\nCode: 429\nMessage: Message: {\"Errors\":[\"Request rate is large. More Request Units may be needed, so no changes were made. Please retry this request later. Learn more: http://aka.ms/cosmosdb-error-429\"]}\r\nActivityId: eddbb7e1-1287-41ff-b220-a1b381a55ce3, Request URI: /apps/38bfe303-da54-4990-99d7-2e697e386886/services/ded8d209-afd6-4758-a06d-9adabc3d0df8/partitions/300bc55c-bca2-46c6-9ed3-68059f435abe/replicas/133151112070723957p/, RequestStats: \r\nRequestStartTime: 2023-01-31T14:47:07.3963717Z, RequestEndTime: 2023-01-31T14:47:07.3963717Z,  Number of regions attempted:1\r\n{\"systemHistory\":[{\"dateUtc\":\"2023-01-31T14:46:11.6259969Z\",\"cpu\":0.195,\"memory\":440055952.000,\"threadInfo\":{\"isThreadStarving\":\"False\",\"threadWaitIntervalInMs\":0.0123,\"availableThreads\":32763,\"minThreads\":64,\"maxThreads\":32767},\"numberOfOpenTcpConnection\":1087},{\"dateUtc\":\"2023-01-31T14:46:21.6360656Z\",\"cpu\":0.246,\"memory\":440037164.000,\"threadInfo\":{\"isThreadStarving\":\"False\",\"threadWaitIntervalInMs\":0.0161,\"availableThreads\":32764,\"minThreads\":64,\"maxThreads\":32767},\"numberOfOpenTcpConnection\":1087},{\"dateUtc\":\"2023-01-31T14:46:31.6561386Z\",\"cpu\":0.280,\"memory\":440019768.000,\"threadInfo\":{\"isThreadStarving\":\"False\",\"threadWaitIntervalInMs\":0.0177,\"availableThreads\":32762,\"minThreads\":64,\"maxThreads\":32767},\"numberOfOpenTcpConnection\":1087},{\"dateUtc\":\"2023-01-31T14:46:41.6662109Z\",\"cpu\":0.183,\"memory\":440032060.000,\"threadInfo\":{\"isThreadStarving\":\"False\",\"threadWaitIntervalInMs\":0.0194,\"availableThreads\":32764,\"minThreads\":64,\"maxThreads\":32767},\"numberOfOpenTcpConnection\":1087},{\"dateUtc\":\"2023-01-31T14:46:51.6862749Z\",\"cpu\":0.305,\"memory\":440021544.000,\"threadInfo\":{\"isThreadStarving\":\"False\",\"threadWaitIntervalInMs\":0.0143,\"availableThreads\":32763,\"minThreads\":64,\"maxThreads\":32767},\"numberOfOpenTcpConnection\":1087},{\"dateUtc\":\"2023-01-31T14:47:01.6963339Z\",\"cpu\":0.268,\"memory\":440023132.000,\"threadInfo\":{\"isThreadStarving\":\"False\",\"threadWaitIntervalInMs\":0.0148,\"availableThreads\":32764,\"minThreads\":64,\"maxThreads\":32767},\"numberOfOpenTcpConnection\":1087}]}\r\nRequestStart: 2023-01-31T14:47:07.3963717Z; ResponseTime: 2023-01-31T14:47:07.3963717Z; StoreResult: StorePhysicalAddress: rntbd://cdb-ms-prod-southcentralus1-be21.documents.azure.com:14046/apps/38bfe303-da54-4990-99d7-2e697e386886/services/ded8d209-afd6-4758-a06d-9adabc3d0df8/partitions/300bc55c-bca2-46c6-9ed3-68059f435abe/replicas/133151112070723957p/, LSN: 1511, GlobalCommittedLsn: 1511, PartitionKeyRangeId: , IsValid: True, StatusCode: 429, SubStatusCode: 3200, RequestCharge: 0.38, ItemLSN: -1, SessionToken: , UsingLocalLSN: False, TransportException: null, BELatencyMs: , ActivityId: eddbb7e1-1287-41ff-b220-a1b381a55ce3, RetryAfterInMs: 9321, TransportRequestTimeline: {\"requestTimeline\":[{\"event\": \"Created\", \"startTimeUtc\": \"2023-01-31T14:47:07.3963717Z\", \"durationInMs\": 0.0095},{\"event\": \"ChannelAcquisitionStarted\", \"startTimeUtc\": \"2023-01-31T14:47:07.3963812Z\", \"durationInMs\": 0.0073},{\"event\": \"Pipelined\", \"startTimeUtc\": \"2023-01-31T14:47:07.3963885Z\", \"durationInMs\": 1.506},{\"event\": \"Transit Time\", \"startTimeUtc\": \"2023-01-31T14:47:07.3978945Z\", \"durationInMs\": -1.0317},{\"event\": \"Received\", \"startTimeUtc\": \"2023-01-31T14:47:07.3968628Z\", \"durationInMs\": 1.0435},{\"event\": \"Completed\", \"startTimeUtc\": \"2023-01-31T14:47:07.3979063Z\", \"durationInMs\": 0}],\"serviceEndpointStats\":{\"inflightRequests\":1,\"openConnections\":1},\"connectionStats\":{\"waitforConnectionInit\":\"False\",\"callsPendingReceive\":0,\"lastSendAttempt\":\"2023-01-31T14:46:01.6359413Z\",\"lastSend\":\"2023-01-31T14:46:01.6359413Z\",\"lastReceive\":\"2023-01-31T14:46:01.6359413Z\"},\"requestSizeInBytes\":669596,\"requestBodySizeInBytes\":669051,\"responseMetadataSizeInBytes\":127,\"responseBodySizeInBytes\":174};\r\n ResourceType: Document, OperationType: Create\r\n, SDK: Microsoft.Azure.Documents.Common/2.14.0"
     ]
    }
   ],
   "source": [
    "RUCharges = []\n",
    "docs = []\n",
    "maxRange = 10\n",
    "\n",
    "for j in range(maxRange):\n",
    "    IOTSrc = IOTSources[fake.random_int(min=0, max=9999)]    \n",
    "    readings = []\n",
    "\n",
    "    # *** Produce N readings\n",
    "    # Execute this repeatedly by changing range from 1, 100, 1000 and 10000\n",
    "    for r in range(10000):        \n",
    "        readings.append(\n",
    "            {\n",
    "                'Dimension': fake.random_element(elements=('D1', 'D2', 'D3', 'D4', 'D5', 'D6', 'D7', 'D8', 'D9'))\n",
    "                , 'Value': fake.random_number(digits=5)\n",
    "                , 'Timestamp': fake.date_time_this_year().isoformat()\n",
    "            })\n",
    "\n",
    "    doc = {\n",
    "        'id': str(uuid.uuid4())\n",
    "        , 'PartitionKey': fake.bothify('##_') + IOTSrc['Name'] + '_' + IOTSrc['Type']\n",
    "        , 'Entity': IOTSrc\n",
    "        , 'Readings': readings\n",
    "        , 'class': fake.random_element(elements=OrderedDict([(\"A\", 0.40), (\"B\", 0.35), (\"C\", 0.15), (\"D\", 0.05), (\"E\", 0.05)]))\n",
    "    }\n",
    "\n",
    "    # Create items, record charges and store docs locally (optional)\n",
    "    # print(doc)\n",
    "    ctr.create_item(doc)\n",
    "    RUCharges.append(float(ctr.client_connection.last_response_headers['x-ms-request-charge']))\n",
    "    # print(ctr.client_connection.last_response_headers['x-ms-request-charge'])\n",
    "    docs.append(doc)\n",
    "\n",
    "with open('./OutputFiles/' + containerName + '_10000docs.json', 'w') as jf:\n",
    "    for d in docs:\n",
    "        json.dump(d, jf)\n",
    "        jf.write(',\\n')"
   ]
  },
  {
   "cell_type": "code",
   "execution_count": 12,
   "metadata": {},
   "outputs": [
    {
     "name": "stdout",
     "output_type": "stream",
     "text": [
      "Average RU charge: 627.29\n"
     ]
    }
   ],
   "source": [
    "print('Average RU charge: ' + str(sum(RUCharges) / len(RUCharges)))\n",
    "\n",
    "# Interesting observation, can I execute a 6250 RU operations to insert a document in a 1000 RU container?"
   ]
  },
  {
   "cell_type": "markdown",
   "metadata": {},
   "source": [
    "### Adjust index policy\n",
    "The readings being stored in the container should not require indexing, as most of the operations should fetch documents based on Device and then compute the values. Therefore application will not benefit from default indexing. <br/>\n",
    "Execute cell below to adjust indexPolicy and then re-execute cell to load data (adjusting number of readings)"
   ]
  },
  {
   "cell_type": "code",
   "execution_count": 10,
   "metadata": {},
   "outputs": [
    {
     "data": {
      "text/plain": [
       "<ContainerProxy [dbs/Models/colls/IOTEnergyTelemetry]>"
      ]
     },
     "execution_count": 10,
     "metadata": {},
     "output_type": "execute_result"
    }
   ],
   "source": [
    "# containerPath = 'dbs/'+ databaseName +'/colls/' + containerName\n",
    "# container = db.get_container_client(container=containerName)\n",
    "\n",
    "indexPolicy = {\n",
    "    \"indexingMode\":\"consistent\",\n",
    "    \"includedPaths\":[\n",
    "        {\"path\":\"/PartitionKey/?\"}\n",
    "        , {\"path\":\"/Entity/*\"}\n",
    "        , {\"path\":\"/Class/?\"}\n",
    "        , {\"path\":\"/_ts/?\"}\n",
    "        ]\n",
    "    , \"excludedPaths\":[{\"path\":\"/*\"}]\n",
    "}\n",
    "\n",
    "db.replace_container(containerName, pkPath, indexing_policy=indexPolicy)\n"
   ]
  },
  {
   "cell_type": "markdown",
   "metadata": {},
   "source": [
    "### Cross partition query workload assessment\n",
    "- Target 1 million readings\n",
    "  - 10000 docs with 100 readings\n",
    "  - 1000 docs with 1000 readings\n",
    "  - 100 docs with 10000 readings"
   ]
  },
  {
   "cell_type": "code",
   "execution_count": 22,
   "metadata": {},
   "outputs": [],
   "source": [
    "RUCharges = []\n",
    "docs = []\n",
    "maxRange = 10000\n",
    "IOTSrc = IOTSources[fake.random_int(min=0, max=9999)]\n",
    "\n",
    "for j in range(maxRange):\n",
    "    readings = []\n",
    "\n",
    "    # *** Produce N readings\n",
    "    for r in range(100):        \n",
    "        readings.append(\n",
    "            {\n",
    "                'Dimension': fake.random_element(elements=('D1', 'D2', 'D3', 'D4', 'D5', 'D6', 'D7', 'D8', 'D9'))\n",
    "                , 'Metric': fake.random_number(digits=5)\n",
    "                , 'Timestamp': fake.date_time_this_year().isoformat()\n",
    "            })\n",
    "\n",
    "    doc = {\n",
    "        'id': str(uuid.uuid4())\n",
    "        # , 'PartitionKey': fake.bothify('##_') + IOTSrc['Name'] + '_' + IOTSrc['Type']\n",
    "        , 'PartitionKey': IOTSrc['Name'] + '_' + IOTSrc['Type']\n",
    "        , 'Entity': IOTSrc\n",
    "        , 'Readings': readings\n",
    "        , 'class': fake.random_element(elements=OrderedDict([(\"A\", 0.40), (\"B\", 0.35), (\"C\", 0.15), (\"D\", 0.05), (\"E\", 0.05)]))\n",
    "    }\n",
    "\n",
    "    # Create items, record charges and store docs locally (optional)\n",
    "    # print(doc)\n",
    "    ctr.create_item(doc)\n",
    "    RUCharges.append(float(ctr.client_connection.last_response_headers['x-ms-request-charge']))\n",
    "    # print(ctr.client_connection.last_response_headers['x-ms-request-charge'])\n",
    "    docs.append(doc)\n",
    "\n",
    "with open('./OutputFiles/' + containerName + '_Opt1_docs.json', 'w') as jf:\n",
    "    for d in docs:\n",
    "        json.dump(d, jf)\n",
    "        jf.write(',\\n')"
   ]
  },
  {
   "cell_type": "code",
   "execution_count": null,
   "metadata": {},
   "outputs": [],
   "source": [
    "RUCharges = []\n",
    "docs = []\n",
    "maxRange = 1000\n",
    "IOTSrc = IOTSources[fake.random_int(min=0, max=9999)]\n",
    "\n",
    "for j in range(maxRange):\n",
    "    readings = []\n",
    "\n",
    "    # *** Produce N readings\n",
    "    for r in range(1000):        \n",
    "        readings.append(\n",
    "            {\n",
    "                'Dimension': fake.random_element(elements=('D1', 'D2', 'D3', 'D4', 'D5', 'D6', 'D7', 'D8', 'D9'))\n",
    "                , 'Metric': fake.random_number(digits=5)\n",
    "                , 'Timestamp': fake.date_time_this_year().isoformat()\n",
    "            })\n",
    "\n",
    "    doc = {\n",
    "        'id': str(uuid.uuid4())\n",
    "        # , 'PartitionKey': fake.bothify('##_') + IOTSrc['Name'] + '_' + IOTSrc['Type']\n",
    "        , 'PartitionKey': IOTSrc['Name'] + '_' + IOTSrc['Type']\n",
    "        , 'Entity': IOTSrc\n",
    "        , 'Readings': readings\n",
    "        , 'class': fake.random_element(elements=OrderedDict([(\"A\", 0.40), (\"B\", 0.35), (\"C\", 0.15), (\"D\", 0.05), (\"E\", 0.05)]))\n",
    "    }\n",
    "\n",
    "    # Create items, record charges and store docs locally (optional)\n",
    "    # print(doc)\n",
    "    ctr.create_item(doc)\n",
    "    RUCharges.append(float(ctr.client_connection.last_response_headers['x-ms-request-charge']))\n",
    "    # print(ctr.client_connection.last_response_headers['x-ms-request-charge'])\n",
    "    docs.append(doc)\n",
    "\n",
    "with open('./OutputFiles/' + containerName + '_Opt1_docs.json', 'w') as jf:\n",
    "    for d in docs:\n",
    "        json.dump(d, jf)\n",
    "        jf.write(',\\n')"
   ]
  },
  {
   "cell_type": "code",
   "execution_count": null,
   "metadata": {},
   "outputs": [],
   "source": [
    "RUCharges = []\n",
    "docs = []\n",
    "maxRange = 100\n",
    "IOTSrc = IOTSources[fake.random_int(min=0, max=9999)]\n",
    "\n",
    "for j in range(maxRange):\n",
    "    readings = []\n",
    "\n",
    "    # *** Produce N readings\n",
    "    for r in range(10000):        \n",
    "        readings.append(\n",
    "            {\n",
    "                'Dimension': fake.random_element(elements=('D1', 'D2', 'D3', 'D4', 'D5', 'D6', 'D7', 'D8', 'D9'))\n",
    "                , 'Metric': fake.random_number(digits=5)\n",
    "                , 'Timestamp': fake.date_time_this_year().isoformat()\n",
    "            })\n",
    "\n",
    "    doc = {\n",
    "        'id': str(uuid.uuid4())\n",
    "        # , 'PartitionKey': fake.bothify('##_') + IOTSrc['Name'] + '_' + IOTSrc['Type']\n",
    "        , 'PartitionKey': IOTSrc['Name'] + '_' + IOTSrc['Type']\n",
    "        , 'Entity': IOTSrc\n",
    "        , 'Readings': readings\n",
    "        , 'class': fake.random_element(elements=OrderedDict([(\"A\", 0.40), (\"B\", 0.35), (\"C\", 0.15), (\"D\", 0.05), (\"E\", 0.05)]))\n",
    "    }\n",
    "\n",
    "    # Create items, record charges and store docs locally (optional)\n",
    "    # print(doc)\n",
    "    ctr.create_item(doc)\n",
    "    RUCharges.append(float(ctr.client_connection.last_response_headers['x-ms-request-charge']))\n",
    "    # print(ctr.client_connection.last_response_headers['x-ms-request-charge'])\n",
    "    docs.append(doc)\n",
    "\n",
    "with open('./OutputFiles/' + containerName + '_Opt1_docs.json', 'w') as jf:\n",
    "    for d in docs:\n",
    "        json.dump(d, jf)\n",
    "        jf.write(',\\n')"
   ]
  },
  {
   "cell_type": "markdown",
   "metadata": {},
   "source": [
    "### Clean up code"
   ]
  },
  {
   "cell_type": "code",
   "execution_count": null,
   "metadata": {},
   "outputs": [],
   "source": [
    "# containerPath = 'dbs/'+ databaseName +'/colls/' + containerName\n",
    "# container = db.get_container_client(container=containerName)\n",
    "\n",
    "indexPolicy = {\n",
    "    \"indexingMode\":\"consistent\",\n",
    "    \"includedPaths\":[\n",
    "        {\"path\":\"/*\"}\n",
    "        ]\n",
    "    , \"excludedPaths\":[{\"path\":\"/\\\"_etag\\\"/?\"}]\n",
    "}\n",
    "\n",
    "db.replace_container(containerName, pkPath, indexing_policy=indexPolicy)"
   ]
  },
  {
   "cell_type": "code",
   "execution_count": 2,
   "metadata": {},
   "outputs": [],
   "source": [
    "# Assume objects are instantiated\n",
    "# db.delete_container(containerName)\n",
    "\n",
    "import glob\n",
    "\n",
    "files = glob.glob('.\\OutputFiles\\*')\n",
    "for f in files:\n",
    "    os.remove(f)"
   ]
  }
 ],
 "metadata": {
  "kernelspec": {
   "display_name": "Python 3",
   "language": "python",
   "name": "python3"
  },
  "language_info": {
   "codemirror_mode": {
    "name": "ipython",
    "version": 3
   },
   "file_extension": ".py",
   "mimetype": "text/x-python",
   "name": "python",
   "nbconvert_exporter": "python",
   "pygments_lexer": "ipython3",
   "version": "3.10.11"
  },
  "orig_nbformat": 4,
  "vscode": {
   "interpreter": {
    "hash": "3f5c034d10c10f5a4ca2da93e6423dfeffe7b0b50e6b543a2b0cb9a54b246f48"
   }
  }
 },
 "nbformat": 4,
 "nbformat_minor": 2
}
