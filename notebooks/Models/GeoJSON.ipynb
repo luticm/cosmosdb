{
 "cells": [
  {
   "attachments": {},
   "cell_type": "markdown",
   "metadata": {},
   "source": [
    "### Geospatial data with Cosmos DB"
   ]
  },
  {
   "cell_type": "code",
   "execution_count": 66,
   "metadata": {},
   "outputs": [],
   "source": [
    "from azure.cosmos import CosmosClient, PartitionKey\n",
    "from configparser import ConfigParser\n",
    "from faker import Faker\n",
    "\n",
    "import os\n",
    "import json\n",
    "import uuid\n",
    "\n",
    "parser = ConfigParser()\n",
    "parser.read('../NotebookConfig.cfg')\n",
    "\n",
    "cosmosAccountURI = parser.get('CosmosDB', 'COSMOSDB_ACCOUNT_URI')\n",
    "cosmosAccountKey = parser.get('CosmosDB', 'COSMOSDB_ACCOUNT_KEY')\n",
    "\n",
    "databaseName = 'Learn'\n",
    "containerName = 'GeoJSON2'\n",
    "partitionKeypath = '/PartitionKey'\n",
    "osPath = './OutputFiles/'\n",
    "\n",
    "Faker.seed(0)\n",
    "fake = Faker(['en-US'])\n",
    "\n",
    "if not os.path.exists(osPath):\n",
    "    os.mkdir(osPath)"
   ]
  },
  {
   "cell_type": "code",
   "execution_count": 67,
   "metadata": {},
   "outputs": [],
   "source": [
    "client = CosmosClient(cosmosAccountURI, cosmosAccountKey)\n",
    "db = client.create_database_if_not_exists(databaseName)\n",
    "\n",
    "pkPath = PartitionKey(path=partitionKeypath)\n",
    "ctr = db.create_container_if_not_exists(id=containerName, partition_key=pkPath, offer_throughput=400)"
   ]
  },
  {
   "cell_type": "code",
   "execution_count": 35,
   "metadata": {},
   "outputs": [],
   "source": [
    "from collections import OrderedDict\n",
    "maxRange = 10000\n",
    "IOTSources = []\n",
    "\n",
    "os.makedirs(os.path.dirname('./OutputFiles/'), exist_ok=True)\n",
    "with open('./OutputFiles/' + containerName + '_referenceData.json', 'w') as jsonFile:\n",
    "    for i in range(maxRange):\n",
    "        entity = {            \n",
    "            'Name': fake.bothify('????_############')\n",
    "            , 'Type': fake.random_element(elements=('Type1', 'Type2', 'Type3', 'Type4', 'Type5', 'Type6'))\n",
    "        }\n",
    "        IOTSources.append(entity)\n",
    "\n",
    "        # Save patients for reference\n",
    "        json.dump(entity, jsonFile)\n",
    "        if (i < maxRange):\n",
    "            jsonFile.write(',\\n')"
   ]
  },
  {
   "cell_type": "code",
   "execution_count": null,
   "metadata": {},
   "outputs": [],
   "source": [
    "from datetime import datetime, timedelta\n",
    "\n",
    "RUCharges = []\n",
    "daysRange = 10\n",
    "iotRange = 10000\n",
    "\n",
    "dtBase = datetime(year=2022, month=12, day=1)\n",
    "\n",
    "for iot in range(iotRange):\n",
    "    IOTSrc = IOTSources[iot]\n",
    "\n",
    "    for day in range(daysRange):\n",
    "        docs = []        \n",
    "        readings = []\n",
    "\n",
    "        # *** Produce 10 readings - 1 for each minute\n",
    "        for m in range(1):\n",
    "            readings.append(\n",
    "                {\n",
    "                    'Dimension': fake.random_element(elements=('D1', 'D2', 'D3', 'D4', 'D5', 'D6', 'D7', 'D8', 'D9'))\n",
    "                    , 'Metric': fake.random_number(digits=5)\n",
    "                    , 'Timestamp': (dtBase + timedelta(days=day,minutes=m)).isoformat()  # fake.date_time_this_year().isoformat()\n",
    "                })\n",
    "\n",
    "        doc = {\n",
    "            'id': str(uuid.uuid4())\n",
    "            , 'PartitionKey': IOTSrc['Name'] + '_' + IOTSrc['Type'] + '_' + (dtBase + timedelta(days=day)).strftime('%Y_%m_%d')\n",
    "            , 'Name': IOTSrc['Name']\n",
    "            , 'Type': IOTSrc['Type']            \n",
    "            , 'Entity': IOTSrc\n",
    "            , 'Location': {\n",
    "               \"type\":\"Point\",\n",
    "                \"coordinates\":[ float(fake.numerify(text='40.#####')), float(fake.numerify(text='-74.#####')) ]     \n",
    "            }\n",
    "            , 'DateTime': (dtBase + timedelta(days=day)).isoformat()\n",
    "            , 'Timestamp': (dtBase + timedelta(days=day)).timestamp()\n",
    "            , 'Readings': readings\n",
    "            , 'class': fake.random_element(elements=OrderedDict([(\"A\", 0.40), (\"B\", 0.35), (\"C\", 0.15), (\"D\", 0.05), (\"E\", 0.05)]))\n",
    "        }\n",
    "\n",
    "        ctr.create_item(doc)\n",
    "        RUCharges.append(float(ctr.client_connection.last_response_headers['x-ms-request-charge']))\n",
    "        print(ctr.client_connection.last_response_headers['x-ms-request-charge'])"
   ]
  },
  {
   "cell_type": "code",
   "execution_count": null,
   "metadata": {},
   "outputs": [],
   "source": [
    "print('Average RU cost: ' + str(sum(RUCharges) / len(RUCharges)))"
   ]
  },
  {
   "cell_type": "code",
   "execution_count": 52,
   "metadata": {},
   "outputs": [
    {
     "name": "stdout",
     "output_type": "stream",
     "text": [
      "{'id': '2580d3d3-0b43-4493-95e0-19e777b5158d', 'PartitionKey': 'rlFs_200059313956_Type2_2022_12_24', 'Name': 'rlFs_200059313956', 'Type': 'Type2', 'Entity': {'Name': 'rlFs_200059313956', 'Type': 'Type2'}, 'Location': {'type': 'Point', 'coordinates': [40.80278, -73.965]}, 'DateTime': '2022-12-24T00:00:00', 'Timestamp': 1671861600.0, 'Readings': {'Dimension': 'D3', 'Metric': 61026, 'Timestamp': '2022-09-13T13:26:29'}, 'class': 'B'}\n",
      "12.38\n"
     ]
    }
   ],
   "source": [
    "IOTSrc = IOTSources[fake.random_int(min=0, max=9999)]\n",
    "dtBase = datetime(year=2022, month=12, day=15)\n",
    "docs = []        \n",
    "readings = []\n",
    "\n",
    "doc = {\n",
    "    'id': str(uuid.uuid4())\n",
    "    , 'PartitionKey': IOTSrc['Name'] + '_' + IOTSrc['Type'] + '_' + (dtBase + timedelta(days=day)).strftime('%Y_%m_%d')\n",
    "    , 'Name': IOTSrc['Name']\n",
    "    , 'Type': IOTSrc['Type']            \n",
    "    , 'Entity': IOTSrc\n",
    "    , 'Location': {\n",
    "        \"type\":\"Point\",\n",
    "        \"coordinates\":[ float(fake.numerify(text='40.80###')), float(fake.numerify(text='-73.96500')) ]     \n",
    "    }\n",
    "    , 'DateTime': (dtBase + timedelta(days=day)).isoformat()\n",
    "    , 'Timestamp': (dtBase + timedelta(days=day)).timestamp()\n",
    "    , 'Readings': {\n",
    "            'Dimension': fake.random_element(elements=('D1', 'D2', 'D3', 'D4', 'D5', 'D6', 'D7', 'D8', 'D9'))\n",
    "            , 'Metric': fake.random_number(digits=5)\n",
    "            , 'Timestamp': fake.date_time_this_year().isoformat()\n",
    "    }\n",
    "    , 'class': fake.random_element(elements=OrderedDict([(\"A\", 0.40), (\"B\", 0.35), (\"C\", 0.15), (\"D\", 0.05), (\"E\", 0.05)]))\n",
    "}\n",
    "\n",
    "print(doc)\n",
    "ctr.create_item(doc)\n",
    "print(ctr.client_connection.last_response_headers['x-ms-request-charge'])\n"
   ]
  },
  {
   "cell_type": "code",
   "execution_count": null,
   "metadata": {},
   "outputs": [],
   "source": [
    "# SELECT ST_ISVALIDDETAILED ({\n",
    "#     'type':'Polygon',\n",
    "#     'coordinates': [[[40.808023, -73.966375], [40.806159, -73.961795], [40.799321, -73.966796], [40.801040, -73.970726], [40.808023, -73.966375]]]\n",
    "# })\n",
    "\n",
    "# SELECT COUNT(c.id) FROM c"
   ]
  },
  {
   "cell_type": "code",
   "execution_count": 60,
   "metadata": {},
   "outputs": [
    {
     "name": "stdout",
     "output_type": "stream",
     "text": [
      "{'id': 'a9c24048-8541-4289-872a-f69c4fe7d52b'}\n",
      "{'id': '2580d3d3-0b43-4493-95e0-19e777b5158d'}\n",
      "RUs: 858.31\n",
      "ActivityId: 2fb066b7-6573-402f-a510-c9e41593dd93\n"
     ]
    }
   ],
   "source": [
    "for item in ctr.query_items(query=\"SELECT c.id, c.location FROM c WHERE ST_WITHIN(c.Location, { 'type':'Polygon', 'coordinates': [[[40.808023, -73.966375], [40.806159, -73.961795], [40.799321, -73.966796], [40.801040, -73.970726], [40.808023, -73.966375]]]})\" \\\n",
    "    , enable_cross_partition_query=True):\n",
    "    print(item)\n",
    "\n",
    "print ('RUs: ' + ctr.client_connection.last_response_headers['x-ms-request-charge'])\n",
    "print ('ActivityId: ' + ctr.client_connection.last_response_headers['x-ms-activity-id'])"
   ]
  },
  {
   "cell_type": "code",
   "execution_count": 64,
   "metadata": {},
   "outputs": [
    {
     "data": {
      "text/plain": [
       "<ContainerProxy [dbs/Learn/colls/GeoJSON2]>"
      ]
     },
     "execution_count": 64,
     "metadata": {},
     "output_type": "execute_result"
    }
   ],
   "source": [
    "# GeoSpatial indexing\n",
    "\n",
    "indexPolicy = {\n",
    "    \"indexingMode\":\"consistent\",\n",
    "    \"includedPaths\":[\n",
    "        {\"path\":\"/*\"}\n",
    "        ]\n",
    "    , \"spatialIndexes\": [\n",
    "        {\n",
    "            \"path\": \"/Location/*\",\n",
    "            \"types\": [\n",
    "                \"Point\"\n",
    "            ]\n",
    "        }\n",
    "    ]\n",
    "    , \"excludedPaths\":[{\"path\": \"/\\\"_etag\\\"/?\"}]\n",
    "}\n",
    "\n",
    "db.replace_container(containerName, pkPath, indexing_policy=indexPolicy)"
   ]
  },
  {
   "cell_type": "code",
   "execution_count": 65,
   "metadata": {},
   "outputs": [
    {
     "name": "stdout",
     "output_type": "stream",
     "text": [
      "{'id': 'a9c24048-8541-4289-872a-f69c4fe7d52b'}\n",
      "{'id': '2580d3d3-0b43-4493-95e0-19e777b5158d'}\n",
      "RUs: 7.51\n",
      "ActivityId: 2c19496b-a992-4c1e-9379-99788b0fec5a\n"
     ]
    }
   ],
   "source": [
    "for item in ctr.query_items(query=\"SELECT c.id, c.location FROM c WHERE ST_WITHIN(c.Location, { 'type':'Polygon', 'coordinates': [[[40.808023, -73.966375], [40.806159, -73.961795], [40.799321, -73.966796], [40.801040, -73.970726], [40.808023, -73.966375]]]})\" \\\n",
    "    , enable_cross_partition_query=True):\n",
    "    print(item)\n",
    "\n",
    "print ('RUs: ' + ctr.client_connection.last_response_headers['x-ms-request-charge'])\n",
    "print ('ActivityId: ' + ctr.client_connection.last_response_headers['x-ms-activity-id'])"
   ]
  },
  {
   "cell_type": "code",
   "execution_count": 62,
   "metadata": {},
   "outputs": [
    {
     "data": {
      "text/plain": [
       "<ContainerProxy [dbs/Learn/colls/GeoJSON2]>"
      ]
     },
     "execution_count": 62,
     "metadata": {},
     "output_type": "execute_result"
    }
   ],
   "source": [
    "# Restore default indexing policy without GeoSpatial indexing\n",
    "\n",
    "indexPolicy = {\n",
    "    \"indexingMode\":\"consistent\",\n",
    "    \"includedPaths\":[\n",
    "        {\"path\":\"/*\"}\n",
    "        ]\n",
    "    , \"excludedPaths\":[{\"path\": \"/\\\"_etag\\\"/?\"}]\n",
    "}\n",
    "\n",
    "db.replace_container(containerName, pkPath, indexing_policy=indexPolicy)"
   ]
  }
 ],
 "metadata": {
  "kernelspec": {
   "display_name": "Python 3",
   "language": "python",
   "name": "python3"
  },
  "language_info": {
   "codemirror_mode": {
    "name": "ipython",
    "version": 3
   },
   "file_extension": ".py",
   "mimetype": "text/x-python",
   "name": "python",
   "nbconvert_exporter": "python",
   "pygments_lexer": "ipython3",
   "version": "3.10.9"
  },
  "orig_nbformat": 4,
  "vscode": {
   "interpreter": {
    "hash": "3f5c034d10c10f5a4ca2da93e6423dfeffe7b0b50e6b543a2b0cb9a54b246f48"
   }
  }
 },
 "nbformat": 4,
 "nbformat_minor": 2
}
