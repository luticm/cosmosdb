{
 "cells": [
  {
   "attachments": {},
   "cell_type": "markdown",
   "metadata": {},
   "source": [
    "### Geospatial data with Cosmos DB\n",
    "Azure Cosmos DB Geospatial example <br/>\n",
    "https://learn.microsoft.com/en-us/azure/cosmos-db/nosql/query/geospatial-intro"
   ]
  },
  {
   "cell_type": "code",
   "execution_count": null,
   "metadata": {},
   "outputs": [],
   "source": [
    "# Install required libraries\n",
    "%pip install azure-cosmos\n",
    "%pip install faker\n",
    "\n",
    "# import azure.cosmos\n",
    "# print(azure.cosmos.__version__)"
   ]
  },
  {
   "cell_type": "code",
   "execution_count": 1,
   "metadata": {},
   "outputs": [],
   "source": [
    "# Initialization and config\n",
    "from azure.cosmos import CosmosClient, PartitionKey\n",
    "from configparser import ConfigParser\n",
    "from faker import Faker\n",
    "\n",
    "import os\n",
    "import json\n",
    "import uuid\n",
    "\n",
    "# Assuming structure Notebooks/Models\n",
    "parser = ConfigParser()\n",
    "parser.read('../NotebookConfig.cfg')\n",
    "\n",
    "cosmosAccountURI = parser.get('CosmosDB', 'COSMOSDB_ACCOUNT_URI')\n",
    "cosmosAccountKey = parser.get('CosmosDB', 'COSMOSDB_ACCOUNT_KEY')\n",
    "\n",
    "databaseName = 'Learn'\n",
    "containerName = 'GeoJSON'\n",
    "partitionKeypath = '/PartitionKey'\n",
    "osPath = './OutputFiles/'\n",
    "\n",
    "Faker.seed(0)\n",
    "fake = Faker(['en-US'])\n",
    "\n",
    "if not os.path.exists(osPath):\n",
    "    os.mkdir(osPath)"
   ]
  },
  {
   "cell_type": "code",
   "execution_count": 2,
   "metadata": {},
   "outputs": [],
   "source": [
    "client = CosmosClient(cosmosAccountURI, cosmosAccountKey)\n",
    "db = client.create_database_if_not_exists(databaseName)\n",
    "\n",
    "pkPath = PartitionKey(path=partitionKeypath)\n",
    "ctr = db.create_container_if_not_exists(id=containerName, partition_key=pkPath, offer_throughput=1000)"
   ]
  },
  {
   "cell_type": "code",
   "execution_count": 8,
   "metadata": {},
   "outputs": [],
   "source": [
    "# Reference list for documents that should have consistent values across cell/operations.\n",
    "from collections import OrderedDict\n",
    "maxRange = 10000\n",
    "IOTSources = []\n",
    "\n",
    "os.makedirs(os.path.dirname('./OutputFiles/'), exist_ok=True)\n",
    "with open('./OutputFiles/' + containerName + '_referenceData.json', 'w') as jsonFile:\n",
    "    for i in range(maxRange):\n",
    "        entity = {            \n",
    "            'Name': fake.bothify('????_############')\n",
    "            , 'Type': fake.random_element(elements=('Type1', 'Type2', 'Type3', 'Type4', 'Type5', 'Type6'))\n",
    "        }\n",
    "        IOTSources.append(entity)\n",
    "\n",
    "        # Save patients for reference\n",
    "        json.dump(entity, jsonFile)\n",
    "        if (i < maxRange):\n",
    "            jsonFile.write(',\\n')"
   ]
  },
  {
   "cell_type": "code",
   "execution_count": 5,
   "metadata": {},
   "outputs": [],
   "source": [
    "# Load 100K documents into container\n",
    "# Random locations based on geospatial coordiates around latitude 40.xxxxx and longitude -74.xxxxx\n",
    "\n",
    "from datetime import datetime, timedelta\n",
    "\n",
    "RUCharges = []\n",
    "daysRange = 10\n",
    "iotRange = 10000\n",
    "\n",
    "dtBase = datetime(year=2022, month=12, day=1)\n",
    "\n",
    "for iot in range(iotRange):\n",
    "    IOTSrc = IOTSources[iot]\n",
    "\n",
    "    for day in range(daysRange):\n",
    "        docs = []        \n",
    "        readings = []\n",
    "\n",
    "        # *** Produce 10 readings - 1 for each minute\n",
    "        for m in range(1):\n",
    "            readings.append(\n",
    "                {\n",
    "                    'Dimension': fake.random_element(elements=('D1', 'D2', 'D3', 'D4', 'D5', 'D6', 'D7', 'D8', 'D9'))\n",
    "                    , 'Metric': fake.random_number(digits=5)\n",
    "                    , 'Timestamp': (dtBase + timedelta(days=day,minutes=m)).isoformat()  # fake.date_time_this_year().isoformat()\n",
    "                })\n",
    "\n",
    "        doc = {\n",
    "            'id': str(uuid.uuid4())\n",
    "            , 'PartitionKey': IOTSrc['Name'] + '_' + IOTSrc['Type'] + '_' + (dtBase + timedelta(days=day)).strftime('%Y_%m_%d')\n",
    "            , 'Name': IOTSrc['Name']\n",
    "            , 'Type': IOTSrc['Type']            \n",
    "            , 'Entity': IOTSrc\n",
    "            , 'Location': {\n",
    "               \"type\":\"Point\",\n",
    "                \"coordinates\":[ float(fake.numerify(text='40.#####')), float(fake.numerify(text='-74.#####')) ]     \n",
    "            }\n",
    "            , 'DateTime': (dtBase + timedelta(days=day)).isoformat()\n",
    "            , 'Timestamp': (dtBase + timedelta(days=day)).timestamp()\n",
    "            , 'Readings': readings\n",
    "            , 'class': fake.random_element(elements=OrderedDict([(\"A\", 0.40), (\"B\", 0.35), (\"C\", 0.15), (\"D\", 0.05), (\"E\", 0.05)]))\n",
    "        }\n",
    "\n",
    "        ctr.create_item(doc)\n",
    "        RUCharges.append(float(ctr.client_connection.last_response_headers['x-ms-request-charge']))\n",
    "        # print(ctr.client_connection.last_response_headers['x-ms-request-charge'])"
   ]
  },
  {
   "cell_type": "code",
   "execution_count": 6,
   "metadata": {},
   "outputs": [
    {
     "name": "stdout",
     "output_type": "stream",
     "text": [
      "Average RU cost: 12.569999999991982\n"
     ]
    }
   ],
   "source": [
    "# Average RU for each insert operation: 12.569\n",
    "print('Average RU cost: ' + str(sum(RUCharges) / len(RUCharges)))"
   ]
  },
  {
   "cell_type": "code",
   "execution_count": 7,
   "metadata": {},
   "outputs": [
    {
     "name": "stdout",
     "output_type": "stream",
     "text": [
      "{'id': '7db61c58-636b-46dd-8fcc-39e2b2a8bb57', 'PartitionKey': 'Nkbk_080864497860_Type5_2022_12_24', 'Name': 'Nkbk_080864497860', 'Type': 'Type5', 'Entity': {'Name': 'Nkbk_080864497860', 'Type': 'Type5'}, 'Location': {'type': 'Point', 'coordinates': [40.80183, -73.965]}, 'DateTime': '2022-12-24T00:00:00', 'Timestamp': 1671861600.0, 'Readings': {'Dimension': 'D8', 'Metric': 59475, 'Timestamp': '2022-07-04T22:49:38'}, 'class': 'C'}\n",
      "12.19\n"
     ]
    }
   ],
   "source": [
    "# Create one document close to the polygon that will be queried \n",
    "# Others may exist from the 100K randomized documents\n",
    "\n",
    "IOTSrc = IOTSources[fake.random_int(min=0, max=9999)]\n",
    "dtBase = datetime(year=2022, month=12, day=15)\n",
    "docs = []        \n",
    "readings = []\n",
    "\n",
    "doc = {\n",
    "    'id': str(uuid.uuid4())\n",
    "    , 'PartitionKey': IOTSrc['Name'] + '_' + IOTSrc['Type'] + '_' + (dtBase + timedelta(days=day)).strftime('%Y_%m_%d')\n",
    "    , 'Name': IOTSrc['Name']\n",
    "    , 'Type': IOTSrc['Type']            \n",
    "    , 'Entity': IOTSrc\n",
    "    , 'Location': {\n",
    "        \"type\":\"Point\",\n",
    "        \"coordinates\":[ float(fake.numerify(text='40.80###')), float(fake.numerify(text='-73.96500')) ]     \n",
    "    }\n",
    "    , 'DateTime': (dtBase + timedelta(days=day)).isoformat()\n",
    "    , 'Timestamp': (dtBase + timedelta(days=day)).timestamp()\n",
    "    , 'Readings': {\n",
    "            'Dimension': fake.random_element(elements=('D1', 'D2', 'D3', 'D4', 'D5', 'D6', 'D7', 'D8', 'D9'))\n",
    "            , 'Metric': fake.random_number(digits=5)\n",
    "            , 'Timestamp': fake.date_time_this_year().isoformat()\n",
    "    }\n",
    "    , 'class': fake.random_element(elements=OrderedDict([(\"A\", 0.40), (\"B\", 0.35), (\"C\", 0.15), (\"D\", 0.05), (\"E\", 0.05)]))\n",
    "}\n",
    "\n",
    "print(doc)\n",
    "ctr.create_item(doc)\n",
    "print(ctr.client_connection.last_response_headers['x-ms-request-charge'])"
   ]
  },
  {
   "cell_type": "code",
   "execution_count": null,
   "metadata": {},
   "outputs": [],
   "source": [
    "# Sample queries that can be executed to validate number of documents in the container\n",
    "#   and if geospatial polygon is valid\n",
    "\n",
    "# SELECT COUNT(c.id) FROM c\n",
    "\n",
    "# SELECT ST_ISVALIDDETAILED ({\n",
    "#     'type':'Polygon',\n",
    "#     'coordinates': [[[40.808023, -73.966375], [40.806159, -73.961795], [40.799321, -73.966796], [40.801040, -73.970726], [40.808023, -73.966375]]]\n",
    "# })"
   ]
  },
  {
   "attachments": {},
   "cell_type": "markdown",
   "metadata": {},
   "source": [
    "### RU cost comparison, before and after geospatial indexing"
   ]
  },
  {
   "cell_type": "code",
   "execution_count": 3,
   "metadata": {},
   "outputs": [],
   "source": [
    "import sys, logging\n",
    "\n",
    "# Create a logger for the 'azure' SDK\n",
    "logger = logging.getLogger('azure')\n",
    "logger.setLevel(logging.DEBUG)\n",
    "\n",
    "handler = logging.FileHandler(filename=osPath+'corelog.log')\n",
    "logger.addHandler(handler)"
   ]
  },
  {
   "cell_type": "code",
   "execution_count": 4,
   "metadata": {},
   "outputs": [
    {
     "name": "stdout",
     "output_type": "stream",
     "text": [
      "{'id': '7db61c58-636b-46dd-8fcc-39e2b2a8bb57'}\n"
     ]
    }
   ],
   "source": [
    "# Execute a geospatial query\n",
    "for item in ctr.query_items(query=\"SELECT c.id, c.location FROM c WHERE ST_WITHIN(c.Location, { 'type':'Polygon', 'coordinates': [[[40.808023, -73.966375], [40.806159, -73.961795], [40.799321, -73.966796], [40.801040, -73.970726], [40.808023, -73.966375]]]})\" \\\n",
    "    , enable_cross_partition_query=True, logger=logger, logging_enable=True):\n",
    "    print(item)\n",
    "    # print ('RUs: ' + ctr.client_connection.last_response_headers['x-ms-request-charge'])\n",
    "    # print ('ActivityId: ' + ctr.client_connection.last_response_headers['x-ms-activity-id'])\n",
    "\n",
    "# The effective RU usage is different from the output below, as there may be multiple requests between the client/server\n",
    "# Comparing execution below in terms of RU with output from query from the portal\n",
    "#   Portal: ~ 9015 RUs / Index hit document count = 0\n",
    "\n",
    "# With DEBUG logging enabled, is possible to get all the HTTP responses and sum 'x-ms-request-charge'\n",
    "# Ex.: 'x-ms-request-charge': '1987.99', 'x-ms-request-charge': '2137.54', 'x-ms-request-charge': '1940.9', 'x-ms-request-charge': '2128.36', 'x-ms-request-charge': '820.14' => ~9015 RUs"
   ]
  },
  {
   "cell_type": "code",
   "execution_count": 5,
   "metadata": {},
   "outputs": [
    {
     "data": {
      "text/plain": [
       "<ContainerProxy [dbs/Learn/colls/GeoJSON]>"
      ]
     },
     "execution_count": 5,
     "metadata": {},
     "output_type": "execute_result"
    }
   ],
   "source": [
    "# Change index policy to add GeoSpatial index\n",
    "# Confirm that index rebuild has been completed before executing next query\n",
    "\n",
    "indexPolicy = {\n",
    "    \"indexingMode\":\"consistent\",\n",
    "    \"includedPaths\":[\n",
    "        {\"path\":\"/*\"}\n",
    "        ]\n",
    "    , \"spatialIndexes\": [\n",
    "        {\n",
    "            \"path\": \"/Location/*\",\n",
    "            \"types\": [\n",
    "                \"Point\"\n",
    "            ]\n",
    "        }\n",
    "    ]\n",
    "    , \"excludedPaths\":[{\"path\": \"/\\\"_etag\\\"/?\"}]\n",
    "}\n",
    "\n",
    "db.replace_container(containerName, pkPath, indexing_policy=indexPolicy)"
   ]
  },
  {
   "cell_type": "code",
   "execution_count": 6,
   "metadata": {},
   "outputs": [
    {
     "name": "stdout",
     "output_type": "stream",
     "text": [
      "{'id': '7db61c58-636b-46dd-8fcc-39e2b2a8bb57'}\n",
      "RUs: 7.11\n",
      "ActivityId: 36a4c36c-b307-4d00-b4dc-a1f1ceca69c8\n"
     ]
    }
   ],
   "source": [
    "# Without index: 9015 RUs\n",
    "# With geo index: ~0.2s / 7.11 RUs\n",
    "for item in ctr.query_items(query=\"SELECT c.id, c.location FROM c WHERE ST_WITHIN(c.Location, { 'type':'Polygon', 'coordinates': [[[40.808023, -73.966375], [40.806159, -73.961795], [40.799321, -73.966796], [40.801040, -73.970726], [40.808023, -73.966375]]]})\" \\\n",
    "    , enable_cross_partition_query=True):\n",
    "    print(item)\n",
    "\n",
    "print ('RUs: ' + ctr.client_connection.last_response_headers['x-ms-request-charge'])\n",
    "print ('ActivityId: ' + ctr.client_connection.last_response_headers['x-ms-activity-id'])"
   ]
  },
  {
   "cell_type": "code",
   "execution_count": 12,
   "metadata": {},
   "outputs": [
    {
     "name": "stdout",
     "output_type": "stream",
     "text": [
      "{'id': '268faf3b-9205-4bc7-97fa-9ff4c627a944', 'PartitionKey': 'LIOi_373139920146_Type3_2022_12_15', 'Name': 'LIOi_373139920146', 'Type': 'Type3', 'Entity': {'Name': 'LIOi_373139920146', 'Type': 'Type3'}, 'Location': {'type': 'Point', 'coordinates': [40.2479, -73.39276]}, 'DateTime': '2022-12-15T00:00:00', 'Timestamp': 1671084000.0, 'Readings': {'Dimension': 'D6', 'Metric': 41919, 'Timestamp': '2022-01-22T04:43:06'}, 'class': 'A'}\n",
      "12.38\n"
     ]
    }
   ],
   "source": [
    "# RU cost for single item insert was: 12.19\n",
    "# RU cost after geo index: 12.38\n",
    "\n",
    "from datetime import datetime, timedelta\n",
    "\n",
    "IOTSrc = IOTSources[fake.random_int(min=0, max=9999)]\n",
    "dtBase = datetime(year=2022, month=12, day=15)\n",
    "docs = []\n",
    "readings = []\n",
    "\n",
    "doc = {\n",
    "    'id': str(uuid.uuid4())\n",
    "    , 'PartitionKey': IOTSrc['Name'] + '_' + IOTSrc['Type'] + '_' + (dtBase + timedelta(days=0)).strftime('%Y_%m_%d')\n",
    "    , 'Name': IOTSrc['Name']\n",
    "    , 'Type': IOTSrc['Type']            \n",
    "    , 'Entity': IOTSrc\n",
    "    , 'Location': {\n",
    "        \"type\":\"Point\",\n",
    "        \"coordinates\":[ float(fake.numerify(text='40.#####')), float(fake.numerify(text='-73.#####')) ]     \n",
    "    }\n",
    "    , 'DateTime': (dtBase + timedelta(days=0)).isoformat()\n",
    "    , 'Timestamp': (dtBase + timedelta(days=0)).timestamp()\n",
    "    , 'Readings': {\n",
    "            'Dimension': fake.random_element(elements=('D1', 'D2', 'D3', 'D4', 'D5', 'D6', 'D7', 'D8', 'D9'))\n",
    "            , 'Metric': fake.random_number(digits=5)\n",
    "            , 'Timestamp': fake.date_time_this_year().isoformat()\n",
    "    }\n",
    "    , 'class': fake.random_element(elements=OrderedDict([(\"A\", 0.40), (\"B\", 0.35), (\"C\", 0.15), (\"D\", 0.05), (\"E\", 0.05)]))\n",
    "}\n",
    "\n",
    "print(doc)\n",
    "ctr.create_item(doc)\n",
    "print(ctr.client_connection.last_response_headers['x-ms-request-charge'])"
   ]
  },
  {
   "cell_type": "code",
   "execution_count": null,
   "metadata": {},
   "outputs": [],
   "source": [
    "# Restore default indexing policy without GeoSpatial indexing\n",
    "indexPolicy = {\n",
    "    \"indexingMode\":\"consistent\",\n",
    "    \"includedPaths\":[\n",
    "        {\"path\":\"/*\"}\n",
    "        ]\n",
    "    , \"excludedPaths\":[{\"path\": \"/\\\"_etag\\\"/?\"}]\n",
    "}\n",
    "\n",
    "db.replace_container(containerName, pkPath, indexing_policy=indexPolicy)"
   ]
  }
 ],
 "metadata": {
  "kernelspec": {
   "display_name": "Python 3",
   "language": "python",
   "name": "python3"
  },
  "language_info": {
   "codemirror_mode": {
    "name": "ipython",
    "version": 3
   },
   "file_extension": ".py",
   "mimetype": "text/x-python",
   "name": "python",
   "nbconvert_exporter": "python",
   "pygments_lexer": "ipython3",
   "version": "3.10.9"
  },
  "orig_nbformat": 4,
  "vscode": {
   "interpreter": {
    "hash": "3f5c034d10c10f5a4ca2da93e6423dfeffe7b0b50e6b543a2b0cb9a54b246f48"
   }
  }
 },
 "nbformat": 4,
 "nbformat_minor": 2
}
