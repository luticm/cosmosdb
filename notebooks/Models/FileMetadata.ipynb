{
 "cells": [
  {
   "attachments": {},
   "cell_type": "markdown",
   "metadata": {},
   "source": [
    "### NoSQL Data Store for file metadata"
   ]
  },
  {
   "attachments": {},
   "cell_type": "markdown",
   "metadata": {},
   "source": [
    "Generating fake file metadata to review design with Cosmos DB"
   ]
  },
  {
   "cell_type": "code",
   "execution_count": 1,
   "metadata": {},
   "outputs": [],
   "source": [
    "from azure.cosmos import CosmosClient, PartitionKey\n",
    "from configparser import ConfigParser\n",
    "from faker import Faker\n",
    "\n",
    "import os\n",
    "import json\n",
    "import uuid\n",
    "\n",
    "parser = ConfigParser()\n",
    "parser.read('../NotebookConfig.cfg')\n",
    "\n",
    "cosmosAccountURI = parser.get('CosmosDB', 'COSMOSDB_SQLSLWD_ACCOUNT_URI')\n",
    "cosmosAccountKey = parser.get('CosmosDB', 'COSMOSDB_SQLSLWD_ACCOUNT_KEY')\n",
    "\n",
    "databaseName = 'Learn'\n",
    "containerName = 'FileMetadata'\n",
    "partitionKeypath = '/File'\n",
    "\n",
    "Faker.seed(0)\n",
    "fake = Faker(['en-US'])"
   ]
  },
  {
   "cell_type": "code",
   "execution_count": 2,
   "metadata": {},
   "outputs": [],
   "source": [
    "# Shared database throughput for test environment\n",
    "\n",
    "client = CosmosClient(cosmosAccountURI, cosmosAccountKey)\n",
    "db = client.create_database_if_not_exists(databaseName, offer_throughput=400)\n",
    "\n",
    "pkPath = PartitionKey(path=partitionKeypath)\n",
    "ctr = db.create_container_if_not_exists(id=containerName, partition_key=pkPath) "
   ]
  },
  {
   "cell_type": "code",
   "execution_count": 3,
   "metadata": {},
   "outputs": [
    {
     "ename": "ServiceResponseError",
     "evalue": "('Connection aborted.', RemoteDisconnected('Remote end closed connection without response'))",
     "output_type": "error",
     "traceback": [
      "\u001b[1;31m---------------------------------------------------------------------------\u001b[0m",
      "\u001b[1;31mServiceResponseError\u001b[0m                      Traceback (most recent call last)",
      "Cell \u001b[1;32mIn[3], line 14\u001b[0m\n\u001b[0;32m      1\u001b[0m \u001b[39mfor\u001b[39;00m i \u001b[39min\u001b[39;00m \u001b[39mrange\u001b[39m(\u001b[39m1000000\u001b[39m):\n\u001b[0;32m      2\u001b[0m     file \u001b[39m=\u001b[39m {\n\u001b[0;32m      3\u001b[0m         \u001b[39m'\u001b[39m\u001b[39mid\u001b[39m\u001b[39m'\u001b[39m: \u001b[39mstr\u001b[39m(uuid\u001b[39m.\u001b[39muuid4())\n\u001b[0;32m      4\u001b[0m         , \u001b[39m'\u001b[39m\u001b[39mFile\u001b[39m\u001b[39m'\u001b[39m: fake\u001b[39m.\u001b[39mfile_path(depth\u001b[39m=\u001b[39mfake\u001b[39m.\u001b[39mrandom_int(\u001b[39mmin\u001b[39m\u001b[39m=\u001b[39m\u001b[39m1\u001b[39m,\u001b[39mmax\u001b[39m\u001b[39m=\u001b[39m\u001b[39m10\u001b[39m))\n\u001b[1;32m   (...)\u001b[0m\n\u001b[0;32m     11\u001b[0m         , \u001b[39m'\u001b[39m\u001b[39mExtension\u001b[39m\u001b[39m'\u001b[39m: fake\u001b[39m.\u001b[39mfile_extension() \u001b[39m# May have a different extention from the name, test is test...\u001b[39;00m\n\u001b[0;32m     12\u001b[0m     }\n\u001b[1;32m---> 14\u001b[0m     ctr\u001b[39m.\u001b[39;49mcreate_item(file)\n",
      "File \u001b[1;32m~\\AppData\\Local\\Packages\\PythonSoftwareFoundation.Python.3.10_qbz5n2kfra8p0\\LocalCache\\local-packages\\Python310\\site-packages\\azure\\core\\tracing\\decorator.py:78\u001b[0m, in \u001b[0;36mdistributed_trace.<locals>.decorator.<locals>.wrapper_use_tracer\u001b[1;34m(*args, **kwargs)\u001b[0m\n\u001b[0;32m     76\u001b[0m span_impl_type \u001b[39m=\u001b[39m settings\u001b[39m.\u001b[39mtracing_implementation()\n\u001b[0;32m     77\u001b[0m \u001b[39mif\u001b[39;00m span_impl_type \u001b[39mis\u001b[39;00m \u001b[39mNone\u001b[39;00m:\n\u001b[1;32m---> 78\u001b[0m     \u001b[39mreturn\u001b[39;00m func(\u001b[39m*\u001b[39margs, \u001b[39m*\u001b[39m\u001b[39m*\u001b[39mkwargs)\n\u001b[0;32m     80\u001b[0m \u001b[39m# Merge span is parameter is set, but only if no explicit parent are passed\u001b[39;00m\n\u001b[0;32m     81\u001b[0m \u001b[39mif\u001b[39;00m merge_span \u001b[39mand\u001b[39;00m \u001b[39mnot\u001b[39;00m passed_in_parent:\n",
      "File \u001b[1;32m~\\AppData\\Local\\Packages\\PythonSoftwareFoundation.Python.3.10_qbz5n2kfra8p0\\LocalCache\\local-packages\\Python310\\site-packages\\azure\\cosmos\\container.py:570\u001b[0m, in \u001b[0;36mContainerProxy.create_item\u001b[1;34m(self, body, populate_query_metrics, pre_trigger_include, post_trigger_include, indexing_directive, **kwargs)\u001b[0m\n\u001b[0;32m    567\u001b[0m \u001b[39mif\u001b[39;00m indexing_directive \u001b[39mis\u001b[39;00m \u001b[39mnot\u001b[39;00m \u001b[39mNone\u001b[39;00m:\n\u001b[0;32m    568\u001b[0m     request_options[\u001b[39m\"\u001b[39m\u001b[39mindexingDirective\u001b[39m\u001b[39m\"\u001b[39m] \u001b[39m=\u001b[39m indexing_directive\n\u001b[1;32m--> 570\u001b[0m result \u001b[39m=\u001b[39m \u001b[39mself\u001b[39m\u001b[39m.\u001b[39mclient_connection\u001b[39m.\u001b[39mCreateItem(\n\u001b[0;32m    571\u001b[0m     database_or_container_link\u001b[39m=\u001b[39m\u001b[39mself\u001b[39m\u001b[39m.\u001b[39mcontainer_link, document\u001b[39m=\u001b[39mbody, options\u001b[39m=\u001b[39mrequest_options, \u001b[39m*\u001b[39m\u001b[39m*\u001b[39mkwargs\n\u001b[0;32m    572\u001b[0m )\n\u001b[0;32m    573\u001b[0m \u001b[39mif\u001b[39;00m response_hook:\n\u001b[0;32m    574\u001b[0m     response_hook(\u001b[39mself\u001b[39m\u001b[39m.\u001b[39mclient_connection\u001b[39m.\u001b[39mlast_response_headers, result)\n",
      "File \u001b[1;32m~\\AppData\\Local\\Packages\\PythonSoftwareFoundation.Python.3.10_qbz5n2kfra8p0\\LocalCache\\local-packages\\Python310\\site-packages\\azure\\cosmos\\_cosmos_client_connection.py:1126\u001b[0m, in \u001b[0;36mCosmosClientConnection.CreateItem\u001b[1;34m(self, database_or_container_link, document, options, **kwargs)\u001b[0m\n\u001b[0;32m   1123\u001b[0m \u001b[39mif\u001b[39;00m base\u001b[39m.\u001b[39mIsItemContainerLink(database_or_container_link):\n\u001b[0;32m   1124\u001b[0m     options \u001b[39m=\u001b[39m \u001b[39mself\u001b[39m\u001b[39m.\u001b[39m_AddPartitionKey(database_or_container_link, document, options)\n\u001b[1;32m-> 1126\u001b[0m \u001b[39mreturn\u001b[39;00m \u001b[39mself\u001b[39m\u001b[39m.\u001b[39mCreate(document, path, \u001b[39m\"\u001b[39m\u001b[39mdocs\u001b[39m\u001b[39m\"\u001b[39m, collection_id, \u001b[39mNone\u001b[39;00m, options, \u001b[39m*\u001b[39m\u001b[39m*\u001b[39mkwargs)\n",
      "File \u001b[1;32m~\\AppData\\Local\\Packages\\PythonSoftwareFoundation.Python.3.10_qbz5n2kfra8p0\\LocalCache\\local-packages\\Python310\\site-packages\\azure\\cosmos\\_cosmos_client_connection.py:2108\u001b[0m, in \u001b[0;36mCosmosClientConnection.Create\u001b[1;34m(self, body, path, typ, id, initial_headers, options, **kwargs)\u001b[0m\n\u001b[0;32m   2105\u001b[0m \u001b[39m# Create will use WriteEndpoint since it uses POST operation\u001b[39;00m\n\u001b[0;32m   2107\u001b[0m request_params \u001b[39m=\u001b[39m _request_object\u001b[39m.\u001b[39mRequestObject(typ, documents\u001b[39m.\u001b[39m_OperationType\u001b[39m.\u001b[39mCreate)\n\u001b[1;32m-> 2108\u001b[0m result, \u001b[39mself\u001b[39m\u001b[39m.\u001b[39mlast_response_headers \u001b[39m=\u001b[39m \u001b[39mself\u001b[39m\u001b[39m.\u001b[39m__Post(path, request_params, body, headers, \u001b[39m*\u001b[39m\u001b[39m*\u001b[39mkwargs)\n\u001b[0;32m   2110\u001b[0m \u001b[39m# update session for write request\u001b[39;00m\n\u001b[0;32m   2111\u001b[0m \u001b[39mself\u001b[39m\u001b[39m.\u001b[39m_UpdateSessionIfRequired(headers, result, \u001b[39mself\u001b[39m\u001b[39m.\u001b[39mlast_response_headers)\n",
      "File \u001b[1;32m~\\AppData\\Local\\Packages\\PythonSoftwareFoundation.Python.3.10_qbz5n2kfra8p0\\LocalCache\\local-packages\\Python310\\site-packages\\azure\\cosmos\\_cosmos_client_connection.py:2274\u001b[0m, in \u001b[0;36mCosmosClientConnection.__Post\u001b[1;34m(self, path, request_params, body, req_headers, **kwargs)\u001b[0m\n\u001b[0;32m   2260\u001b[0m \u001b[39m\"\"\"Azure Cosmos 'POST' http request.\u001b[39;00m\n\u001b[0;32m   2261\u001b[0m \n\u001b[0;32m   2262\u001b[0m \u001b[39m:params str url:\u001b[39;00m\n\u001b[1;32m   (...)\u001b[0m\n\u001b[0;32m   2271\u001b[0m \n\u001b[0;32m   2272\u001b[0m \u001b[39m\"\"\"\u001b[39;00m\n\u001b[0;32m   2273\u001b[0m request \u001b[39m=\u001b[39m \u001b[39mself\u001b[39m\u001b[39m.\u001b[39mpipeline_client\u001b[39m.\u001b[39mpost(url\u001b[39m=\u001b[39mpath, headers\u001b[39m=\u001b[39mreq_headers)\n\u001b[1;32m-> 2274\u001b[0m \u001b[39mreturn\u001b[39;00m synchronized_request\u001b[39m.\u001b[39mSynchronizedRequest(\n\u001b[0;32m   2275\u001b[0m     client\u001b[39m=\u001b[39m\u001b[39mself\u001b[39m,\n\u001b[0;32m   2276\u001b[0m     request_params\u001b[39m=\u001b[39mrequest_params,\n\u001b[0;32m   2277\u001b[0m     global_endpoint_manager\u001b[39m=\u001b[39m\u001b[39mself\u001b[39m\u001b[39m.\u001b[39m_global_endpoint_manager,\n\u001b[0;32m   2278\u001b[0m     connection_policy\u001b[39m=\u001b[39m\u001b[39mself\u001b[39m\u001b[39m.\u001b[39mconnection_policy,\n\u001b[0;32m   2279\u001b[0m     pipeline_client\u001b[39m=\u001b[39m\u001b[39mself\u001b[39m\u001b[39m.\u001b[39mpipeline_client,\n\u001b[0;32m   2280\u001b[0m     request\u001b[39m=\u001b[39mrequest,\n\u001b[0;32m   2281\u001b[0m     request_data\u001b[39m=\u001b[39mbody,\n\u001b[0;32m   2282\u001b[0m     \u001b[39m*\u001b[39m\u001b[39m*\u001b[39mkwargs\n\u001b[0;32m   2283\u001b[0m )\n",
      "File \u001b[1;32m~\\AppData\\Local\\Packages\\PythonSoftwareFoundation.Python.3.10_qbz5n2kfra8p0\\LocalCache\\local-packages\\Python310\\site-packages\\azure\\cosmos\\_synchronized_request.py:206\u001b[0m, in \u001b[0;36mSynchronizedRequest\u001b[1;34m(client, request_params, global_endpoint_manager, connection_policy, pipeline_client, request, request_data, **kwargs)\u001b[0m\n\u001b[0;32m    203\u001b[0m     request\u001b[39m.\u001b[39mheaders[http_constants\u001b[39m.\u001b[39mHttpHeaders\u001b[39m.\u001b[39mContentLength] \u001b[39m=\u001b[39m \u001b[39m0\u001b[39m\n\u001b[0;32m    205\u001b[0m \u001b[39m# Pass _Request function with it's parameters to retry_utility's Execute method that wraps the call with retries\u001b[39;00m\n\u001b[1;32m--> 206\u001b[0m \u001b[39mreturn\u001b[39;00m _retry_utility\u001b[39m.\u001b[39mExecute(\n\u001b[0;32m    207\u001b[0m     client,\n\u001b[0;32m    208\u001b[0m     global_endpoint_manager,\n\u001b[0;32m    209\u001b[0m     _Request,\n\u001b[0;32m    210\u001b[0m     request_params,\n\u001b[0;32m    211\u001b[0m     connection_policy,\n\u001b[0;32m    212\u001b[0m     pipeline_client,\n\u001b[0;32m    213\u001b[0m     request,\n\u001b[0;32m    214\u001b[0m     \u001b[39m*\u001b[39m\u001b[39m*\u001b[39mkwargs\n\u001b[0;32m    215\u001b[0m )\n",
      "File \u001b[1;32m~\\AppData\\Local\\Packages\\PythonSoftwareFoundation.Python.3.10_qbz5n2kfra8p0\\LocalCache\\local-packages\\Python310\\site-packages\\azure\\cosmos\\_retry_utility.py:77\u001b[0m, in \u001b[0;36mExecute\u001b[1;34m(client, global_endpoint_manager, function, *args, **kwargs)\u001b[0m\n\u001b[0;32m     75\u001b[0m start_time \u001b[39m=\u001b[39m time\u001b[39m.\u001b[39mtime()\n\u001b[0;32m     76\u001b[0m \u001b[39mif\u001b[39;00m args:\n\u001b[1;32m---> 77\u001b[0m     result \u001b[39m=\u001b[39m ExecuteFunction(function, global_endpoint_manager, \u001b[39m*\u001b[39margs, \u001b[39m*\u001b[39m\u001b[39m*\u001b[39mkwargs)\n\u001b[0;32m     78\u001b[0m \u001b[39melse\u001b[39;00m:\n\u001b[0;32m     79\u001b[0m     result \u001b[39m=\u001b[39m ExecuteFunction(function, \u001b[39m*\u001b[39margs, \u001b[39m*\u001b[39m\u001b[39m*\u001b[39mkwargs)\n",
      "File \u001b[1;32m~\\AppData\\Local\\Packages\\PythonSoftwareFoundation.Python.3.10_qbz5n2kfra8p0\\LocalCache\\local-packages\\Python310\\site-packages\\azure\\cosmos\\_retry_utility.py:136\u001b[0m, in \u001b[0;36mExecuteFunction\u001b[1;34m(function, *args, **kwargs)\u001b[0m\n\u001b[0;32m    133\u001b[0m \u001b[39mdef\u001b[39;00m \u001b[39mExecuteFunction\u001b[39m(function, \u001b[39m*\u001b[39margs, \u001b[39m*\u001b[39m\u001b[39m*\u001b[39mkwargs):\n\u001b[0;32m    134\u001b[0m     \u001b[39m\"\"\"Stub method so that it can be used for mocking purposes as well.\u001b[39;00m\n\u001b[0;32m    135\u001b[0m \u001b[39m    \"\"\"\u001b[39;00m\n\u001b[1;32m--> 136\u001b[0m     \u001b[39mreturn\u001b[39;00m function(\u001b[39m*\u001b[39margs, \u001b[39m*\u001b[39m\u001b[39m*\u001b[39mkwargs)\n",
      "File \u001b[1;32m~\\AppData\\Local\\Packages\\PythonSoftwareFoundation.Python.3.10_qbz5n2kfra8p0\\LocalCache\\local-packages\\Python310\\site-packages\\azure\\cosmos\\_synchronized_request.py:131\u001b[0m, in \u001b[0;36m_Request\u001b[1;34m(global_endpoint_manager, request_params, connection_policy, pipeline_client, request, **kwargs)\u001b[0m\n\u001b[0;32m    122\u001b[0m     response \u001b[39m=\u001b[39m _PipelineRunFunction(\n\u001b[0;32m    123\u001b[0m         pipeline_client,\n\u001b[0;32m    124\u001b[0m         request,\n\u001b[1;32m   (...)\u001b[0m\n\u001b[0;32m    128\u001b[0m         \u001b[39m*\u001b[39m\u001b[39m*\u001b[39mkwargs\n\u001b[0;32m    129\u001b[0m     )\n\u001b[0;32m    130\u001b[0m \u001b[39melse\u001b[39;00m:\n\u001b[1;32m--> 131\u001b[0m     response \u001b[39m=\u001b[39m _PipelineRunFunction(\n\u001b[0;32m    132\u001b[0m         pipeline_client,\n\u001b[0;32m    133\u001b[0m         request,\n\u001b[0;32m    134\u001b[0m         connection_timeout\u001b[39m=\u001b[39mconnection_timeout,\n\u001b[0;32m    135\u001b[0m         \u001b[39m# If SSL is disabled, verify = false\u001b[39;00m\n\u001b[0;32m    136\u001b[0m         connection_verify\u001b[39m=\u001b[39mkwargs\u001b[39m.\u001b[39mpop(\u001b[39m\"\u001b[39m\u001b[39mconnection_verify\u001b[39m\u001b[39m\"\u001b[39m, is_ssl_enabled),\n\u001b[0;32m    137\u001b[0m         \u001b[39m*\u001b[39m\u001b[39m*\u001b[39mkwargs\n\u001b[0;32m    138\u001b[0m     )\n\u001b[0;32m    140\u001b[0m response \u001b[39m=\u001b[39m response\u001b[39m.\u001b[39mhttp_response\n\u001b[0;32m    141\u001b[0m headers \u001b[39m=\u001b[39m \u001b[39mdict\u001b[39m(response\u001b[39m.\u001b[39mheaders)\n",
      "File \u001b[1;32m~\\AppData\\Local\\Packages\\PythonSoftwareFoundation.Python.3.10_qbz5n2kfra8p0\\LocalCache\\local-packages\\Python310\\site-packages\\azure\\cosmos\\_synchronized_request.py:172\u001b[0m, in \u001b[0;36m_PipelineRunFunction\u001b[1;34m(pipeline_client, request, **kwargs)\u001b[0m\n\u001b[0;32m    169\u001b[0m \u001b[39mdef\u001b[39;00m \u001b[39m_PipelineRunFunction\u001b[39m(pipeline_client, request, \u001b[39m*\u001b[39m\u001b[39m*\u001b[39mkwargs):\n\u001b[0;32m    170\u001b[0m     \u001b[39m# pylint: disable=protected-access\u001b[39;00m\n\u001b[1;32m--> 172\u001b[0m     \u001b[39mreturn\u001b[39;00m pipeline_client\u001b[39m.\u001b[39m_pipeline\u001b[39m.\u001b[39mrun(request, \u001b[39m*\u001b[39m\u001b[39m*\u001b[39mkwargs)\n",
      "File \u001b[1;32m~\\AppData\\Local\\Packages\\PythonSoftwareFoundation.Python.3.10_qbz5n2kfra8p0\\LocalCache\\local-packages\\Python310\\site-packages\\azure\\core\\pipeline\\_base.py:211\u001b[0m, in \u001b[0;36mPipeline.run\u001b[1;34m(self, request, **kwargs)\u001b[0m\n\u001b[0;32m    203\u001b[0m pipeline_request \u001b[39m=\u001b[39m PipelineRequest(\n\u001b[0;32m    204\u001b[0m     request, context\n\u001b[0;32m    205\u001b[0m )  \u001b[39m# type: PipelineRequest[HTTPRequestType]\u001b[39;00m\n\u001b[0;32m    206\u001b[0m first_node \u001b[39m=\u001b[39m (\n\u001b[0;32m    207\u001b[0m     \u001b[39mself\u001b[39m\u001b[39m.\u001b[39m_impl_policies[\u001b[39m0\u001b[39m]\n\u001b[0;32m    208\u001b[0m     \u001b[39mif\u001b[39;00m \u001b[39mself\u001b[39m\u001b[39m.\u001b[39m_impl_policies\n\u001b[0;32m    209\u001b[0m     \u001b[39melse\u001b[39;00m _TransportRunner(\u001b[39mself\u001b[39m\u001b[39m.\u001b[39m_transport)\n\u001b[0;32m    210\u001b[0m )\n\u001b[1;32m--> 211\u001b[0m \u001b[39mreturn\u001b[39;00m first_node\u001b[39m.\u001b[39;49msend(pipeline_request)\n",
      "File \u001b[1;32m~\\AppData\\Local\\Packages\\PythonSoftwareFoundation.Python.3.10_qbz5n2kfra8p0\\LocalCache\\local-packages\\Python310\\site-packages\\azure\\core\\pipeline\\_base.py:71\u001b[0m, in \u001b[0;36m_SansIOHTTPPolicyRunner.send\u001b[1;34m(self, request)\u001b[0m\n\u001b[0;32m     69\u001b[0m _await_result(\u001b[39mself\u001b[39m\u001b[39m.\u001b[39m_policy\u001b[39m.\u001b[39mon_request, request)\n\u001b[0;32m     70\u001b[0m \u001b[39mtry\u001b[39;00m:\n\u001b[1;32m---> 71\u001b[0m     response \u001b[39m=\u001b[39m \u001b[39mself\u001b[39;49m\u001b[39m.\u001b[39;49mnext\u001b[39m.\u001b[39;49msend(request)\n\u001b[0;32m     72\u001b[0m \u001b[39mexcept\u001b[39;00m \u001b[39mException\u001b[39;00m:  \u001b[39m# pylint: disable=broad-except\u001b[39;00m\n\u001b[0;32m     73\u001b[0m     _await_result(\u001b[39mself\u001b[39m\u001b[39m.\u001b[39m_policy\u001b[39m.\u001b[39mon_exception, request)\n",
      "File \u001b[1;32m~\\AppData\\Local\\Packages\\PythonSoftwareFoundation.Python.3.10_qbz5n2kfra8p0\\LocalCache\\local-packages\\Python310\\site-packages\\azure\\core\\pipeline\\_base.py:71\u001b[0m, in \u001b[0;36m_SansIOHTTPPolicyRunner.send\u001b[1;34m(self, request)\u001b[0m\n\u001b[0;32m     69\u001b[0m _await_result(\u001b[39mself\u001b[39m\u001b[39m.\u001b[39m_policy\u001b[39m.\u001b[39mon_request, request)\n\u001b[0;32m     70\u001b[0m \u001b[39mtry\u001b[39;00m:\n\u001b[1;32m---> 71\u001b[0m     response \u001b[39m=\u001b[39m \u001b[39mself\u001b[39;49m\u001b[39m.\u001b[39;49mnext\u001b[39m.\u001b[39;49msend(request)\n\u001b[0;32m     72\u001b[0m \u001b[39mexcept\u001b[39;00m \u001b[39mException\u001b[39;00m:  \u001b[39m# pylint: disable=broad-except\u001b[39;00m\n\u001b[0;32m     73\u001b[0m     _await_result(\u001b[39mself\u001b[39m\u001b[39m.\u001b[39m_policy\u001b[39m.\u001b[39mon_exception, request)\n",
      "    \u001b[1;31m[... skipping similar frames: _SansIOHTTPPolicyRunner.send at line 71 (1 times)]\u001b[0m\n",
      "File \u001b[1;32m~\\AppData\\Local\\Packages\\PythonSoftwareFoundation.Python.3.10_qbz5n2kfra8p0\\LocalCache\\local-packages\\Python310\\site-packages\\azure\\core\\pipeline\\_base.py:71\u001b[0m, in \u001b[0;36m_SansIOHTTPPolicyRunner.send\u001b[1;34m(self, request)\u001b[0m\n\u001b[0;32m     69\u001b[0m _await_result(\u001b[39mself\u001b[39m\u001b[39m.\u001b[39m_policy\u001b[39m.\u001b[39mon_request, request)\n\u001b[0;32m     70\u001b[0m \u001b[39mtry\u001b[39;00m:\n\u001b[1;32m---> 71\u001b[0m     response \u001b[39m=\u001b[39m \u001b[39mself\u001b[39;49m\u001b[39m.\u001b[39;49mnext\u001b[39m.\u001b[39;49msend(request)\n\u001b[0;32m     72\u001b[0m \u001b[39mexcept\u001b[39;00m \u001b[39mException\u001b[39;00m:  \u001b[39m# pylint: disable=broad-except\u001b[39;00m\n\u001b[0;32m     73\u001b[0m     _await_result(\u001b[39mself\u001b[39m\u001b[39m.\u001b[39m_policy\u001b[39m.\u001b[39mon_exception, request)\n",
      "File \u001b[1;32m~\\AppData\\Local\\Packages\\PythonSoftwareFoundation.Python.3.10_qbz5n2kfra8p0\\LocalCache\\local-packages\\Python310\\site-packages\\azure\\cosmos\\_retry_utility.py:208\u001b[0m, in \u001b[0;36mConnectionRetryPolicy.send\u001b[1;34m(self, request)\u001b[0m\n\u001b[0;32m    206\u001b[0m             \u001b[39mself\u001b[39m\u001b[39m.\u001b[39msleep(retry_settings, request\u001b[39m.\u001b[39mcontext\u001b[39m.\u001b[39mtransport)\n\u001b[0;32m    207\u001b[0m             \u001b[39mcontinue\u001b[39;00m\n\u001b[1;32m--> 208\u001b[0m     \u001b[39mraise\u001b[39;00m err\n\u001b[0;32m    209\u001b[0m \u001b[39mfinally\u001b[39;00m:\n\u001b[0;32m    210\u001b[0m     end_time \u001b[39m=\u001b[39m time\u001b[39m.\u001b[39mtime()\n",
      "File \u001b[1;32m~\\AppData\\Local\\Packages\\PythonSoftwareFoundation.Python.3.10_qbz5n2kfra8p0\\LocalCache\\local-packages\\Python310\\site-packages\\azure\\cosmos\\_retry_utility.py:185\u001b[0m, in \u001b[0;36mConnectionRetryPolicy.send\u001b[1;34m(self, request)\u001b[0m\n\u001b[0;32m    182\u001b[0m start_time \u001b[39m=\u001b[39m time\u001b[39m.\u001b[39mtime()\n\u001b[0;32m    183\u001b[0m _configure_timeout(request, absolute_timeout, per_request_timeout)\n\u001b[1;32m--> 185\u001b[0m response \u001b[39m=\u001b[39m \u001b[39mself\u001b[39;49m\u001b[39m.\u001b[39;49mnext\u001b[39m.\u001b[39;49msend(request)\n\u001b[0;32m    186\u001b[0m \u001b[39mif\u001b[39;00m \u001b[39mself\u001b[39m\u001b[39m.\u001b[39mis_retry(retry_settings, response):\n\u001b[0;32m    187\u001b[0m     retry_active \u001b[39m=\u001b[39m \u001b[39mself\u001b[39m\u001b[39m.\u001b[39mincrement(retry_settings, response\u001b[39m=\u001b[39mresponse)\n",
      "File \u001b[1;32m~\\AppData\\Local\\Packages\\PythonSoftwareFoundation.Python.3.10_qbz5n2kfra8p0\\LocalCache\\local-packages\\Python310\\site-packages\\azure\\core\\pipeline\\_base.py:71\u001b[0m, in \u001b[0;36m_SansIOHTTPPolicyRunner.send\u001b[1;34m(self, request)\u001b[0m\n\u001b[0;32m     69\u001b[0m _await_result(\u001b[39mself\u001b[39m\u001b[39m.\u001b[39m_policy\u001b[39m.\u001b[39mon_request, request)\n\u001b[0;32m     70\u001b[0m \u001b[39mtry\u001b[39;00m:\n\u001b[1;32m---> 71\u001b[0m     response \u001b[39m=\u001b[39m \u001b[39mself\u001b[39;49m\u001b[39m.\u001b[39;49mnext\u001b[39m.\u001b[39;49msend(request)\n\u001b[0;32m     72\u001b[0m \u001b[39mexcept\u001b[39;00m \u001b[39mException\u001b[39;00m:  \u001b[39m# pylint: disable=broad-except\u001b[39;00m\n\u001b[0;32m     73\u001b[0m     _await_result(\u001b[39mself\u001b[39m\u001b[39m.\u001b[39m_policy\u001b[39m.\u001b[39mon_exception, request)\n",
      "File \u001b[1;32m~\\AppData\\Local\\Packages\\PythonSoftwareFoundation.Python.3.10_qbz5n2kfra8p0\\LocalCache\\local-packages\\Python310\\site-packages\\azure\\core\\pipeline\\_base.py:71\u001b[0m, in \u001b[0;36m_SansIOHTTPPolicyRunner.send\u001b[1;34m(self, request)\u001b[0m\n\u001b[0;32m     69\u001b[0m _await_result(\u001b[39mself\u001b[39m\u001b[39m.\u001b[39m_policy\u001b[39m.\u001b[39mon_request, request)\n\u001b[0;32m     70\u001b[0m \u001b[39mtry\u001b[39;00m:\n\u001b[1;32m---> 71\u001b[0m     response \u001b[39m=\u001b[39m \u001b[39mself\u001b[39;49m\u001b[39m.\u001b[39;49mnext\u001b[39m.\u001b[39;49msend(request)\n\u001b[0;32m     72\u001b[0m \u001b[39mexcept\u001b[39;00m \u001b[39mException\u001b[39;00m:  \u001b[39m# pylint: disable=broad-except\u001b[39;00m\n\u001b[0;32m     73\u001b[0m     _await_result(\u001b[39mself\u001b[39m\u001b[39m.\u001b[39m_policy\u001b[39m.\u001b[39mon_exception, request)\n",
      "    \u001b[1;31m[... skipping similar frames: _SansIOHTTPPolicyRunner.send at line 71 (1 times)]\u001b[0m\n",
      "File \u001b[1;32m~\\AppData\\Local\\Packages\\PythonSoftwareFoundation.Python.3.10_qbz5n2kfra8p0\\LocalCache\\local-packages\\Python310\\site-packages\\azure\\core\\pipeline\\_base.py:71\u001b[0m, in \u001b[0;36m_SansIOHTTPPolicyRunner.send\u001b[1;34m(self, request)\u001b[0m\n\u001b[0;32m     69\u001b[0m _await_result(\u001b[39mself\u001b[39m\u001b[39m.\u001b[39m_policy\u001b[39m.\u001b[39mon_request, request)\n\u001b[0;32m     70\u001b[0m \u001b[39mtry\u001b[39;00m:\n\u001b[1;32m---> 71\u001b[0m     response \u001b[39m=\u001b[39m \u001b[39mself\u001b[39;49m\u001b[39m.\u001b[39;49mnext\u001b[39m.\u001b[39;49msend(request)\n\u001b[0;32m     72\u001b[0m \u001b[39mexcept\u001b[39;00m \u001b[39mException\u001b[39;00m:  \u001b[39m# pylint: disable=broad-except\u001b[39;00m\n\u001b[0;32m     73\u001b[0m     _await_result(\u001b[39mself\u001b[39m\u001b[39m.\u001b[39m_policy\u001b[39m.\u001b[39mon_exception, request)\n",
      "File \u001b[1;32m~\\AppData\\Local\\Packages\\PythonSoftwareFoundation.Python.3.10_qbz5n2kfra8p0\\LocalCache\\local-packages\\Python310\\site-packages\\azure\\core\\pipeline\\_base.py:103\u001b[0m, in \u001b[0;36m_TransportRunner.send\u001b[1;34m(self, request)\u001b[0m\n\u001b[0;32m     93\u001b[0m \u001b[39mdef\u001b[39;00m \u001b[39msend\u001b[39m(\u001b[39mself\u001b[39m, request):\n\u001b[0;32m     94\u001b[0m     \u001b[39m\"\"\"HTTP transport send method.\u001b[39;00m\n\u001b[0;32m     95\u001b[0m \n\u001b[0;32m     96\u001b[0m \u001b[39m    :param request: The PipelineRequest object.\u001b[39;00m\n\u001b[1;32m   (...)\u001b[0m\n\u001b[0;32m     99\u001b[0m \u001b[39m    :rtype: ~azure.core.pipeline.PipelineResponse\u001b[39;00m\n\u001b[0;32m    100\u001b[0m \u001b[39m    \"\"\"\u001b[39;00m\n\u001b[0;32m    101\u001b[0m     \u001b[39mreturn\u001b[39;00m PipelineResponse(\n\u001b[0;32m    102\u001b[0m         request\u001b[39m.\u001b[39mhttp_request,\n\u001b[1;32m--> 103\u001b[0m         \u001b[39mself\u001b[39m\u001b[39m.\u001b[39m_sender\u001b[39m.\u001b[39msend(request\u001b[39m.\u001b[39mhttp_request, \u001b[39m*\u001b[39m\u001b[39m*\u001b[39mrequest\u001b[39m.\u001b[39mcontext\u001b[39m.\u001b[39moptions),\n\u001b[0;32m    104\u001b[0m         context\u001b[39m=\u001b[39mrequest\u001b[39m.\u001b[39mcontext,\n\u001b[0;32m    105\u001b[0m     )\n",
      "File \u001b[1;32m~\\AppData\\Local\\Packages\\PythonSoftwareFoundation.Python.3.10_qbz5n2kfra8p0\\LocalCache\\local-packages\\Python310\\site-packages\\azure\\core\\pipeline\\transport\\_requests_basic.py:360\u001b[0m, in \u001b[0;36mRequestsTransport.send\u001b[1;34m(self, request, **kwargs)\u001b[0m\n\u001b[0;32m    357\u001b[0m     error \u001b[39m=\u001b[39m ServiceRequestError(err, error\u001b[39m=\u001b[39merr)\n\u001b[0;32m    359\u001b[0m \u001b[39mif\u001b[39;00m error:\n\u001b[1;32m--> 360\u001b[0m     \u001b[39mraise\u001b[39;00m error\n\u001b[0;32m    361\u001b[0m \u001b[39mif\u001b[39;00m _is_rest(request):\n\u001b[0;32m    362\u001b[0m     \u001b[39mfrom\u001b[39;00m \u001b[39mazure\u001b[39;00m\u001b[39m.\u001b[39;00m\u001b[39mcore\u001b[39;00m\u001b[39m.\u001b[39;00m\u001b[39mrest\u001b[39;00m\u001b[39m.\u001b[39;00m\u001b[39m_requests_basic\u001b[39;00m \u001b[39mimport\u001b[39;00m RestRequestsTransportResponse\n",
      "\u001b[1;31mServiceResponseError\u001b[0m: ('Connection aborted.', RemoteDisconnected('Remote end closed connection without response'))"
     ]
    }
   ],
   "source": [
    "for i in range(1000000):\n",
    "    file = {\n",
    "        'id': str(uuid.uuid4())\n",
    "        , 'File': fake.file_path(depth=fake.random_int(min=1,max=10))\n",
    "        , 'JobId': fake.random_int(min=1,max=9999999999)\n",
    "        , 'Size': fake.random_int(min=1,max=9999999999999999) # Up to 8.88 TB\n",
    "        , 'SizeOnDisk': fake.random_int(min=1,max=99999999999999) # Up to 8.8 TB\n",
    "        , 'CreatedAt': fake.random_int(min=946684800,max=1674009647) # year 2000 until today - Unix Epoch\n",
    "        , 'ModifiedAt': fake.random_int(min=946684800,max=1674009647) # year 2000 until today - Unix Epoch\n",
    "        , 'AccessedAt': fake.random_int(min=946684800,max=1674009647) # year 2000 until today - Unix Epoch\n",
    "        , 'Extension': fake.file_extension() # May have a different extention from the name, test is test...\n",
    "    }\n",
    "\n",
    "    ctr.create_item(file)"
   ]
  },
  {
   "attachments": {},
   "cell_type": "markdown",
   "metadata": {},
   "source": [
    "Comparing insert cost with defaul indexing and index on 'File' property"
   ]
  },
  {
   "cell_type": "code",
   "execution_count": 4,
   "metadata": {},
   "outputs": [
    {
     "name": "stdout",
     "output_type": "stream",
     "text": [
      "RU - Dfault indexing:  8.57\n",
      "RU - Minimal indexing:  5.9\n"
     ]
    }
   ],
   "source": [
    "pkPath = PartitionKey(path=partitionKeypath)\n",
    "ctr2 = db.create_container_if_not_exists(id='FileMetadata2', partition_key=pkPath)\n",
    "\n",
    "file = {\n",
    "    'id': str(uuid.uuid4())\n",
    "    , 'File': fake.file_path(depth=fake.random_int(min=1,max=10))\n",
    "    , 'JobId': fake.random_int(min=1,max=9999999999)\n",
    "    , 'Size': fake.random_int(min=1,max=9999999999999999) # Up to 8.88 TB\n",
    "    , 'SizeOnDisk': fake.random_int(min=1,max=99999999999999) # Up to 8.8 TB\n",
    "    , 'CreatedAt': fake.random_int(min=946684800,max=1674009647) # year 2000 until today - Unix Epoch\n",
    "    , 'ModifiedAt': fake.random_int(min=946684800,max=1674009647) # year 2000 until today - Unix Epoch\n",
    "    , 'AccessedAt': fake.random_int(min=946684800,max=1674009647) # year 2000 until today - Unix Epoch\n",
    "    , 'Extension': fake.file_extension() # May have a different extention from the name, test is test...\n",
    "}\n",
    "\n",
    "ctr.create_item(file)\n",
    "print ('RU - Default indexing: ', float(ctr.client_connection.last_response_headers['x-ms-request-charge']))\n",
    "ctr2.create_item(file)\n",
    "print ('RU - Minimal indexing: ', float(ctr2.client_connection.last_response_headers['x-ms-request-charge']))"
   ]
  },
  {
   "attachments": {},
   "cell_type": "markdown",
   "metadata": {},
   "source": [
    "### Sample queries on top of 1M documents (document store)\n",
    "\n",
    "SELECT c.Extension, SUM((c.Size / 1073741824.0)) AS TotalGB, COUNT(c.id) AS NumFiles <br/>\n",
    "FROM c GROUP BY c.Extension<br/>\n",
    "-- 22027 RUs / All document fetched from backend<br/>\n",
    "\n",
    "SELECT SUM((c.Size / 1073741824.0)) AS TotalGB, COUNT(c.id) as TotalDocs<br/>\n",
    "FROM c WHERE startswith(c.File, '/book/')<br/>\n",
    "-- 35 RUs / 1017 documents retrieved<br/>\n",
    "\n",
    "SELECT c.Extension, SUM((c.Size / 1073741824.0)) AS TotalGB, COUNT(c.id) as TotalDocs<br/>\n",
    "FROM c WHERE startswith(c.File, '/book/')<br/>\n",
    "GROUP BY c.Extension <br/>\n",
    "-- 38.19 RUs / 1017 documents retrieved<br/>"
   ]
  },
  {
   "attachments": {},
   "cell_type": "markdown",
   "metadata": {},
   "source": [
    "### Sample queries on top of Analytical Store\n",
    "\n",
    "SELECT f.Extension, SUM((f.Size / 1073741824.0)) AS TotalGB, COUNT(f.size) AS NumFiles<br/> \n",
    "FROM OPENROWSET(<br/> \n",
    "       'CosmosDB',<br/>\n",
    "       'Account=CosmosAccount;Database=Learn;Key=YOURKEY',<br/>\n",
    "       FileMetadata) as f<br/>\n",
    "GROUP BY f.Extension<br/>\n",
    "<br/>\n",
    "Statement ID: {x} | Query hash: y | Distributed request ID: {z}. Total size of data scanned is 10 megabytes, total size of data moved is 13 megabytes, total size of data written is 0 megabytes. (32 records affected)<br/>\n",
    "Total execution time: 00:00:06.031<br/>\n",
    "<br/><br/>\n",
    "SELECT f.Extension, SUM((f.Size / 1073741824.0)) AS TotalGB, COUNT(f.size) AS NumFiles <br/>\n",
    "FROM OPENROWSET(<br/> \n",
    "       'CosmosDB',<br/>\n",
    "       'Account=CosmosAccount;Database=Learn;Key=YOURKEY',<br/>\n",
    "       FileMetadata) as f<br/>\n",
    "WHERE f.[File] like '/book/%'<br/>\n",
    "GROUP BY f.Extension<br/><br/>\n",
    "Statement ID: {x} | Query hash: y | Distributed request ID: {z}. Total size of data scanned is 69 megabytes, total size of data moved is 1 megabytes, total size of data written is 0 megabytes. (1 record affected)<br/>\n",
    "Total execution time: 00:00:05.991<br/>"
   ]
  },
  {
   "cell_type": "code",
   "execution_count": 63,
   "metadata": {},
   "outputs": [],
   "source": [
    "# Clean up code\n",
    "# Assuming objects are instantiated\n",
    "\n",
    "# db.delete_container(containerName)"
   ]
  }
 ],
 "metadata": {
  "kernelspec": {
   "display_name": "Python 3",
   "language": "python",
   "name": "python3"
  },
  "language_info": {
   "codemirror_mode": {
    "name": "ipython",
    "version": 3
   },
   "file_extension": ".py",
   "mimetype": "text/x-python",
   "name": "python",
   "nbconvert_exporter": "python",
   "pygments_lexer": "ipython3",
   "version": "3.10.10"
  },
  "orig_nbformat": 4,
  "vscode": {
   "interpreter": {
    "hash": "3f5c034d10c10f5a4ca2da93e6423dfeffe7b0b50e6b543a2b0cb9a54b246f48"
   }
  }
 },
 "nbformat": 4,
 "nbformat_minor": 2
}
