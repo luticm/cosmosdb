{
 "cells": [
  {
   "attachments": {},
   "cell_type": "markdown",
   "metadata": {},
   "source": [
    "### NoSQL Data Store for file metadata"
   ]
  },
  {
   "attachments": {},
   "cell_type": "markdown",
   "metadata": {},
   "source": [
    "Generating fake file metadata to review design with Cosmos DB"
   ]
  },
  {
   "cell_type": "code",
   "execution_count": 2,
   "metadata": {},
   "outputs": [],
   "source": [
    "from azure.cosmos import CosmosClient, PartitionKey\n",
    "from configparser import ConfigParser\n",
    "from faker import Faker\n",
    "\n",
    "import os\n",
    "import json\n",
    "import uuid\n",
    "\n",
    "parser = ConfigParser()\n",
    "parser.read('../NotebookConfig.cfg')\n",
    "\n",
    "cosmosAccountURI = parser.get('CosmosDB', 'COSMOSDB_SQLSLWD_ACCOUNT_URI')\n",
    "cosmosAccountKey = parser.get('CosmosDB', 'COSMOSDB_SQLSLWD_ACCOUNT_KEY')\n",
    "\n",
    "databaseName = 'Learn'\n",
    "containerName = 'FileMetadata'\n",
    "partitionKeypath = '/File'\n",
    "\n",
    "Faker.seed(0)\n",
    "fake = Faker(['en-US'])"
   ]
  },
  {
   "cell_type": "code",
   "execution_count": 3,
   "metadata": {},
   "outputs": [],
   "source": [
    "# Shared database throughput for test environment\n",
    "\n",
    "client = CosmosClient(cosmosAccountURI, cosmosAccountKey)\n",
    "db = client.create_database_if_not_exists(databaseName, offer_throughput=400)\n",
    "\n",
    "pkPath = PartitionKey(path=partitionKeypath)\n",
    "ctr = db.create_container_if_not_exists(id=containerName, partition_key=pkPath) \n",
    "# ctr = db.create_container_if_not_exists(id=containerName, partition_key=pkPath, offer_throughput=400) "
   ]
  },
  {
   "cell_type": "code",
   "execution_count": 66,
   "metadata": {},
   "outputs": [],
   "source": [
    "for i in range(1000000):\n",
    "    file = {\n",
    "        'id': str(uuid.uuid4())\n",
    "        , 'File': fake.file_path(depth=fake.random_int(min=1,max=10))\n",
    "        , 'JobId': fake.random_int(min=1,max=9999999999)\n",
    "        , 'Size': fake.random_int(min=1,max=9999999999999999) # Up to 8.88 TB\n",
    "        , 'SizeOnDisk': fake.random_int(min=1,max=99999999999999) # Up to 8.8 TB\n",
    "        , 'CreatedAt': fake.random_int(min=946684800,max=1674009647) # year 2000 until today - Unix Epoch\n",
    "        , 'ModifiedAt': fake.random_int(min=946684800,max=1674009647) # year 2000 until today - Unix Epoch\n",
    "        , 'AccessedAt': fake.random_int(min=946684800,max=1674009647) # year 2000 until today - Unix Epoch\n",
    "        , 'Extension': fake.file_extension() # May have a different extention from the name, test is test...\n",
    "    }\n",
    "\n",
    "    ctr.create_item(file)"
   ]
  },
  {
   "attachments": {},
   "cell_type": "markdown",
   "metadata": {},
   "source": [
    "Comparing insert cost with defaul indexing and index on 'File' property"
   ]
  },
  {
   "cell_type": "code",
   "execution_count": 4,
   "metadata": {},
   "outputs": [
    {
     "name": "stdout",
     "output_type": "stream",
     "text": [
      "RU - Dfault indexing:  8.57\n",
      "RU - Minimal indexing:  5.9\n"
     ]
    }
   ],
   "source": [
    "pkPath = PartitionKey(path=partitionKeypath)\n",
    "ctr2 = db.create_container_if_not_exists(id='FileMetadata2', partition_key=pkPath)\n",
    "\n",
    "file = {\n",
    "    'id': str(uuid.uuid4())\n",
    "    , 'File': fake.file_path(depth=fake.random_int(min=1,max=10))\n",
    "    , 'JobId': fake.random_int(min=1,max=9999999999)\n",
    "    , 'Size': fake.random_int(min=1,max=9999999999999999) # Up to 8.88 TB\n",
    "    , 'SizeOnDisk': fake.random_int(min=1,max=99999999999999) # Up to 8.8 TB\n",
    "    , 'CreatedAt': fake.random_int(min=946684800,max=1674009647) # year 2000 until today - Unix Epoch\n",
    "    , 'ModifiedAt': fake.random_int(min=946684800,max=1674009647) # year 2000 until today - Unix Epoch\n",
    "    , 'AccessedAt': fake.random_int(min=946684800,max=1674009647) # year 2000 until today - Unix Epoch\n",
    "    , 'Extension': fake.file_extension() # May have a different extention from the name, test is test...\n",
    "}\n",
    "\n",
    "ctr.create_item(file)\n",
    "print ('RU - Default indexing: ', float(ctr.client_connection.last_response_headers['x-ms-request-charge']))\n",
    "ctr2.create_item(file)\n",
    "print ('RU - Minimal indexing: ', float(ctr2.client_connection.last_response_headers['x-ms-request-charge']))"
   ]
  },
  {
   "attachments": {},
   "cell_type": "markdown",
   "metadata": {},
   "source": [
    "### Sample queries on top of 1M documents (document store)\n",
    "\n",
    "SELECT c.Extension, SUM((c.Size / 1073741824.0)) AS TotalGB, COUNT(c.id) AS NumFiles <br/>\n",
    "FROM c GROUP BY c.Extension<br/>\n",
    "-- 22027 RUs / All document fetched from backend<br/>\n",
    "\n",
    "SELECT SUM((c.Size / 1073741824.0)) AS TotalGB, COUNT(c.id) as TotalDocs<br/>\n",
    "FROM c WHERE startswith(c.File, '/book/')<br/>\n",
    "-- 35 RUs / 1017 documents retrieved<br/>\n",
    "\n",
    "SELECT c.Extension, SUM((c.Size / 1073741824.0)) AS TotalGB, COUNT(c.id) as TotalDocs<br/>\n",
    "FROM c WHERE startswith(c.File, '/book/')<br/>\n",
    "GROUP BY c.Extension <br/>\n",
    "-- 38.19 RUs / 1017 documents retrieved<br/>"
   ]
  },
  {
   "attachments": {},
   "cell_type": "markdown",
   "metadata": {},
   "source": [
    "### Sample queries on top of Analytical Store\n",
    "\n",
    "SELECT f.Extension, SUM((f.Size / 1073741824.0)) AS TotalGB, COUNT(f.size) AS NumFiles<br/> \n",
    "FROM OPENROWSET(<br/> \n",
    "       'CosmosDB',<br/>\n",
    "       'Account=CosmosAccount;Database=Learn;Key=YOURKEY',<br/>\n",
    "       FileMetadata) as f<br/>\n",
    "GROUP BY f.Extension<br/>\n",
    "<br/><br/>\n",
    "SELECT f.Extension, SUM((f.Size / 1073741824.0)) AS TotalGB, COUNT(f.size) AS NumFiles <br/>\n",
    "FROM OPENROWSET(<br/> \n",
    "       'CosmosDB',<br/>\n",
    "       'Account=CosmosAccount;Database=Learn;Key=YOURKEY',<br/>\n",
    "       FileMetadata) as f<br/>\n",
    "WHERE f.[File] like '/book/%'<br/>\n",
    "GROUP BY f.Extension<br/> "
   ]
  },
  {
   "cell_type": "code",
   "execution_count": 63,
   "metadata": {},
   "outputs": [],
   "source": [
    "# Clean up code\n",
    "# Assuming objects are instantiated\n",
    "\n",
    "# db.delete_container(containerName)"
   ]
  }
 ],
 "metadata": {
  "kernelspec": {
   "display_name": "Python 3",
   "language": "python",
   "name": "python3"
  },
  "language_info": {
   "codemirror_mode": {
    "name": "ipython",
    "version": 3
   },
   "file_extension": ".py",
   "mimetype": "text/x-python",
   "name": "python",
   "nbconvert_exporter": "python",
   "pygments_lexer": "ipython3",
   "version": "3.10.9"
  },
  "orig_nbformat": 4,
  "vscode": {
   "interpreter": {
    "hash": "3f5c034d10c10f5a4ca2da93e6423dfeffe7b0b50e6b543a2b0cb9a54b246f48"
   }
  }
 },
 "nbformat": 4,
 "nbformat_minor": 2
}
