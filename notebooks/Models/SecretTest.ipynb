{
 "cells": [
  {
   "cell_type": "code",
   "execution_count": null,
   "metadata": {},
   "outputs": [],
   "source": [
    "from azure.cosmos import CosmosClient\n",
    "\n",
    "# First test failed, account contig didn't enable for this repo, updated repo config.\n",
    "\n",
    "# Testing GitHub push protection with fake secret\n",
    "cosmosAccountURI = 'myfakecosmosaccounturi.documents.azure.com:443/'\n",
    "cosmosAccountKey = 'QQmibJ2NV3PZaY5Zcs40fYqE8RYnCJA4sHrK3IlbxLaH6Ja8Nu3ikg3o578A94MMperGh3NYefPLACDbWK6bLQ=='\n",
    "\n",
    "client = CosmosClient(cosmosAccountURI, cosmosAccountKey)"
   ]
  }
 ],
 "metadata": {
  "language_info": {
   "name": "python"
  },
  "orig_nbformat": 4
 },
 "nbformat": 4,
 "nbformat_minor": 2
}
