{
 "cells": [
  {
   "cell_type": "code",
   "execution_count": null,
   "metadata": {},
   "outputs": [],
   "source": [
    "from azure.cosmos import CosmosClient\n",
    "\n",
    "# First test failed, account contig didn't enable for this repo, updated repo config.\n",
    "\n",
    "# Testing GitHub push protection with fake secret\n",
    "cosmosAccountURI = 'myfakecosmosaccounturi.documents.azure.com:443/'\n",
    "cosmosAccountKey = 'AAbbccDDeeFFggHHIIjjkkLLMMnnOOppqqrrSSttUUvvxxWWyyzz1122334455667788990000000000000000=='\n",
    "\n",
    "client = CosmosClient(cosmosAccountURI, cosmosAccountKey)"
   ]
  }
 ],
 "metadata": {
  "language_info": {
   "name": "python"
  },
  "orig_nbformat": 4
 },
 "nbformat": 4,
 "nbformat_minor": 2
}
