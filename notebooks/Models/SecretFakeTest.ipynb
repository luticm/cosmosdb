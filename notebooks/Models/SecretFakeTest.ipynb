{
 "cells": [
  {
   "cell_type": "code",
   "execution_count": null,
   "metadata": {},
   "outputs": [],
   "source": [
    "from azure.cosmos import CosmosClient\n",
    "\n",
    "# Testing GitHub push protection with fake secret\n",
    "# Using a fake key as the one below, won't trigger secret protection. Changing to a real key will trigger it. \n",
    "cosmosAccountURI = 'myfakecosmosaccounturi.documents.azure.com:443/'\n",
    "cosmosAccountKey = 'TestKey'\n",
    "\n",
    "client = CosmosClient(cosmosAccountURI, cosmosAccountKey)\n",
    "\n",
    "# remote: Resolving deltas: 100% (4/4), completed with 4 local objects.\n",
    "# remote: error GH009: Secrets detected! This push failed.\n",
    "# remote:\n",
    "# remote:             GITHUB PUSH PROTECTION\n",
    "# remote: ——————————————————————————————————————————————————————\n",
    "# remote:  Resolve the following secrets before pushing again.\n",
    "# remote:\n",
    "# remote:  (?) Learn how to resolve a blocked push\n",
    "# remote:  https://docs.github.com/code-security/secret-scanning/pushing-a-branch-blocked-by-push-protection\n",
    "# remote:\n",
    "# remote:\n",
    "# remote: —— Azure Cosmosdb Key Identifiable ———————————————————\n",
    "# remote:  locations:\n",
    "# remote:    - commit: 3ad8fb7b5d56d7a6b0491e94c3cb8bec6b947f78\n",
    "# remote:      path: notebooks/Models/SecretTest.ipynb:15\n",
    "# remote:\n",
    "# remote:  (?) To push, remove secret from commit(s) or follow this URL to allow the secret.\n",
    "# remote:  https://github.com/luticm/cosmosdb/security/secret-scanning/unblock-secret/2VZYhpkMyBNUMp4bsGlYqViXeWf\n",
    "# remote:\n",
    "# remote:\n",
    "# remote:\n",
    "# To https://github.com/luticm/cosmosdb.git\n",
    "#  ! [remote rejected] main -> main (push declined due to a detected secret)\n",
    "# error: failed to push some refs to 'https://github.com/luticm/cosmosdb.git'"
   ]
  }
 ],
 "metadata": {
  "language_info": {
   "name": "python"
  },
  "orig_nbformat": 4
 },
 "nbformat": 4,
 "nbformat_minor": 2
}
