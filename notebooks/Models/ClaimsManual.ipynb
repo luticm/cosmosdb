{
 "cells": [
  {
   "attachments": {},
   "cell_type": "markdown",
   "metadata": {},
   "source": [
    "## Sample model for Claims"
   ]
  },
  {
   "cell_type": "code",
   "execution_count": 30,
   "metadata": {},
   "outputs": [
    {
     "name": "stdout",
     "output_type": "stream",
     "text": [
      "https://cosmicgbbcdb-sql.documents.azure.com:443/\n"
     ]
    }
   ],
   "source": [
    "from azure.cosmos import CosmosClient, PartitionKey\n",
    "from configparser import ConfigParser\n",
    "from faker import Faker\n",
    "\n",
    "import os\n",
    "import json\n",
    "import uuid\n",
    "\n",
    "parser = ConfigParser()\n",
    "parser.read('../NotebookConfig.cfg')\n",
    "\n",
    "cosmosAccountURI = parser.get('CosmosDB', 'COSMOSDB_ACCOUNT_URI')\n",
    "cosmosAccountKey = parser.get('CosmosDB', 'COSMOSDB_ACCOUNT_KEY')\n",
    "\n",
    "databaseName = 'Models'\n",
    "containerName = 'Claim'\n",
    "partitionKeypath = '/ClaimId'\n",
    "\n",
    "Faker.seed(0)\n",
    "fake = Faker(['en-US'])\n",
    "\n",
    "print(cosmosAccountURI)"
   ]
  },
  {
   "cell_type": "code",
   "execution_count": 39,
   "metadata": {},
   "outputs": [],
   "source": [
    "client = CosmosClient(cosmosAccountURI, cosmosAccountKey)\n",
    "db = client.create_database_if_not_exists(databaseName)\n",
    "\n",
    "pkPath = PartitionKey(path=partitionKeypath)\n",
    "ctr = db.create_container_if_not_exists(id=containerName, partition_key=pkPath, offer_throughput=400) \n",
    "\n",
    "ClaimsRange = 100"
   ]
  },
  {
   "cell_type": "code",
   "execution_count": null,
   "metadata": {},
   "outputs": [],
   "source": [
    "claimHeader = {\n",
    "        \"id\": \"A97086d8-5bc3-4a0e-b16c-7e6f27649cca\",\n",
    "        \"ClaimId\": \"9999999999\",\n",
    "        \"MemberId\": 99999,\n",
    "        \"Type\": \"ClaimHeader\",\n",
    "        \"PayerId\": 2094946510,\n",
    "        \"Status\": \"Initial\",\n",
    "        \"FillingDate\": \"2023-01-10T06:00:00\",\n",
    "        \"LastAdjumentDate\": \"2023-01-10T06:00:00\",\n",
    "        \"LastAmountTotal\": 300}\n",
    "\n",
    "ClaimDetailAdj = {\n",
    "        \"id\": \"AA739479-4ddb-407f-a88a-623e4068e7f7\",\n",
    "        \"ClaimId\": \"9999999999\",\n",
    "        \"MemberId\": 99999,\n",
    "        \"Type\": \"ClaimDetail\",\n",
    "        \"AdjusterId\": 4331865287,\n",
    "        \"AdjustmentStatus\": \"Initial\",\n",
    "        \"ClaimDetailDate\": \"2023-01-10T06:00:00\", \n",
    "        \"TotalAmount\": 300,\n",
    "        \"LineItems\": [\n",
    "            {\n",
    "                \"ClaimLineItem\": 0,\n",
    "                \"Procedure\": 1100447,\n",
    "                \"Amount\": 100\n",
    "            },\n",
    "            {\n",
    "                \"ClaimLineItem\": 1,\n",
    "                \"Procedure\": 92627665,\n",
    "                \"Amount\": 100\n",
    "            },\n",
    "            {\n",
    "                \"ClaimLineItem\": 2,\n",
    "                \"Procedure\": 84233153,\n",
    "                \"Amount\": 100\n",
    "            }\n",
    "        ]\n",
    "    }\n",
    "\n",
    "ctr.create_item(claimHeader)\n",
    "ctr.create_item(ClaimDetailAdj)"
   ]
  },
  {
   "cell_type": "code",
   "execution_count": null,
   "metadata": {},
   "outputs": [],
   "source": [
    "ClaimDetailAdj = {\n",
    "        \"id\": \"BA739479-4ddb-407f-a88a-623e4068e7f7\",\n",
    "        \"ClaimId\": \"9999999999\",\n",
    "        \"MemberId\": 99999,\n",
    "        \"Type\": \"ClaimDetail\",\n",
    "        \"AdjusterId\": 4331865287,\n",
    "        \"AdjustmentStatus\": \"Adjustment\",\n",
    "        \"AdjustmentId\": 1,\n",
    "        \"ClaimDetailDate\": \"2023-01-11T06:00:00\", \n",
    "        \"TotalAmount\": 250,\n",
    "        \"LineItems\": [\n",
    "            {\n",
    "                \"ClaimLineItem\": 0,\n",
    "                \"Procedure\": 1100447,\n",
    "                \"Amount\": 50\n",
    "            },\n",
    "            {\n",
    "                \"ClaimLineItem\": 1,\n",
    "                \"Procedure\": 92627665,\n",
    "                \"Amount\": 100\n",
    "            },\n",
    "            {\n",
    "                \"ClaimLineItem\": 2,\n",
    "                \"Procedure\": 84233153,\n",
    "                \"Amount\": 100\n",
    "            }\n",
    "        ]\n",
    "    }\n",
    "\n",
    "claimHeader['Status'] = 'Adjusted'\n",
    "claimHeader['LastAdjumentDate'] = '2023-01-11T06:00:00'\n",
    "claimHeader['LastAmountTotal'] = 250\n",
    "\n",
    "ctr.create_item(ClaimDetailAdj)\n",
    "ctr.upsert_item(claimHeader)"
   ]
  },
  {
   "cell_type": "code",
   "execution_count": null,
   "metadata": {},
   "outputs": [],
   "source": [
    "ClaimDetailAdj = {\n",
    "        \"id\": \"CA739479-4ddb-407f-a88a-623e4068e7f7\",\n",
    "        \"ClaimId\": \"9999999999\",\n",
    "        \"MemberId\": 99999,\n",
    "        \"Type\": \"ClaimDetail\",\n",
    "        \"AdjusterId\": 4331865287,\n",
    "        \"AdjustmentStatus\": \"Completed\",\n",
    "        \"AdjustmentId\": 1,\n",
    "        \"ClaimDetailDate\": \"2023-01-12T06:00:00\", \n",
    "        \"TotalAmount\": 250,\n",
    "        \"LineItems\": [\n",
    "            {\n",
    "                \"ClaimLineItem\": 0,\n",
    "                \"Procedure\": 1100447,\n",
    "                \"Amount\": 50\n",
    "            },\n",
    "            {\n",
    "                \"ClaimLineItem\": 1,\n",
    "                \"Procedure\": 92627665,\n",
    "                \"Amount\": 100\n",
    "            },\n",
    "            {\n",
    "                \"ClaimLineItem\": 2,\n",
    "                \"Procedure\": 84233153,\n",
    "                \"Amount\": 100\n",
    "            }\n",
    "        ]\n",
    "    }\n",
    "\n",
    "claimHeader['Status'] = 'Completed'\n",
    "claimHeader['LastAdjumentDate'] = '2023-01-12T06:00:00'\n",
    "claimHeader['LastAmountTotal'] = 250\n",
    "\n",
    "ctr.create_item(ClaimDetailAdj)\n",
    "ctr.upsert_item(claimHeader)"
   ]
  },
  {
   "cell_type": "code",
   "execution_count": 46,
   "metadata": {},
   "outputs": [],
   "source": [
    "# Assume objects are instantiated\n",
    "# db.delete_container(containerName)\n",
    "\n",
    "import glob\n",
    "\n",
    "files = glob.glob('.\\OutputFiles\\*')\n",
    "for f in files:\n",
    "    os.remove(f)"
   ]
  }
 ],
 "metadata": {
  "kernelspec": {
   "display_name": "Python 3",
   "language": "python",
   "name": "python3"
  },
  "language_info": {
   "codemirror_mode": {
    "name": "ipython",
    "version": 3
   },
   "file_extension": ".py",
   "mimetype": "text/x-python",
   "name": "python",
   "nbconvert_exporter": "python",
   "pygments_lexer": "ipython3",
   "version": "3.10.9"
  },
  "orig_nbformat": 4,
  "vscode": {
   "interpreter": {
    "hash": "3f5c034d10c10f5a4ca2da93e6423dfeffe7b0b50e6b543a2b0cb9a54b246f48"
   }
  }
 },
 "nbformat": 4,
 "nbformat_minor": 2
}
