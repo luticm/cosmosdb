{
 "cells": [
  {
   "attachments": {},
   "cell_type": "markdown",
   "metadata": {},
   "source": [
    "### Analytical store schemas with Synapse Link"
   ]
  },
  {
   "cell_type": "code",
   "execution_count": 21,
   "metadata": {},
   "outputs": [],
   "source": [
    "# Configuration and basic setup\n",
    "\n",
    "from azure.cosmos import CosmosClient, PartitionKey\n",
    "from configparser import ConfigParser\n",
    "from faker import Faker\n",
    "\n",
    "import os\n",
    "import json\n",
    "import uuid\n",
    "\n",
    "parser = ConfigParser()\n",
    "parser.read('../NotebookConfig.cfg')\n",
    "\n",
    "cosmosFFURI = parser.get('CosmosDB', 'COSMOSDB_SQLSLFF_ACCOUNT_URI')\n",
    "cosmosFFKey = parser.get('CosmosDB', 'COSMOSDB_SQLSLFF_ACCOUNT_KEY')\n",
    "cosmosWDURI = parser.get('CosmosDB', 'COSMOSDB_SQLSLWD_ACCOUNT_URI')\n",
    "cosmosWDKey = parser.get('CosmosDB', 'COSMOSDB_SQLSLWD_ACCOUNT_KEY')\n",
    "\n",
    "databaseName = 'SharedDB'\n",
    "partitionKeypath = '/Location'\n",
    "containerName = 'SensorEHI'\n",
    "osPath = './OutputFiles/'\n",
    "\n",
    "Faker.seed(0)\n",
    "fake = Faker(['en-US'])\n",
    "docs = []\n",
    "\n",
    "if not os.path.exists(osPath):\n",
    "    os.mkdir(osPath)"
   ]
  },
  {
   "cell_type": "code",
   "execution_count": 17,
   "metadata": {},
   "outputs": [],
   "source": [
    "clientFF = CosmosClient(cosmosFFURI, cosmosFFKey)\n",
    "dbFF = clientFF.create_database_if_not_exists(databaseName, offer_throughput=400)\n",
    "\n",
    "pkPath = PartitionKey(path=partitionKeypath)\n",
    "ctrFF = dbFF.create_container_if_not_exists(id=containerName, partition_key=pkPath) "
   ]
  },
  {
   "cell_type": "code",
   "execution_count": 24,
   "metadata": {},
   "outputs": [],
   "source": [
    "clientWD = CosmosClient(cosmosWDURI, cosmosWDKey)\n",
    "dbWD = clientWD.create_database_if_not_exists(databaseName, offer_throughput=400)\n",
    "\n",
    "pkPath = PartitionKey(path=partitionKeypath)\n",
    "ctrWD = dbWD.create_container_if_not_exists(id=containerName, partition_key=pkPath) "
   ]
  },
  {
   "cell_type": "code",
   "execution_count": null,
   "metadata": {},
   "outputs": [],
   "source": [
    "doc = {\n",
    "    \"id\": \"1\",\n",
    "    \"Timestamp\": fake.date_time_this_year().isoformat(),\n",
    "    \"SensorId\": fake.random_number(digits=5),\n",
    "    \"Location\": \"Building_1\",\n",
    "    \"Metric1\": fake.random_number(digits=5),\n",
    "    \"Metric2\": fake.random_number(digits=5),\n",
    "    \"Metric3\": fake.random_number(digits=5),\n",
    "    \"Metric4\": fake.random_number(digits=5),\n",
    "    \"Filler\": fake.paragraph(nb_sentences=1)\n",
    "}\n",
    "\n",
    "ctrFF.create_item(doc)\n",
    "print(float(ctrFF.client_connection.last_response_headers['x-ms-request-charge']))\n",
    "ctrWD.create_item(doc)\n",
    "print(float(ctrWD.client_connection.last_response_headers['x-ms-request-charge']))\n",
    "docs.append(doc)\n",
    "print(doc)"
   ]
  },
  {
   "cell_type": "code",
   "execution_count": 27,
   "metadata": {},
   "outputs": [
    {
     "name": "stdout",
     "output_type": "stream",
     "text": [
      "{'id': '2', 'Timestamp': '2022-08-26T05:52:45', 'SensorId': 83941, 'Location': 'Building_2', 'Metric1': 26801, 'Metric2': 72420, 'Metric3': 62522, 'Metric5': 58024, 'Filler': 'Artist truth trouble behavior style.'}\n"
     ]
    }
   ],
   "source": [
    "# Metric5 instead of Metric4\n",
    "\n",
    "doc = {\n",
    "    \"id\": \"2\",\n",
    "    \"Timestamp\": fake.date_time_this_year().isoformat(),\n",
    "    \"SensorId\": fake.random_number(digits=5),\n",
    "    \"Location\": \"Building_2\",\n",
    "    \"Metric1\": fake.random_number(digits=5),\n",
    "    \"Metric2\": fake.random_number(digits=5),\n",
    "    \"Metric3\": fake.random_number(digits=5),\n",
    "    \"Metric5\": fake.random_number(digits=5),\n",
    "    \"Filler\": fake.paragraph(nb_sentences=1)\n",
    "}\n",
    "\n",
    "ctrFF.create_item(doc)\n",
    "ctrWD.create_item(doc)\n",
    "docs.append(doc)\n",
    "print(doc)"
   ]
  },
  {
   "cell_type": "code",
   "execution_count": 28,
   "metadata": {},
   "outputs": [
    {
     "name": "stdout",
     "output_type": "stream",
     "text": [
      "{'id': '3', 'Timestamp': '2022-10-03T20:02:30', 'SensorId': 87576, 'Location': 'Building_3', 'Metric1': 81954, 'Metric2': 149, 'Metric3': 80202, 'Metric4': '64694', 'Filler': 'Room region as true develop.'}\n"
     ]
    }
   ],
   "source": [
    "# Metric4 as String\n",
    "\n",
    "doc = {\n",
    "    \"id\": \"3\",\n",
    "    \"Timestamp\": fake.date_time_this_year().isoformat(),\n",
    "    \"SensorId\": fake.random_number(digits=5),\n",
    "    \"Location\": \"Building_3\",\n",
    "    \"Metric1\": fake.random_number(digits=5),\n",
    "    \"Metric2\": fake.random_number(digits=5),\n",
    "    \"Metric3\": fake.random_number(digits=5),\n",
    "    \"Metric4\": str(fake.random_number(digits=5)),\n",
    "    \"Filler\": fake.paragraph(nb_sentences=1)\n",
    "}\n",
    "\n",
    "ctrFF.create_item(doc)\n",
    "ctrWD.create_item(doc)\n",
    "docs.append(doc)\n",
    "print(doc)"
   ]
  },
  {
   "cell_type": "code",
   "execution_count": 29,
   "metadata": {},
   "outputs": [
    {
     "name": "stdout",
     "output_type": "stream",
     "text": [
      "{'id': '4', 'Timestamp': '2022-11-08T23:43:06', 'SensorId': 18677, 'Location': 'Building_4', 'Metric1': 71170, 'Metric2': 58716, 'Metric3': 11955, 'Metric4': 10544, 'Metric6': '41950', 'Filler': 'Board necessary religious natural sport music white.'}\n"
     ]
    }
   ],
   "source": [
    "# Metric6 introduced as String\n",
    "doc = {\n",
    "    \"id\": \"4\",\n",
    "    \"Timestamp\": fake.date_time_this_year().isoformat(),\n",
    "    \"SensorId\": fake.random_number(digits=5),\n",
    "    \"Location\": \"Building_4\",\n",
    "    \"Metric1\": fake.random_number(digits=5),\n",
    "    \"Metric2\": fake.random_number(digits=5),\n",
    "    \"Metric3\": fake.random_number(digits=5),\n",
    "    \"Metric4\": fake.random_number(digits=5),\n",
    "    \"Metric6\": str(fake.random_number(digits=5)),\n",
    "    \"Filler\": fake.paragraph(nb_sentences=1)\n",
    "}\n",
    "\n",
    "ctrFF.create_item(doc)\n",
    "ctrWD.create_item(doc)\n",
    "docs.append(doc)\n",
    "print(doc)"
   ]
  },
  {
   "cell_type": "code",
   "execution_count": 30,
   "metadata": {},
   "outputs": [
    {
     "name": "stdout",
     "output_type": "stream",
     "text": [
      "[{'id': '1', 'Timestamp': '2022-11-24T22:34:55', 'SensorId': 50494, 'Location': 'Building_1', 'Metric1': 99346, 'Metric2': 55125, 'Metric3': 5306, 'Metric4': 33936, 'Filler': 'If six field live on traditional measure.'}, {'id': '2', 'Timestamp': '2022-08-26T05:52:45', 'SensorId': 83941, 'Location': 'Building_2', 'Metric1': 26801, 'Metric2': 72420, 'Metric3': 62522, 'Metric5': 58024, 'Filler': 'Artist truth trouble behavior style.'}, {'id': '3', 'Timestamp': '2022-10-03T20:02:30', 'SensorId': 87576, 'Location': 'Building_3', 'Metric1': 81954, 'Metric2': 149, 'Metric3': 80202, 'Metric4': '64694', 'Filler': 'Room region as true develop.'}, {'id': '4', 'Timestamp': '2022-11-08T23:43:06', 'SensorId': 18677, 'Location': 'Building_4', 'Metric1': 71170, 'Metric2': 58716, 'Metric3': 11955, 'Metric4': 10544, 'Metric6': '41950', 'Filler': 'Board necessary religious natural sport music white.'}]\n"
     ]
    }
   ],
   "source": [
    "print(docs)"
   ]
  },
  {
   "cell_type": "code",
   "execution_count": 31,
   "metadata": {},
   "outputs": [
    {
     "name": "stdout",
     "output_type": "stream",
     "text": [
      "{'id': '1', 'Timestamp': '2022-08-23T06:05:51', 'SensorId': 71726, 'Location': 'Building_1', 'Metric1': 100, 'Metric2': 77020, 'Metric3': 37703, 'Metric4': 58325, 'Filler': 'Something first drug contain start almost wonder employee.'}\n"
     ]
    }
   ],
   "source": [
    "# Updating doc 1 metric1 with same type\n",
    "\n",
    "doc = {\n",
    "    \"id\": \"1\",\n",
    "    \"Timestamp\": fake.date_time_this_year().isoformat(),\n",
    "    \"SensorId\": fake.random_number(digits=5),\n",
    "    \"Location\": \"Building_1\",\n",
    "    \"Metric1\": 100,\n",
    "    \"Metric2\": fake.random_number(digits=5),\n",
    "    \"Metric3\": fake.random_number(digits=5),\n",
    "    \"Metric4\": fake.random_number(digits=5),\n",
    "    \"Filler\": fake.paragraph(nb_sentences=1)\n",
    "}\n",
    "\n",
    "ctrFF.upsert_item(doc)\n",
    "ctrWD.upsert_item(doc)\n",
    "print(doc)"
   ]
  },
  {
   "cell_type": "code",
   "execution_count": 32,
   "metadata": {},
   "outputs": [
    {
     "name": "stdout",
     "output_type": "stream",
     "text": [
      "{'id': '2', 'Timestamp': '2022-01-27T19:55:16', 'SensorId': 11773, 'Location': 'Building_2', 'Metric1': 88961, 'Metric2': '200', 'Metric3': 99300, 'Metric5': 17068, 'Filler': 'Successful together type.'}\n"
     ]
    }
   ],
   "source": [
    "# Updating doc 2 metric2 with different data type\n",
    "\n",
    "doc = {\n",
    "    \"id\": \"2\",\n",
    "    \"Timestamp\": fake.date_time_this_year().isoformat(),\n",
    "    \"SensorId\": fake.random_number(digits=5),\n",
    "    \"Location\": \"Building_2\",\n",
    "    \"Metric1\": fake.random_number(digits=5),\n",
    "    \"Metric2\": \"200\",\n",
    "    \"Metric3\": fake.random_number(digits=5),\n",
    "    \"Metric5\": fake.random_number(digits=5),\n",
    "    \"Filler\": fake.paragraph(nb_sentences=1)\n",
    "}\n",
    "\n",
    "ctrFF.upsert_item(doc)\n",
    "ctrWD.upsert_item(doc)\n",
    "print(doc)"
   ]
  },
  {
   "cell_type": "code",
   "execution_count": 34,
   "metadata": {},
   "outputs": [
    {
     "name": "stdout",
     "output_type": "stream",
     "text": [
      "{'id': '5', 'Timestamp': '2022-07-29T22:45:23', 'SensorId': 89587, 'Location': 'Building_5', 'Metric1': 51287, 'Metric2': 92442, 'Metric3': 68756, 'Metric4': '36127', 'Filler': 'Support time operation wear often.'}\n"
     ]
    }
   ],
   "source": [
    "# Creating doc 5 that will be deleted after\n",
    "doc = {\n",
    "    \"id\": \"5\",\n",
    "    \"Timestamp\": fake.date_time_this_year().isoformat(),\n",
    "    \"SensorId\": fake.random_number(digits=5),\n",
    "    \"Location\": \"Building_5\",\n",
    "    \"Metric1\": fake.random_number(digits=5),\n",
    "    \"Metric2\": fake.random_number(digits=5),\n",
    "    \"Metric3\": fake.random_number(digits=5),\n",
    "    \"Metric4\": str(fake.random_number(digits=5)),\n",
    "    \"Filler\": fake.paragraph(nb_sentences=1)\n",
    "}\n",
    "\n",
    "ctrFF.create_item(doc)\n",
    "ctrWD.create_item(doc)\n",
    "docs.append(doc)\n",
    "print(doc)"
   ]
  },
  {
   "cell_type": "code",
   "execution_count": 35,
   "metadata": {},
   "outputs": [],
   "source": [
    "ctrFF.delete_item(item=\"5\", partition_key=\"Building_5\")\n",
    "ctrWD.delete_item(item=\"5\", partition_key=\"Building_5\")"
   ]
  },
  {
   "attachments": {},
   "cell_type": "markdown",
   "metadata": {},
   "source": [
    "### Ensure proper TTL configuration!\n",
    "### ON (no default) for container and ATTL\n"
   ]
  },
  {
   "cell_type": "code",
   "execution_count": 50,
   "metadata": {},
   "outputs": [
    {
     "name": "stdout",
     "output_type": "stream",
     "text": [
      "{'id': '6', 'Timestamp': '2022-10-01T21:43:03', 'SensorId': 68756, 'Location': 'Building_6', 'Metric1': 36127, 'Metric2': 68392, 'Metric3': 30867, 'Metric4': '28206', 'Filler': 'Often late produce you true soldier.', 'ttl': 120}\n"
     ]
    }
   ],
   "source": [
    "# Show TTL property in the document\n",
    "\n",
    "doc = {\n",
    "    \"id\": \"6\",\n",
    "    \"Timestamp\": fake.date_time_this_year().isoformat(),\n",
    "    \"SensorId\": fake.random_number(digits=5),\n",
    "    \"Location\": \"Building_6\",\n",
    "    \"Metric1\": fake.random_number(digits=5),\n",
    "    \"Metric2\": fake.random_number(digits=5),\n",
    "    \"Metric3\": fake.random_number(digits=5),\n",
    "    \"Metric4\": str(fake.random_number(digits=5)),\n",
    "    \"Filler\": \"This document has 120 TTL\",\n",
    "    \"ttl\": 120 \n",
    "}\n",
    "\n",
    "ctrFF.create_item(doc)\n",
    "ctrWD.create_item(doc)\n",
    "docs.append(doc)\n",
    "print(doc)"
   ]
  },
  {
   "cell_type": "code",
   "execution_count": 36,
   "metadata": {},
   "outputs": [],
   "source": [
    "# Assume objects are instantiated\n",
    "dbFF.delete_container(containerName)\n",
    "dbWD.delete_container(containerName)"
   ]
  },
  {
   "cell_type": "code",
   "execution_count": null,
   "metadata": {},
   "outputs": [],
   "source": []
  }
 ],
 "metadata": {
  "kernelspec": {
   "display_name": "Python 3.11.0 64-bit",
   "language": "python",
   "name": "python3"
  },
  "language_info": {
   "codemirror_mode": {
    "name": "ipython",
    "version": 3
   },
   "file_extension": ".py",
   "mimetype": "text/x-python",
   "name": "python",
   "nbconvert_exporter": "python",
   "pygments_lexer": "ipython3",
   "version": "3.11.0 (main, Oct 24 2022, 18:26:48) [MSC v.1933 64 bit (AMD64)]"
  },
  "orig_nbformat": 4,
  "vscode": {
   "interpreter": {
    "hash": "abe1e7399a09fa18af0ebf095038136f90b871e79c5a23ead6acfab615a0c0e3"
   }
  }
 },
 "nbformat": 4,
 "nbformat_minor": 2
}
