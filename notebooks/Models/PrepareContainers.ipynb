{
 "cells": [
  {
   "cell_type": "markdown",
   "metadata": {},
   "source": [
    "## Container preparation\n",
    "Notebook creates different containers with N number of physical partitions, to ensure you have different scenarios to execute test scenarios. <br/>\n",
    "Logical partition key will be a generic '/PartitionKey'.\n",
    "\n",
    "- Database name: Models <br/>\n",
    "- Container with 10 physical partitions: Cnt10PhysicalPartitions <br/>\n",
    "- Container with 5 physical partitions: Cnt5PhysicalPartitions <br/>"
   ]
  },
  {
   "cell_type": "code",
   "execution_count": 1,
   "metadata": {},
   "outputs": [],
   "source": [
    "from azure.cosmos import CosmosClient, PartitionKey\n",
    "\n",
    "cosmosAccountURI = os.environ['COSMOS_ACCOUNT_URI']\n",
    "cosmosAccountKey = os.environ['COSMOS_ACCOUNT_KEY']\n",
    "\n",
    "databaseName = 'Models'\n",
    "\n",
    "client = CosmosClient(cosmosAccountURI, cosmosAccountKey)\n",
    "db = client.create_database_if_not_exists(databaseName)"
   ]
  },
  {
   "cell_type": "code",
   "execution_count": 2,
   "metadata": {},
   "outputs": [
    {
     "data": {
      "text/plain": [
       "<azure.cosmos.offer.ThroughputProperties at 0x281becfe310>"
      ]
     },
     "execution_count": 2,
     "metadata": {},
     "output_type": "execute_result"
    }
   ],
   "source": [
    "## Container 10 physical partitions\n",
    "ctrName10pp = 'Cnt10PhysicalPartitions'\n",
    "partitionKeypath = '/PartitionKey'\n",
    "\n",
    "pkPath = PartitionKey(path=partitionKeypath)\n",
    "ctr10pp = db.create_container_if_not_exists(id=ctrName10pp, partition_key=pkPath, offer_throughput=60000) \n",
    "\n",
    "# Manual throughput 60000 => 10 Physical partitions\n",
    "# https://learn.microsoft.com/en-us/azure/cosmos-db/scaling-provisioned-throughput-best-practices#step-3-calculate-the-number-of-rus-to-start-with\n",
    "\n",
    "# Lower throughput after creation to avoid high RU charge\n",
    "ctr10pp.replace_throughput(throughput=1000)"
   ]
  },
  {
   "cell_type": "code",
   "execution_count": 3,
   "metadata": {},
   "outputs": [
    {
     "data": {
      "text/plain": [
       "<azure.cosmos.offer.ThroughputProperties at 0x281becfa790>"
      ]
     },
     "execution_count": 3,
     "metadata": {},
     "output_type": "execute_result"
    }
   ],
   "source": [
    "## Container 5 physical partitions\n",
    "ctrName5pp = 'Cnt5PhysicalPartitions'\n",
    "partitionKeypath = '/PartitionKey'\n",
    "\n",
    "pkPath = PartitionKey(path=partitionKeypath)\n",
    "ctr5pp = db.create_container_if_not_exists(id=ctrName5pp, partition_key=pkPath, offer_throughput=30000) \n",
    "\n",
    "# Manual throughput 30000 => 10 Physical partitions\n",
    "# https://learn.microsoft.com/en-us/azure/cosmos-db/scaling-provisioned-throughput-best-practices#step-3-calculate-the-number-of-rus-to-start-with\n",
    "\n",
    "# Lower throughput after creation to avoid high RU charge\n",
    "ctr5pp.replace_throughput(throughput=500)"
   ]
  },
  {
   "cell_type": "markdown",
   "metadata": {},
   "source": [
    "### Clean up containers\n",
    "Approach below uses TTL to remove all documents in the container, it will set it to 60 seconds and wait for purge to happen. <br/>\n",
    "At the end TTL is reverted back to None and RU minimized."
   ]
  },
  {
   "cell_type": "code",
   "execution_count": 4,
   "metadata": {},
   "outputs": [
    {
     "data": {
      "text/plain": [
       "<ContainerProxy [dbs/Models/colls/Cnt5PhysicalPartitions]>"
      ]
     },
     "execution_count": 4,
     "metadata": {},
     "output_type": "execute_result"
    }
   ],
   "source": [
    "# Purge all documents by setting a container TTL\n",
    "# You have 1 minute to regret and change it, before documents start to be purged...\n",
    "\n",
    "db.replace_container(container=ctr10pp, partition_key=pkPath, default_ttl=60) \n",
    "db.replace_container(container=ctr5pp, partition_key=pkPath, default_ttl=60) "
   ]
  },
  {
   "cell_type": "code",
   "execution_count": 5,
   "metadata": {},
   "outputs": [
    {
     "name": "stdout",
     "output_type": "stream",
     "text": [
      "No more items found for container Cnt10PhysicalPartitions\n"
     ]
    }
   ],
   "source": [
    "from time import sleep\n",
    "\n",
    "# Iterate while items exists...\n",
    "items = list(ctr10pp.query_items(query='SELECT TOP 1 c.id, c._ts FROM c ORDER BY c._ts DESC', enable_cross_partition_query=True, max_item_count=10))\n",
    "hasItems = items.__len__()\n",
    "\n",
    "while hasItems:\n",
    "    print('Items still exist in the container, waiting for purge...')\n",
    "    sleep(30)\n",
    "\n",
    "    items = list(ctr10pp.query_items(query='SELECT TOP 1 c.id, c._ts FROM c ORDER BY c._ts DESC', enable_cross_partition_query=True, max_item_count=10))\n",
    "    hasItems = items.__len__()\n",
    "\n",
    "# print(items.__len__())\n",
    "# print (float(ctr10pp.client_connection.last_response_headers['x-ms-request-charge']))\n",
    "\n",
    "print('No more items found for container ' + ctrName10pp)"
   ]
  },
  {
   "cell_type": "code",
   "execution_count": 6,
   "metadata": {},
   "outputs": [
    {
     "name": "stdout",
     "output_type": "stream",
     "text": [
      "No more items found for container Cnt5PhysicalPartitions\n"
     ]
    }
   ],
   "source": [
    "from time import sleep\n",
    "\n",
    "# Iterate while items exists...\n",
    "items = list(ctr5pp.query_items(query='SELECT TOP 1 c.id, c._ts FROM c ORDER BY c._ts DESC', enable_cross_partition_query=True, max_item_count=10))\n",
    "hasItems = items.__len__()\n",
    "\n",
    "while hasItems:\n",
    "    print('Items still exist in the container, waiting for purge...')\n",
    "    sleep(30)\n",
    "\n",
    "    items = list(ctr5pp.query_items(query='SELECT TOP 1 c.id, c._ts FROM c ORDER BY c._ts DESC', enable_cross_partition_query=True, max_item_count=10))\n",
    "    hasItems = items.__len__()\n",
    "\n",
    "# print(items.__len__())\n",
    "# print (float(ctr10pp.client_connection.last_response_headers['x-ms-request-charge']))\n",
    "\n",
    "print('No more items found for container ' + ctrName5pp)"
   ]
  },
  {
   "cell_type": "code",
   "execution_count": 12,
   "metadata": {},
   "outputs": [
    {
     "data": {
      "text/plain": [
       "<azure.cosmos.offer.ThroughputProperties at 0x281bf56e090>"
      ]
     },
     "execution_count": 12,
     "metadata": {},
     "output_type": "execute_result"
    }
   ],
   "source": [
    "# Disable TTL for containers\n",
    "\n",
    "db.replace_container(container=ctr10pp, partition_key=pkPath, default_ttl=None) \n",
    "db.replace_container(container=ctr5pp, partition_key=pkPath, default_ttl=None) \n",
    "\n",
    "ctr10pp.replace_throughput(throughput=600)\n",
    "ctr5pp.replace_throughput(throughput=400)"
   ]
  }
 ],
 "metadata": {
  "kernelspec": {
   "display_name": "Python 3.11.0 64-bit",
   "language": "python",
   "name": "python3"
  },
  "language_info": {
   "codemirror_mode": {
    "name": "ipython",
    "version": 3
   },
   "file_extension": ".py",
   "mimetype": "text/x-python",
   "name": "python",
   "nbconvert_exporter": "python",
   "pygments_lexer": "ipython3",
   "version": "3.11.0"
  },
  "orig_nbformat": 4,
  "vscode": {
   "interpreter": {
    "hash": "abe1e7399a09fa18af0ebf095038136f90b871e79c5a23ead6acfab615a0c0e3"
   }
  }
 },
 "nbformat": 4,
 "nbformat_minor": 2
}
