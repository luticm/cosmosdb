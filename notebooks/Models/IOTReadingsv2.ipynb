{
 "cells": [
  {
   "cell_type": "markdown",
   "metadata": {},
   "source": [
    "## Multiple device readings - Cross partition or not?\n",
    "Test dataset to evaluate RU cost for collocating IOT readings in a single document, multiple documents with N readings and cross-partition effect. </br>\n",
    "\n",
    "- Rely on containers created from [PrepareContainers.ipynb](./PrepareContainers.ipynb)"
   ]
  },
  {
   "cell_type": "markdown",
   "metadata": {},
   "source": [
    "### Prepare key references for notebook\n",
    "Environment variables COSMOS_ACCOUNT_URI and COSMOS_ACCOUNT_KEY should exist"
   ]
  },
  {
   "cell_type": "code",
   "execution_count": 1,
   "metadata": {},
   "outputs": [],
   "source": [
    "from azure.cosmos import CosmosClient, PartitionKey\n",
    "from configparser import ConfigParser\n",
    "from faker import Faker\n",
    "\n",
    "import os\n",
    "import json\n",
    "import uuid\n",
    "\n",
    "parser = ConfigParser()\n",
    "parser.read('../NotebookConfig.cfg')\n",
    "\n",
    "cosmosAccountURI = parser.get('CosmosDB', 'COSMOSDB_ACCOUNT_URI')\n",
    "cosmosAccountKey = parser.get('CosmosDB', 'COSMOSDB_ACCOUNT_KEY')\n",
    "\n",
    "databaseName = 'Models'\n",
    "containerName = 'Cnt5PhysicalPartitions'\n",
    "partitionKeypath = '/PartitionKey'\n",
    "osPath = './OutputFiles/'\n",
    "\n",
    "Faker.seed(0)\n",
    "fake = Faker(['en-US'])\n",
    "\n",
    "if not os.path.exists(osPath):\n",
    "    os.mkdir(osPath)"
   ]
  },
  {
   "cell_type": "markdown",
   "metadata": {},
   "source": [
    "### Create DB and collection for sample data\n",
    "- Resources should already exists, so just get references for database and container.\n",
    "  - If not, a container with a single physical partition will be created.\n",
    "- Adjust the RUs to your need..."
   ]
  },
  {
   "cell_type": "code",
   "execution_count": 2,
   "metadata": {},
   "outputs": [],
   "source": [
    "client = CosmosClient(cosmosAccountURI, cosmosAccountKey)\n",
    "db = client.create_database_if_not_exists(databaseName)\n",
    "\n",
    "pkPath = PartitionKey(path=partitionKeypath)\n",
    "ctr = db.create_container_if_not_exists(id=containerName, partition_key=pkPath, offer_throughput=1000, default_ttl=None) \n",
    "# ctr.replace_throughput(throughput=2000)"
   ]
  },
  {
   "cell_type": "markdown",
   "metadata": {},
   "source": [
    "### Repeatable References\n",
    "Contains documents that should be used as a reference data set across cell/operations. </br>\n",
    "For example: Patient, IOT devices, tax payer information, ..."
   ]
  },
  {
   "cell_type": "code",
   "execution_count": 3,
   "metadata": {},
   "outputs": [],
   "source": [
    "from collections import OrderedDict\n",
    "maxRange = 10000\n",
    "IOTSources = []\n",
    "\n",
    "os.makedirs(os.path.dirname('./OutputFiles/'), exist_ok=True)\n",
    "with open('./OutputFiles/' + containerName + '_referenceData.json', 'w') as jsonFile:\n",
    "    for i in range(maxRange):\n",
    "        entity = {            \n",
    "            'Name': fake.bothify('????_############')\n",
    "            , 'Type': fake.random_element(elements=('Type1', 'Type2', 'Type3', 'Type4', 'Type5', 'Type6'))\n",
    "        }\n",
    "        IOTSources.append(entity)\n",
    "\n",
    "        # Save patients for reference\n",
    "        json.dump(entity, jsonFile)\n",
    "        if (i < maxRange):\n",
    "            jsonFile.write(',\\n')"
   ]
  },
  {
   "cell_type": "markdown",
   "metadata": {},
   "source": [
    "### Load documents with Partition key Name_Type_YYYY_MM_DD\n",
    "- 1440 readings for a single document (1 reading per minute)\n",
    "- 30 days\n",
    "- Average RU cost with default indexing: ~ 877 RUs\n",
    "- Save generated documents in output directory for reference"
   ]
  },
  {
   "cell_type": "code",
   "execution_count": 4,
   "metadata": {},
   "outputs": [
    {
     "ename": "KeyboardInterrupt",
     "evalue": "",
     "output_type": "error",
     "traceback": [
      "\u001b[1;31m---------------------------------------------------------------------------\u001b[0m",
      "\u001b[1;31mCosmosHttpResponseError\u001b[0m                   Traceback (most recent call last)",
      "File \u001b[1;32m~\\AppData\\Local\\Packages\\PythonSoftwareFoundation.Python.3.10_qbz5n2kfra8p0\\LocalCache\\local-packages\\Python310\\site-packages\\azure\\cosmos\\_retry_utility.py:77\u001b[0m, in \u001b[0;36mExecute\u001b[1;34m(client, global_endpoint_manager, function, *args, **kwargs)\u001b[0m\n\u001b[0;32m     76\u001b[0m \u001b[39mif\u001b[39;00m args:\n\u001b[1;32m---> 77\u001b[0m     result \u001b[39m=\u001b[39m ExecuteFunction(function, global_endpoint_manager, \u001b[39m*\u001b[39margs, \u001b[39m*\u001b[39m\u001b[39m*\u001b[39mkwargs)\n\u001b[0;32m     78\u001b[0m \u001b[39melse\u001b[39;00m:\n",
      "File \u001b[1;32m~\\AppData\\Local\\Packages\\PythonSoftwareFoundation.Python.3.10_qbz5n2kfra8p0\\LocalCache\\local-packages\\Python310\\site-packages\\azure\\cosmos\\_retry_utility.py:136\u001b[0m, in \u001b[0;36mExecuteFunction\u001b[1;34m(function, *args, **kwargs)\u001b[0m\n\u001b[0;32m    134\u001b[0m \u001b[39m\"\"\"Stub method so that it can be used for mocking purposes as well.\u001b[39;00m\n\u001b[0;32m    135\u001b[0m \u001b[39m\"\"\"\u001b[39;00m\n\u001b[1;32m--> 136\u001b[0m \u001b[39mreturn\u001b[39;00m function(\u001b[39m*\u001b[39margs, \u001b[39m*\u001b[39m\u001b[39m*\u001b[39mkwargs)\n",
      "File \u001b[1;32m~\\AppData\\Local\\Packages\\PythonSoftwareFoundation.Python.3.10_qbz5n2kfra8p0\\LocalCache\\local-packages\\Python310\\site-packages\\azure\\cosmos\\_synchronized_request.py:154\u001b[0m, in \u001b[0;36m_Request\u001b[1;34m(global_endpoint_manager, request_params, connection_policy, pipeline_client, request, **kwargs)\u001b[0m\n\u001b[0;32m    153\u001b[0m \u001b[39mif\u001b[39;00m response\u001b[39m.\u001b[39mstatus_code \u001b[39m>\u001b[39m\u001b[39m=\u001b[39m \u001b[39m400\u001b[39m:\n\u001b[1;32m--> 154\u001b[0m     \u001b[39mraise\u001b[39;00m exceptions\u001b[39m.\u001b[39mCosmosHttpResponseError(message\u001b[39m=\u001b[39mdata, response\u001b[39m=\u001b[39mresponse)\n\u001b[0;32m    156\u001b[0m result \u001b[39m=\u001b[39m \u001b[39mNone\u001b[39;00m\n",
      "\u001b[1;31mCosmosHttpResponseError\u001b[0m: (429) Message: {\"Errors\":[\"Request rate is large. More Request Units may be needed, so no changes were made. Please retry this request later. Learn more: http://aka.ms/cosmosdb-error-429\"]}\r\nActivityId: fa742c85-b2e2-4c81-90b1-4a00e55d44e1, Request URI: /apps/38bfe303-da54-4990-99d7-2e697e386886/services/278f5fd9-054d-4507-be7c-acbab75479a2/partitions/2885aee8-5835-4faf-ae80-50ca6f2c2264/replicas/133153596060695198p/, RequestStats: \r\nRequestStartTime: 2023-01-31T14:59:28.9935370Z, RequestEndTime: 2023-01-31T14:59:28.9935370Z,  Number of regions attempted:1\r\n{\"systemHistory\":[{\"dateUtc\":\"2023-01-31T14:58:36.0530809Z\",\"cpu\":0.234,\"memory\":441264332.000,\"threadInfo\":{\"isThreadStarving\":\"False\",\"threadWaitIntervalInMs\":0.0195,\"availableThreads\":32764,\"minThreads\":64,\"maxThreads\":32767},\"numberOfOpenTcpConnection\":1118},{\"dateUtc\":\"2023-01-31T14:58:46.0631678Z\",\"cpu\":0.215,\"memory\":441261256.000,\"threadInfo\":{\"isThreadStarving\":\"False\",\"threadWaitIntervalInMs\":0.015,\"availableThreads\":32761,\"minThreads\":64,\"maxThreads\":32767},\"numberOfOpenTcpConnection\":1118},{\"dateUtc\":\"2023-01-31T14:58:56.0832557Z\",\"cpu\":0.595,\"memory\":441096196.000,\"threadInfo\":{\"isThreadStarving\":\"False\",\"threadWaitIntervalInMs\":0.0187,\"availableThreads\":32764,\"minThreads\":64,\"maxThreads\":32767},\"numberOfOpenTcpConnection\":1118},{\"dateUtc\":\"2023-01-31T14:59:06.0933460Z\",\"cpu\":0.215,\"memory\":441083604.000,\"threadInfo\":{\"isThreadStarving\":\"False\",\"threadWaitIntervalInMs\":0.0177,\"availableThreads\":32764,\"minThreads\":64,\"maxThreads\":32767},\"numberOfOpenTcpConnection\":1118},{\"dateUtc\":\"2023-01-31T14:59:16.1034484Z\",\"cpu\":0.202,\"memory\":441085384.000,\"threadInfo\":{\"isThreadStarving\":\"False\",\"threadWaitIntervalInMs\":0.0233,\"availableThreads\":32764,\"minThreads\":64,\"maxThreads\":32767},\"numberOfOpenTcpConnection\":1118},{\"dateUtc\":\"2023-01-31T14:59:26.1135733Z\",\"cpu\":0.366,\"memory\":441067608.000,\"threadInfo\":{\"isThreadStarving\":\"False\",\"threadWaitIntervalInMs\":0.0211,\"availableThreads\":32754,\"minThreads\":64,\"maxThreads\":32767},\"numberOfOpenTcpConnection\":1116}]}\r\nRequestStart: 2023-01-31T14:59:28.9935370Z; ResponseTime: 2023-01-31T14:59:28.9935370Z; StoreResult: StorePhysicalAddress: rntbd://cdb-ms-prod-southcentralus1-be21.documents.azure.com:14131/apps/38bfe303-da54-4990-99d7-2e697e386886/services/278f5fd9-054d-4507-be7c-acbab75479a2/partitions/2885aee8-5835-4faf-ae80-50ca6f2c2264/replicas/133153596060695198p/, LSN: 1580, GlobalCommittedLsn: 1579, PartitionKeyRangeId: , IsValid: True, StatusCode: 429, SubStatusCode: 3200, RequestCharge: 0.38, ItemLSN: -1, SessionToken: , UsingLocalLSN: False, TransportException: null, BELatencyMs: , ActivityId: fa742c85-b2e2-4c81-90b1-4a00e55d44e1, RetryAfterInMs: 9301, TransportRequestTimeline: {\"requestTimeline\":[{\"event\": \"Created\", \"startTimeUtc\": \"2023-01-31T14:59:28.9935370Z\", \"durationInMs\": 0.0097},{\"event\": \"ChannelAcquisitionStarted\", \"startTimeUtc\": \"2023-01-31T14:59:28.9935467Z\", \"durationInMs\": 0.002},{\"event\": \"Pipelined\", \"startTimeUtc\": \"2023-01-31T14:59:28.9935487Z\", \"durationInMs\": 0.5141},{\"event\": \"Transit Time\", \"startTimeUtc\": \"2023-01-31T14:59:28.9940628Z\", \"durationInMs\": -0.1865},{\"event\": \"Received\", \"startTimeUtc\": \"2023-01-31T14:59:28.9938763Z\", \"durationInMs\": 0.2059},{\"event\": \"Completed\", \"startTimeUtc\": \"2023-01-31T14:59:28.9940822Z\", \"durationInMs\": 0}],\"serviceEndpointStats\":{\"inflightRequests\":1,\"openConnections\":1},\"connectionStats\":{\"waitforConnectionInit\":\"False\",\"callsPendingReceive\":0,\"lastSendAttempt\":\"2023-01-31T14:59:28.8835338Z\",\"lastSend\":\"2023-01-31T14:59:28.8835338Z\",\"lastReceive\":\"2023-01-31T14:59:28.9135337Z\"},\"requestSizeInBytes\":98593,\"requestBodySizeInBytes\":98040,\"responseMetadataSizeInBytes\":127,\"responseBodySizeInBytes\":174};\r\n ResourceType: Document, OperationType: Create\r\n, SDK: Microsoft.Azure.Documents.Common/2.14.0\nCode: 429\nMessage: Message: {\"Errors\":[\"Request rate is large. More Request Units may be needed, so no changes were made. Please retry this request later. Learn more: http://aka.ms/cosmosdb-error-429\"]}\r\nActivityId: fa742c85-b2e2-4c81-90b1-4a00e55d44e1, Request URI: /apps/38bfe303-da54-4990-99d7-2e697e386886/services/278f5fd9-054d-4507-be7c-acbab75479a2/partitions/2885aee8-5835-4faf-ae80-50ca6f2c2264/replicas/133153596060695198p/, RequestStats: \r\nRequestStartTime: 2023-01-31T14:59:28.9935370Z, RequestEndTime: 2023-01-31T14:59:28.9935370Z,  Number of regions attempted:1\r\n{\"systemHistory\":[{\"dateUtc\":\"2023-01-31T14:58:36.0530809Z\",\"cpu\":0.234,\"memory\":441264332.000,\"threadInfo\":{\"isThreadStarving\":\"False\",\"threadWaitIntervalInMs\":0.0195,\"availableThreads\":32764,\"minThreads\":64,\"maxThreads\":32767},\"numberOfOpenTcpConnection\":1118},{\"dateUtc\":\"2023-01-31T14:58:46.0631678Z\",\"cpu\":0.215,\"memory\":441261256.000,\"threadInfo\":{\"isThreadStarving\":\"False\",\"threadWaitIntervalInMs\":0.015,\"availableThreads\":32761,\"minThreads\":64,\"maxThreads\":32767},\"numberOfOpenTcpConnection\":1118},{\"dateUtc\":\"2023-01-31T14:58:56.0832557Z\",\"cpu\":0.595,\"memory\":441096196.000,\"threadInfo\":{\"isThreadStarving\":\"False\",\"threadWaitIntervalInMs\":0.0187,\"availableThreads\":32764,\"minThreads\":64,\"maxThreads\":32767},\"numberOfOpenTcpConnection\":1118},{\"dateUtc\":\"2023-01-31T14:59:06.0933460Z\",\"cpu\":0.215,\"memory\":441083604.000,\"threadInfo\":{\"isThreadStarving\":\"False\",\"threadWaitIntervalInMs\":0.0177,\"availableThreads\":32764,\"minThreads\":64,\"maxThreads\":32767},\"numberOfOpenTcpConnection\":1118},{\"dateUtc\":\"2023-01-31T14:59:16.1034484Z\",\"cpu\":0.202,\"memory\":441085384.000,\"threadInfo\":{\"isThreadStarving\":\"False\",\"threadWaitIntervalInMs\":0.0233,\"availableThreads\":32764,\"minThreads\":64,\"maxThreads\":32767},\"numberOfOpenTcpConnection\":1118},{\"dateUtc\":\"2023-01-31T14:59:26.1135733Z\",\"cpu\":0.366,\"memory\":441067608.000,\"threadInfo\":{\"isThreadStarving\":\"False\",\"threadWaitIntervalInMs\":0.0211,\"availableThreads\":32754,\"minThreads\":64,\"maxThreads\":32767},\"numberOfOpenTcpConnection\":1116}]}\r\nRequestStart: 2023-01-31T14:59:28.9935370Z; ResponseTime: 2023-01-31T14:59:28.9935370Z; StoreResult: StorePhysicalAddress: rntbd://cdb-ms-prod-southcentralus1-be21.documents.azure.com:14131/apps/38bfe303-da54-4990-99d7-2e697e386886/services/278f5fd9-054d-4507-be7c-acbab75479a2/partitions/2885aee8-5835-4faf-ae80-50ca6f2c2264/replicas/133153596060695198p/, LSN: 1580, GlobalCommittedLsn: 1579, PartitionKeyRangeId: , IsValid: True, StatusCode: 429, SubStatusCode: 3200, RequestCharge: 0.38, ItemLSN: -1, SessionToken: , UsingLocalLSN: False, TransportException: null, BELatencyMs: , ActivityId: fa742c85-b2e2-4c81-90b1-4a00e55d44e1, RetryAfterInMs: 9301, TransportRequestTimeline: {\"requestTimeline\":[{\"event\": \"Created\", \"startTimeUtc\": \"2023-01-31T14:59:28.9935370Z\", \"durationInMs\": 0.0097},{\"event\": \"ChannelAcquisitionStarted\", \"startTimeUtc\": \"2023-01-31T14:59:28.9935467Z\", \"durationInMs\": 0.002},{\"event\": \"Pipelined\", \"startTimeUtc\": \"2023-01-31T14:59:28.9935487Z\", \"durationInMs\": 0.5141},{\"event\": \"Transit Time\", \"startTimeUtc\": \"2023-01-31T14:59:28.9940628Z\", \"durationInMs\": -0.1865},{\"event\": \"Received\", \"startTimeUtc\": \"2023-01-31T14:59:28.9938763Z\", \"durationInMs\": 0.2059},{\"event\": \"Completed\", \"startTimeUtc\": \"2023-01-31T14:59:28.9940822Z\", \"durationInMs\": 0}],\"serviceEndpointStats\":{\"inflightRequests\":1,\"openConnections\":1},\"connectionStats\":{\"waitforConnectionInit\":\"False\",\"callsPendingReceive\":0,\"lastSendAttempt\":\"2023-01-31T14:59:28.8835338Z\",\"lastSend\":\"2023-01-31T14:59:28.8835338Z\",\"lastReceive\":\"2023-01-31T14:59:28.9135337Z\"},\"requestSizeInBytes\":98593,\"requestBodySizeInBytes\":98040,\"responseMetadataSizeInBytes\":127,\"responseBodySizeInBytes\":174};\r\n ResourceType: Document, OperationType: Create\r\n, SDK: Microsoft.Azure.Documents.Common/2.14.0",
      "\nDuring handling of the above exception, another exception occurred:\n",
      "\u001b[1;31mKeyboardInterrupt\u001b[0m                         Traceback (most recent call last)",
      "Cell \u001b[1;32mIn[4], line 39\u001b[0m\n\u001b[0;32m     19\u001b[0m     readings\u001b[39m.\u001b[39mappend(\n\u001b[0;32m     20\u001b[0m         {\n\u001b[0;32m     21\u001b[0m             \u001b[39m'\u001b[39m\u001b[39mDimension\u001b[39m\u001b[39m'\u001b[39m: fake\u001b[39m.\u001b[39mrandom_element(elements\u001b[39m=\u001b[39m(\u001b[39m'\u001b[39m\u001b[39mD1\u001b[39m\u001b[39m'\u001b[39m, \u001b[39m'\u001b[39m\u001b[39mD2\u001b[39m\u001b[39m'\u001b[39m, \u001b[39m'\u001b[39m\u001b[39mD3\u001b[39m\u001b[39m'\u001b[39m, \u001b[39m'\u001b[39m\u001b[39mD4\u001b[39m\u001b[39m'\u001b[39m, \u001b[39m'\u001b[39m\u001b[39mD5\u001b[39m\u001b[39m'\u001b[39m, \u001b[39m'\u001b[39m\u001b[39mD6\u001b[39m\u001b[39m'\u001b[39m, \u001b[39m'\u001b[39m\u001b[39mD7\u001b[39m\u001b[39m'\u001b[39m, \u001b[39m'\u001b[39m\u001b[39mD8\u001b[39m\u001b[39m'\u001b[39m, \u001b[39m'\u001b[39m\u001b[39mD9\u001b[39m\u001b[39m'\u001b[39m))\n\u001b[0;32m     22\u001b[0m             , \u001b[39m'\u001b[39m\u001b[39mMetric\u001b[39m\u001b[39m'\u001b[39m: fake\u001b[39m.\u001b[39mrandom_number(digits\u001b[39m=\u001b[39m\u001b[39m5\u001b[39m)\n\u001b[0;32m     23\u001b[0m             , \u001b[39m'\u001b[39m\u001b[39mTimestamp\u001b[39m\u001b[39m'\u001b[39m: (dtBase \u001b[39m+\u001b[39m timedelta(days\u001b[39m=\u001b[39mday,minutes\u001b[39m=\u001b[39mm))\u001b[39m.\u001b[39misoformat()  \u001b[39m# fake.date_time_this_year().isoformat()\u001b[39;00m\n\u001b[0;32m     24\u001b[0m         })\n\u001b[0;32m     26\u001b[0m doc \u001b[39m=\u001b[39m {\n\u001b[0;32m     27\u001b[0m     \u001b[39m'\u001b[39m\u001b[39mid\u001b[39m\u001b[39m'\u001b[39m: \u001b[39mstr\u001b[39m(uuid\u001b[39m.\u001b[39muuid4())\n\u001b[0;32m     28\u001b[0m     , \u001b[39m'\u001b[39m\u001b[39mPartitionKey\u001b[39m\u001b[39m'\u001b[39m: IOTSrc[\u001b[39m'\u001b[39m\u001b[39mName\u001b[39m\u001b[39m'\u001b[39m] \u001b[39m+\u001b[39m \u001b[39m'\u001b[39m\u001b[39m_\u001b[39m\u001b[39m'\u001b[39m \u001b[39m+\u001b[39m IOTSrc[\u001b[39m'\u001b[39m\u001b[39mType\u001b[39m\u001b[39m'\u001b[39m] \u001b[39m+\u001b[39m \u001b[39m'\u001b[39m\u001b[39m_\u001b[39m\u001b[39m'\u001b[39m \u001b[39m+\u001b[39m (dtBase \u001b[39m+\u001b[39m timedelta(days\u001b[39m=\u001b[39mday))\u001b[39m.\u001b[39mstrftime(\u001b[39m'\u001b[39m\u001b[39m%\u001b[39m\u001b[39mY_\u001b[39m\u001b[39m%\u001b[39m\u001b[39mm_\u001b[39m\u001b[39m%d\u001b[39;00m\u001b[39m'\u001b[39m)\n\u001b[1;32m   (...)\u001b[0m\n\u001b[0;32m     36\u001b[0m     , \u001b[39m'\u001b[39m\u001b[39mclass\u001b[39m\u001b[39m'\u001b[39m: fake\u001b[39m.\u001b[39mrandom_element(elements\u001b[39m=\u001b[39mOrderedDict([(\u001b[39m\"\u001b[39m\u001b[39mA\u001b[39m\u001b[39m\"\u001b[39m, \u001b[39m0.40\u001b[39m), (\u001b[39m\"\u001b[39m\u001b[39mB\u001b[39m\u001b[39m\"\u001b[39m, \u001b[39m0.35\u001b[39m), (\u001b[39m\"\u001b[39m\u001b[39mC\u001b[39m\u001b[39m\"\u001b[39m, \u001b[39m0.15\u001b[39m), (\u001b[39m\"\u001b[39m\u001b[39mD\u001b[39m\u001b[39m\"\u001b[39m, \u001b[39m0.05\u001b[39m), (\u001b[39m\"\u001b[39m\u001b[39mE\u001b[39m\u001b[39m\"\u001b[39m, \u001b[39m0.05\u001b[39m)]))\n\u001b[0;32m     37\u001b[0m }\n\u001b[1;32m---> 39\u001b[0m ctr\u001b[39m.\u001b[39;49mcreate_item(doc)\n\u001b[0;32m     40\u001b[0m RUCharges\u001b[39m.\u001b[39mappend(\u001b[39mfloat\u001b[39m(ctr\u001b[39m.\u001b[39mclient_connection\u001b[39m.\u001b[39mlast_response_headers[\u001b[39m'\u001b[39m\u001b[39mx-ms-request-charge\u001b[39m\u001b[39m'\u001b[39m]))\n\u001b[0;32m     41\u001b[0m \u001b[39m#print(ctr.client_connection.last_response_headers['x-ms-request-charge'])\u001b[39;00m\n\u001b[0;32m     42\u001b[0m \n\u001b[0;32m     43\u001b[0m \u001b[39m# Store docs and reset readings\u001b[39;00m\n",
      "File \u001b[1;32m~\\AppData\\Local\\Packages\\PythonSoftwareFoundation.Python.3.10_qbz5n2kfra8p0\\LocalCache\\local-packages\\Python310\\site-packages\\azure\\core\\tracing\\decorator.py:78\u001b[0m, in \u001b[0;36mdistributed_trace.<locals>.decorator.<locals>.wrapper_use_tracer\u001b[1;34m(*args, **kwargs)\u001b[0m\n\u001b[0;32m     76\u001b[0m span_impl_type \u001b[39m=\u001b[39m settings\u001b[39m.\u001b[39mtracing_implementation()\n\u001b[0;32m     77\u001b[0m \u001b[39mif\u001b[39;00m span_impl_type \u001b[39mis\u001b[39;00m \u001b[39mNone\u001b[39;00m:\n\u001b[1;32m---> 78\u001b[0m     \u001b[39mreturn\u001b[39;00m func(\u001b[39m*\u001b[39margs, \u001b[39m*\u001b[39m\u001b[39m*\u001b[39mkwargs)\n\u001b[0;32m     80\u001b[0m \u001b[39m# Merge span is parameter is set, but only if no explicit parent are passed\u001b[39;00m\n\u001b[0;32m     81\u001b[0m \u001b[39mif\u001b[39;00m merge_span \u001b[39mand\u001b[39;00m \u001b[39mnot\u001b[39;00m passed_in_parent:\n",
      "File \u001b[1;32m~\\AppData\\Local\\Packages\\PythonSoftwareFoundation.Python.3.10_qbz5n2kfra8p0\\LocalCache\\local-packages\\Python310\\site-packages\\azure\\cosmos\\container.py:570\u001b[0m, in \u001b[0;36mContainerProxy.create_item\u001b[1;34m(self, body, populate_query_metrics, pre_trigger_include, post_trigger_include, indexing_directive, **kwargs)\u001b[0m\n\u001b[0;32m    567\u001b[0m \u001b[39mif\u001b[39;00m indexing_directive \u001b[39mis\u001b[39;00m \u001b[39mnot\u001b[39;00m \u001b[39mNone\u001b[39;00m:\n\u001b[0;32m    568\u001b[0m     request_options[\u001b[39m\"\u001b[39m\u001b[39mindexingDirective\u001b[39m\u001b[39m\"\u001b[39m] \u001b[39m=\u001b[39m indexing_directive\n\u001b[1;32m--> 570\u001b[0m result \u001b[39m=\u001b[39m \u001b[39mself\u001b[39m\u001b[39m.\u001b[39mclient_connection\u001b[39m.\u001b[39mCreateItem(\n\u001b[0;32m    571\u001b[0m     database_or_container_link\u001b[39m=\u001b[39m\u001b[39mself\u001b[39m\u001b[39m.\u001b[39mcontainer_link, document\u001b[39m=\u001b[39mbody, options\u001b[39m=\u001b[39mrequest_options, \u001b[39m*\u001b[39m\u001b[39m*\u001b[39mkwargs\n\u001b[0;32m    572\u001b[0m )\n\u001b[0;32m    573\u001b[0m \u001b[39mif\u001b[39;00m response_hook:\n\u001b[0;32m    574\u001b[0m     response_hook(\u001b[39mself\u001b[39m\u001b[39m.\u001b[39mclient_connection\u001b[39m.\u001b[39mlast_response_headers, result)\n",
      "File \u001b[1;32m~\\AppData\\Local\\Packages\\PythonSoftwareFoundation.Python.3.10_qbz5n2kfra8p0\\LocalCache\\local-packages\\Python310\\site-packages\\azure\\cosmos\\_cosmos_client_connection.py:1126\u001b[0m, in \u001b[0;36mCosmosClientConnection.CreateItem\u001b[1;34m(self, database_or_container_link, document, options, **kwargs)\u001b[0m\n\u001b[0;32m   1123\u001b[0m \u001b[39mif\u001b[39;00m base\u001b[39m.\u001b[39mIsItemContainerLink(database_or_container_link):\n\u001b[0;32m   1124\u001b[0m     options \u001b[39m=\u001b[39m \u001b[39mself\u001b[39m\u001b[39m.\u001b[39m_AddPartitionKey(database_or_container_link, document, options)\n\u001b[1;32m-> 1126\u001b[0m \u001b[39mreturn\u001b[39;00m \u001b[39mself\u001b[39m\u001b[39m.\u001b[39mCreate(document, path, \u001b[39m\"\u001b[39m\u001b[39mdocs\u001b[39m\u001b[39m\"\u001b[39m, collection_id, \u001b[39mNone\u001b[39;00m, options, \u001b[39m*\u001b[39m\u001b[39m*\u001b[39mkwargs)\n",
      "File \u001b[1;32m~\\AppData\\Local\\Packages\\PythonSoftwareFoundation.Python.3.10_qbz5n2kfra8p0\\LocalCache\\local-packages\\Python310\\site-packages\\azure\\cosmos\\_cosmos_client_connection.py:2108\u001b[0m, in \u001b[0;36mCosmosClientConnection.Create\u001b[1;34m(self, body, path, typ, id, initial_headers, options, **kwargs)\u001b[0m\n\u001b[0;32m   2105\u001b[0m \u001b[39m# Create will use WriteEndpoint since it uses POST operation\u001b[39;00m\n\u001b[0;32m   2107\u001b[0m request_params \u001b[39m=\u001b[39m _request_object\u001b[39m.\u001b[39mRequestObject(typ, documents\u001b[39m.\u001b[39m_OperationType\u001b[39m.\u001b[39mCreate)\n\u001b[1;32m-> 2108\u001b[0m result, \u001b[39mself\u001b[39m\u001b[39m.\u001b[39mlast_response_headers \u001b[39m=\u001b[39m \u001b[39mself\u001b[39m\u001b[39m.\u001b[39m__Post(path, request_params, body, headers, \u001b[39m*\u001b[39m\u001b[39m*\u001b[39mkwargs)\n\u001b[0;32m   2110\u001b[0m \u001b[39m# update session for write request\u001b[39;00m\n\u001b[0;32m   2111\u001b[0m \u001b[39mself\u001b[39m\u001b[39m.\u001b[39m_UpdateSessionIfRequired(headers, result, \u001b[39mself\u001b[39m\u001b[39m.\u001b[39mlast_response_headers)\n",
      "File \u001b[1;32m~\\AppData\\Local\\Packages\\PythonSoftwareFoundation.Python.3.10_qbz5n2kfra8p0\\LocalCache\\local-packages\\Python310\\site-packages\\azure\\cosmos\\_cosmos_client_connection.py:2274\u001b[0m, in \u001b[0;36mCosmosClientConnection.__Post\u001b[1;34m(self, path, request_params, body, req_headers, **kwargs)\u001b[0m\n\u001b[0;32m   2260\u001b[0m \u001b[39m\"\"\"Azure Cosmos 'POST' http request.\u001b[39;00m\n\u001b[0;32m   2261\u001b[0m \n\u001b[0;32m   2262\u001b[0m \u001b[39m:params str url:\u001b[39;00m\n\u001b[1;32m   (...)\u001b[0m\n\u001b[0;32m   2271\u001b[0m \n\u001b[0;32m   2272\u001b[0m \u001b[39m\"\"\"\u001b[39;00m\n\u001b[0;32m   2273\u001b[0m request \u001b[39m=\u001b[39m \u001b[39mself\u001b[39m\u001b[39m.\u001b[39mpipeline_client\u001b[39m.\u001b[39mpost(url\u001b[39m=\u001b[39mpath, headers\u001b[39m=\u001b[39mreq_headers)\n\u001b[1;32m-> 2274\u001b[0m \u001b[39mreturn\u001b[39;00m synchronized_request\u001b[39m.\u001b[39mSynchronizedRequest(\n\u001b[0;32m   2275\u001b[0m     client\u001b[39m=\u001b[39m\u001b[39mself\u001b[39m,\n\u001b[0;32m   2276\u001b[0m     request_params\u001b[39m=\u001b[39mrequest_params,\n\u001b[0;32m   2277\u001b[0m     global_endpoint_manager\u001b[39m=\u001b[39m\u001b[39mself\u001b[39m\u001b[39m.\u001b[39m_global_endpoint_manager,\n\u001b[0;32m   2278\u001b[0m     connection_policy\u001b[39m=\u001b[39m\u001b[39mself\u001b[39m\u001b[39m.\u001b[39mconnection_policy,\n\u001b[0;32m   2279\u001b[0m     pipeline_client\u001b[39m=\u001b[39m\u001b[39mself\u001b[39m\u001b[39m.\u001b[39mpipeline_client,\n\u001b[0;32m   2280\u001b[0m     request\u001b[39m=\u001b[39mrequest,\n\u001b[0;32m   2281\u001b[0m     request_data\u001b[39m=\u001b[39mbody,\n\u001b[0;32m   2282\u001b[0m     \u001b[39m*\u001b[39m\u001b[39m*\u001b[39mkwargs\n\u001b[0;32m   2283\u001b[0m )\n",
      "File \u001b[1;32m~\\AppData\\Local\\Packages\\PythonSoftwareFoundation.Python.3.10_qbz5n2kfra8p0\\LocalCache\\local-packages\\Python310\\site-packages\\azure\\cosmos\\_synchronized_request.py:206\u001b[0m, in \u001b[0;36mSynchronizedRequest\u001b[1;34m(client, request_params, global_endpoint_manager, connection_policy, pipeline_client, request, request_data, **kwargs)\u001b[0m\n\u001b[0;32m    203\u001b[0m     request\u001b[39m.\u001b[39mheaders[http_constants\u001b[39m.\u001b[39mHttpHeaders\u001b[39m.\u001b[39mContentLength] \u001b[39m=\u001b[39m \u001b[39m0\u001b[39m\n\u001b[0;32m    205\u001b[0m \u001b[39m# Pass _Request function with it's parameters to retry_utility's Execute method that wraps the call with retries\u001b[39;00m\n\u001b[1;32m--> 206\u001b[0m \u001b[39mreturn\u001b[39;00m _retry_utility\u001b[39m.\u001b[39mExecute(\n\u001b[0;32m    207\u001b[0m     client,\n\u001b[0;32m    208\u001b[0m     global_endpoint_manager,\n\u001b[0;32m    209\u001b[0m     _Request,\n\u001b[0;32m    210\u001b[0m     request_params,\n\u001b[0;32m    211\u001b[0m     connection_policy,\n\u001b[0;32m    212\u001b[0m     pipeline_client,\n\u001b[0;32m    213\u001b[0m     request,\n\u001b[0;32m    214\u001b[0m     \u001b[39m*\u001b[39m\u001b[39m*\u001b[39mkwargs\n\u001b[0;32m    215\u001b[0m )\n",
      "File \u001b[1;32m~\\AppData\\Local\\Packages\\PythonSoftwareFoundation.Python.3.10_qbz5n2kfra8p0\\LocalCache\\local-packages\\Python310\\site-packages\\azure\\cosmos\\_retry_utility.py:126\u001b[0m, in \u001b[0;36mExecute\u001b[1;34m(client, global_endpoint_manager, function, *args, **kwargs)\u001b[0m\n\u001b[0;32m    123\u001b[0m     \u001b[39mraise\u001b[39;00m\n\u001b[0;32m    125\u001b[0m \u001b[39m# Wait for retry_after_in_milliseconds time before the next retry\u001b[39;00m\n\u001b[1;32m--> 126\u001b[0m time\u001b[39m.\u001b[39;49msleep(retry_policy\u001b[39m.\u001b[39;49mretry_after_in_milliseconds \u001b[39m/\u001b[39;49m \u001b[39m1000.0\u001b[39;49m)\n\u001b[0;32m    127\u001b[0m \u001b[39mif\u001b[39;00m client_timeout:\n\u001b[0;32m    128\u001b[0m     kwargs[\u001b[39m'\u001b[39m\u001b[39mtimeout\u001b[39m\u001b[39m'\u001b[39m] \u001b[39m=\u001b[39m client_timeout \u001b[39m-\u001b[39m (time\u001b[39m.\u001b[39mtime() \u001b[39m-\u001b[39m start_time)\n",
      "\u001b[1;31mKeyboardInterrupt\u001b[0m: "
     ]
    }
   ],
   "source": [
    "## Loading daily readings per document, multiple partition key (based on yyyy-mm-dd)\n",
    "from datetime import datetime, timedelta\n",
    "\n",
    "RUCharges = []\n",
    "daysRange = 30\n",
    "iotRange = 1000\n",
    "\n",
    "dtBase = datetime(year=2023, month=1, day=20)\n",
    "\n",
    "for iot in range(iotRange):\n",
    "    IOTSrc = IOTSources[fake.random_int(min=0, max=9999)]\n",
    "\n",
    "    for day in range(daysRange):\n",
    "        docs = []        \n",
    "        readings = []\n",
    "\n",
    "        # *** Produce 1440 readings - 1 for each minute\n",
    "        for m in range(1440):\n",
    "            readings.append(\n",
    "                {\n",
    "                    'Dimension': fake.random_element(elements=('D1', 'D2', 'D3', 'D4', 'D5', 'D6', 'D7', 'D8', 'D9'))\n",
    "                    , 'Metric': fake.random_number(digits=5)\n",
    "                    , 'Timestamp': (dtBase + timedelta(days=day,minutes=m)).isoformat()  # fake.date_time_this_year().isoformat()\n",
    "                })\n",
    "\n",
    "        doc = {\n",
    "            'id': str(uuid.uuid4())\n",
    "            , 'PartitionKey': IOTSrc['Name'] + '_' + IOTSrc['Type'] + '_' + (dtBase + timedelta(days=day)).strftime('%Y_%m_%d')\n",
    "            , 'Name': IOTSrc['Name']\n",
    "            , 'Type': IOTSrc['Type']\n",
    "            , 'JobId': 100\n",
    "            , 'Entity': IOTSrc\n",
    "            , 'DateTime': (dtBase + timedelta(days=day)).isoformat()\n",
    "            , 'Timestamp': (dtBase + timedelta(days=day)).timestamp()\n",
    "            , 'Readings': readings\n",
    "            , 'class': fake.random_element(elements=OrderedDict([(\"A\", 0.40), (\"B\", 0.35), (\"C\", 0.15), (\"D\", 0.05), (\"E\", 0.05)]))\n",
    "        }\n",
    "\n",
    "        ctr.create_item(doc)\n",
    "        RUCharges.append(float(ctr.client_connection.last_response_headers['x-ms-request-charge']))\n",
    "        #print(ctr.client_connection.last_response_headers['x-ms-request-charge'])\n",
    "\n",
    "        # Store docs and reset readings\n",
    "        docs.append(doc)\n",
    "\n",
    "        with open('./OutputFiles/' + containerName + '_' + IOTSrc['Name'] + '_' + IOTSrc['Type'] + '_' + (dtBase + timedelta(days=day)).strftime('%Y_%m_%d') + '_docs.json', 'w') as jf:\n",
    "            for d in docs:\n",
    "                json.dump(d, jf)\n",
    "                #jf.write('\\n')"
   ]
  },
  {
   "cell_type": "code",
   "execution_count": 5,
   "metadata": {},
   "outputs": [
    {
     "name": "stdout",
     "output_type": "stream",
     "text": [
      "Average RU cost: 876.3230000000002\n"
     ]
    }
   ],
   "source": [
    "print('Average RU cost: ' + str(sum(RUCharges) / len(RUCharges)))"
   ]
  },
  {
   "cell_type": "markdown",
   "metadata": {},
   "source": [
    "### Load documents with Partition key Name_Type\n",
    "- 1440 readings for a single document (1 reading per minute)\n",
    "- 30 days\n",
    "- Average RU cost with default indexing: ~ 877 RUs\n",
    "- Save generated documents in output directory for reference"
   ]
  },
  {
   "cell_type": "code",
   "execution_count": 6,
   "metadata": {},
   "outputs": [],
   "source": [
    "## Loading daily readings per document, single partition key\n",
    "from datetime import datetime, timedelta\n",
    "\n",
    "RUCharges = []\n",
    "daysRange = 30\n",
    "iotRange = 1\n",
    "\n",
    "dtBase = datetime(year=2022, month=10, day=1)\n",
    "\n",
    "for iot in range(iotRange):\n",
    "    IOTSrc = IOTSources[fake.random_int(min=0, max=9999)]\n",
    "\n",
    "    for day in range(daysRange):\n",
    "        docs = []        \n",
    "        readings = []\n",
    "\n",
    "        # *** Produce 1440 readings - 1 for each minute\n",
    "        for m in range(1440):\n",
    "            readings.append(\n",
    "                {\n",
    "                    'Dimension': fake.random_element(elements=('D1', 'D2', 'D3', 'D4', 'D5', 'D6', 'D7', 'D8', 'D9'))\n",
    "                    , 'Metric': fake.random_number(digits=5)\n",
    "                    , 'Timestamp': (dtBase + timedelta(days=day,minutes=m)).isoformat()  # fake.date_time_this_year().isoformat()\n",
    "                })\n",
    "\n",
    "        doc = {\n",
    "            'id': str(uuid.uuid4())\n",
    "            , 'PartitionKey': IOTSrc['Name'] + '_' + IOTSrc['Type']\n",
    "            , 'Name': IOTSrc['Name']\n",
    "            , 'Type': IOTSrc['Type']\n",
    "            , 'JobId': 100\n",
    "            , 'Entity': IOTSrc\n",
    "            , 'DateTime': (dtBase + timedelta(days=day)).isoformat()\n",
    "            , 'Timestamp': (dtBase + timedelta(days=day)).timestamp()\n",
    "            , 'Readings': readings\n",
    "            , 'class': fake.random_element(elements=OrderedDict([(\"A\", 0.40), (\"B\", 0.35), (\"C\", 0.15), (\"D\", 0.05), (\"E\", 0.05)]))\n",
    "        }\n",
    "\n",
    "        ctr.create_item(doc)\n",
    "        RUCharges.append(float(ctr.client_connection.last_response_headers['x-ms-request-charge']))\n",
    "        # print(ctr.client_connection.last_response_headers['x-ms-request-charge'])\n",
    "\n",
    "        # Store docs and reset readings\n",
    "        docs.append(doc)\n",
    "\n",
    "        with open('./OutputFiles/' + containerName + '_' + IOTSrc['Name'] + '_' + IOTSrc['Type'] + '_' + (dtBase + timedelta(days=day)).strftime('%Y_%m_%d') + '_docs.json', 'w') as jf:\n",
    "            for d in docs:\n",
    "                json.dump(d, jf)\n",
    "                #jf.write('\\n')"
   ]
  },
  {
   "cell_type": "code",
   "execution_count": 7,
   "metadata": {},
   "outputs": [
    {
     "name": "stdout",
     "output_type": "stream",
     "text": [
      "Average RU charge: 876.2913333333332\n"
     ]
    }
   ],
   "source": [
    "print('Average RU charge: ' + str(sum(RUCharges) / len(RUCharges)))"
   ]
  },
  {
   "cell_type": "markdown",
   "metadata": {},
   "source": [
    "### Load documents with Partition key Name_Type_YYYY_MM_DD\n",
    "- 1440 readings for a single document (1 reading per minute)\n",
    "- 365 days\n",
    "- Average RU cost with default indexing: ~ 877 RUs\n",
    "- Save generated documents in output directory for reference"
   ]
  },
  {
   "cell_type": "code",
   "execution_count": 8,
   "metadata": {},
   "outputs": [],
   "source": [
    "## Loading daily readings per document, multiple partition key (based on yyyy-mm-dd)\n",
    "from datetime import datetime, timedelta\n",
    "\n",
    "RUCharges = []\n",
    "daysRange = 365\n",
    "iotRange = 1\n",
    "\n",
    "dtBase = datetime(year=2022, month=1, day=1)\n",
    "\n",
    "for iot in range(iotRange):\n",
    "    IOTSrc = IOTSources[fake.random_int(min=0, max=9999)]\n",
    "\n",
    "    for day in range(daysRange):\n",
    "        docs = []        \n",
    "        readings = []\n",
    "\n",
    "        # *** Produce 1440 readings - 1 for each minute\n",
    "        for m in range(1440):\n",
    "            readings.append(\n",
    "                {\n",
    "                    'Dimension': fake.random_element(elements=('D1', 'D2', 'D3', 'D4', 'D5', 'D6', 'D7', 'D8', 'D9'))\n",
    "                    , 'Metric': fake.random_number(digits=5)\n",
    "                    , 'Timestamp': (dtBase + timedelta(days=day,minutes=m)).isoformat()  # fake.date_time_this_year().isoformat()\n",
    "                })\n",
    "\n",
    "        doc = {\n",
    "            'id': str(uuid.uuid4())\n",
    "            , 'PartitionKey': IOTSrc['Name'] + '_' + IOTSrc['Type'] + '_' + (dtBase + timedelta(days=day)).strftime('%Y_%m_%d')\n",
    "            , 'Name': IOTSrc['Name']\n",
    "            , 'Type': IOTSrc['Type']\n",
    "            , 'JobId': 100\n",
    "            , 'Entity': IOTSrc\n",
    "            , 'DateTime': (dtBase + timedelta(days=day)).isoformat()\n",
    "            , 'Timestamp': (dtBase + timedelta(days=day)).timestamp()\n",
    "            , 'Readings': readings\n",
    "            , 'class': fake.random_element(elements=OrderedDict([(\"A\", 0.40), (\"B\", 0.35), (\"C\", 0.15), (\"D\", 0.05), (\"E\", 0.05)]))\n",
    "        }\n",
    "\n",
    "        ctr.create_item(doc)\n",
    "        RUCharges.append(float(ctr.client_connection.last_response_headers['x-ms-request-charge']))\n",
    "        #print(ctr.client_connection.last_response_headers['x-ms-request-charge'])\n",
    "\n",
    "        # Store docs and reset readings\n",
    "        docs.append(doc)\n",
    "\n",
    "        with open('./OutputFiles/' + containerName + '_' + IOTSrc['Name'] + '_' + IOTSrc['Type'] + '_' + (dtBase + timedelta(days=day)).strftime('%Y_%m_%d') + '_docs.json', 'w') as jf:\n",
    "            for d in docs:\n",
    "                json.dump(d, jf)\n",
    "                #jf.write('\\n')"
   ]
  },
  {
   "cell_type": "code",
   "execution_count": 9,
   "metadata": {},
   "outputs": [
    {
     "name": "stdout",
     "output_type": "stream",
     "text": [
      "Average RU charge: 876.3602465753447\n"
     ]
    }
   ],
   "source": [
    "print('Average RU charge: ' + str(sum(RUCharges) / len(RUCharges)))"
   ]
  },
  {
   "cell_type": "markdown",
   "metadata": {},
   "source": [
    "### Load documents with Partition key Name_Type\n",
    "- 1440 readings for a single document (1 reading per minute)\n",
    "- 365 days\n",
    "- Average RU cost with default indexing: ~ 877 RUs\n",
    "- Save generated documents in output directory for reference"
   ]
  },
  {
   "cell_type": "code",
   "execution_count": 10,
   "metadata": {},
   "outputs": [],
   "source": [
    "## Loading daily readings per document, single partition key\n",
    "from datetime import datetime, timedelta\n",
    "\n",
    "RUCharges = []\n",
    "daysRange = 365\n",
    "iotRange = 1\n",
    "\n",
    "dtBase = datetime(year=2022, month=1, day=1)\n",
    "\n",
    "for iot in range(iotRange):\n",
    "    IOTSrc = IOTSources[fake.random_int(min=0, max=9999)]\n",
    "\n",
    "    for day in range(daysRange):\n",
    "        docs = []        \n",
    "        readings = []\n",
    "\n",
    "        # *** Produce 1440 readings - 1 for each minute\n",
    "        for m in range(1440):\n",
    "            readings.append(\n",
    "                {\n",
    "                    'Dimension': fake.random_element(elements=('D1', 'D2', 'D3', 'D4', 'D5', 'D6', 'D7', 'D8', 'D9'))\n",
    "                    , 'Metric': fake.random_number(digits=5)\n",
    "                    , 'Timestamp': (dtBase + timedelta(days=day,minutes=m)).isoformat()  # fake.date_time_this_year().isoformat()\n",
    "                })\n",
    "\n",
    "        doc = {\n",
    "            'id': str(uuid.uuid4())\n",
    "            , 'PartitionKey': IOTSrc['Name'] + '_' + IOTSrc['Type']\n",
    "            , 'Name': IOTSrc['Name']\n",
    "            , 'Type': IOTSrc['Type']\n",
    "            , 'JobId': 100\n",
    "            , 'Entity': IOTSrc\n",
    "            , 'DateTime': (dtBase + timedelta(days=day)).isoformat()\n",
    "            , 'Timestamp': (dtBase + timedelta(days=day)).timestamp()\n",
    "            , 'Readings': readings\n",
    "            , 'class': fake.random_element(elements=OrderedDict([(\"A\", 0.40), (\"B\", 0.35), (\"C\", 0.15), (\"D\", 0.05), (\"E\", 0.05)]))\n",
    "        }\n",
    "\n",
    "        ctr.create_item(doc)\n",
    "        RUCharges.append(float(ctr.client_connection.last_response_headers['x-ms-request-charge']))\n",
    "        #print(ctr.client_connection.last_response_headers['x-ms-request-charge'])\n",
    "\n",
    "        # Store docs and reset readings\n",
    "        docs.append(doc)\n",
    "\n",
    "        with open('./OutputFiles/' + containerName + '_' + IOTSrc['Name'] + '_' + IOTSrc['Type'] + '_' + (dtBase + timedelta(days=day)).strftime('%Y_%m_%d') + '_docs.json', 'w') as jf:\n",
    "            for d in docs:\n",
    "                json.dump(d, jf)\n",
    "                #jf.write('\\n')"
   ]
  },
  {
   "cell_type": "code",
   "execution_count": 11,
   "metadata": {},
   "outputs": [
    {
     "name": "stdout",
     "output_type": "stream",
     "text": [
      "Average RU charge: 876.3362739726043\n"
     ]
    }
   ],
   "source": [
    "print('Average RU charge: ' + str(sum(RUCharges) / len(RUCharges)))"
   ]
  },
  {
   "cell_type": "markdown",
   "metadata": {},
   "source": [
    "### Checking the result\n",
    "Executing the following querin in Data Explorer will confirm data load was properly executed...\n",
    "\n",
    "SELECT SUBSTRING(c.PartitionKey, 0, 23) AS PK, COUNT(c.id) AS Total <br>\n",
    "FROM c <br>\n",
    "GROUP BY SUBSTRING(c.PartitionKey, 0, 23) <br>\n",
    "\n",
    "Example output:\n",
    "<br>\n",
    "<br>\n",
    "    {<br>\n",
    "        \"PK\": \"vulT_488002475746_Type6\",<br>\n",
    "        \"Total\": 365<br>\n",
    "    },<br>\n",
    "    {<br>\n",
    "        \"PK\": \"lraA_973264882039_Type3\",<br>\n",
    "        \"Total\": 30<br>\n",
    "    },<br>\n",
    "    {<br>\n",
    "        \"PK\": \"fYuo_086671929026_Type3\",<br>\n",
    "        \"Total\": 365<br>\n",
    "    },<br>\n",
    "    {<br>\n",
    "        \"PK\": \"XkZk_119381357891_Type5\",<br>\n",
    "        \"Total\": 30<br>\n",
    "    }<br>\n",
    "\n"
   ]
  },
  {
   "cell_type": "markdown",
   "metadata": {},
   "source": [
    "### Query cost\n",
    "- [Check IOTReadingsv2_CSharp.dib](./IOTReadingsv2_CSharp.dib)"
   ]
  },
  {
   "cell_type": "markdown",
   "metadata": {},
   "source": [
    "### Clean up\n",
    "- Files in the Output folder\n",
    "- NOT deleting containers, as those can be reused\n",
    "  - For document deletion with TTL, referer to [PrepareContainers.ipynb](./PrepareContainers.ipynb)"
   ]
  },
  {
   "cell_type": "code",
   "execution_count": 12,
   "metadata": {},
   "outputs": [],
   "source": [
    "# Assume objects are instantiated\n",
    "# db.delete_container(containerName)\n",
    "\n",
    "import glob\n",
    "\n",
    "files = glob.glob('.\\OutputFiles\\*')\n",
    "for f in files:\n",
    "    os.remove(f)"
   ]
  }
 ],
 "metadata": {
  "kernelspec": {
   "display_name": "Python 3",
   "language": "python",
   "name": "python3"
  },
  "language_info": {
   "codemirror_mode": {
    "name": "ipython",
    "version": 3
   },
   "file_extension": ".py",
   "mimetype": "text/x-python",
   "name": "python",
   "nbconvert_exporter": "python",
   "pygments_lexer": "ipython3",
   "version": "3.10.10"
  },
  "orig_nbformat": 4,
  "vscode": {
   "interpreter": {
    "hash": "3f5c034d10c10f5a4ca2da93e6423dfeffe7b0b50e6b543a2b0cb9a54b246f48"
   }
  }
 },
 "nbformat": 4,
 "nbformat_minor": 2
}
