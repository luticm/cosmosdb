{
 "cells": [
  {
   "cell_type": "markdown",
   "metadata": {},
   "source": [
    "## Multiple device readings - Cross partition or not?\n",
    "Test dataset to evaluate RU cost for collocating IOT readings in a single document, multiple documents with N readings and cross-partition effect. </br>\n",
    "\n",
    "- Rely on containers created from [PrepareContainers.ipynb](./PrepareContainers.ipynb)"
   ]
  },
  {
   "cell_type": "markdown",
   "metadata": {},
   "source": [
    "### Prepare key references for notebook\n",
    "Environment variables COSMOS_ACCOUNT_URI and COSMOS_ACCOUNT_KEY should exist"
   ]
  },
  {
   "cell_type": "code",
   "execution_count": 1,
   "metadata": {},
   "outputs": [],
   "source": [
    "from azure.cosmos import CosmosClient, PartitionKey\n",
    "from configparser import ConfigParser\n",
    "from faker import Faker\n",
    "\n",
    "import os\n",
    "import json\n",
    "import uuid\n",
    "\n",
    "parser = ConfigParser()\n",
    "parser.read('../NotebookConfig.cfg')\n",
    "\n",
    "cosmosAccountURI = parser.get('CosmosDB', 'COSMOSDB_ACCOUNT_URI')\n",
    "cosmosAccountKey = parser.get('CosmosDB', 'COSMOSDB_ACCOUNT_KEY')\n",
    "\n",
    "databaseName = 'Models'\n",
    "containerName = 'Cnt10PhysicalPartitions'\n",
    "partitionKeypath = '/PartitionKey'\n",
    "osPath = './OutputFiles/'\n",
    "\n",
    "Faker.seed(0)\n",
    "fake = Faker(['en-US'])\n",
    "\n",
    "if not os.path.exists(osPath):\n",
    "    os.mkdir(osPath)"
   ]
  },
  {
   "cell_type": "markdown",
   "metadata": {},
   "source": [
    "### Create DB and collection for sample data\n",
    "- Resources should already exists, so just get references for database and container.\n",
    "  - If not, a container with a single physical partition will be created.\n",
    "- Adjust the RUs to your need..."
   ]
  },
  {
   "cell_type": "code",
   "execution_count": 2,
   "metadata": {},
   "outputs": [
    {
     "data": {
      "text/plain": [
       "<azure.cosmos.offer.ThroughputProperties at 0x2103eb1f350>"
      ]
     },
     "execution_count": 2,
     "metadata": {},
     "output_type": "execute_result"
    }
   ],
   "source": [
    "client = CosmosClient(cosmosAccountURI, cosmosAccountKey)\n",
    "db = client.create_database_if_not_exists(databaseName)\n",
    "\n",
    "pkPath = PartitionKey(path=partitionKeypath)\n",
    "ctr = db.create_container_if_not_exists(id=containerName, partition_key=pkPath, offer_throughput=1000, default_ttl=None) \n",
    "ctr.replace_throughput(throughput=4000)"
   ]
  },
  {
   "cell_type": "markdown",
   "metadata": {},
   "source": [
    "### Repeatable References\n",
    "Contains documents that should be used as a reference data set across cell/operations. </br>\n",
    "For example: Patient, IOT devices, tax payer information, ..."
   ]
  },
  {
   "cell_type": "code",
   "execution_count": 3,
   "metadata": {},
   "outputs": [],
   "source": [
    "from collections import OrderedDict\n",
    "maxRange = 10000\n",
    "IOTSources = []\n",
    "\n",
    "os.makedirs(os.path.dirname('./OutputFiles/'), exist_ok=True)\n",
    "with open('./OutputFiles/' + containerName + '_referenceData.json', 'w') as jsonFile:\n",
    "    for i in range(maxRange):\n",
    "        entity = {            \n",
    "            'Name': fake.bothify('????_############')\n",
    "            , 'Type': fake.random_element(elements=('Type1', 'Type2', 'Type3', 'Type4', 'Type5', 'Type6'))\n",
    "        }\n",
    "        IOTSources.append(entity)\n",
    "\n",
    "        # Save patients for reference\n",
    "        json.dump(entity, jsonFile)\n",
    "        if (i < maxRange):\n",
    "            jsonFile.write(',\\n')"
   ]
  },
  {
   "cell_type": "markdown",
   "metadata": {},
   "source": [
    "### Load documents with Partition key Name_Type_YYYY_MM_DD\n",
    "- 1440 readings for a single document (1 reading per minute)\n",
    "- 30 days\n",
    "- Average RU cost with default indexing: ~ 877 RUs\n",
    "- Save generated documents in output directory for reference"
   ]
  },
  {
   "cell_type": "code",
   "execution_count": 4,
   "metadata": {},
   "outputs": [],
   "source": [
    "## Loading daily readings per document, multiple partition key (based on yyyy-mm-dd)\n",
    "from datetime import datetime, timedelta\n",
    "\n",
    "RUCharges = []\n",
    "daysRange = 30\n",
    "iotRange = 1\n",
    "\n",
    "dtBase = datetime(year=2022, month=10, day=1)\n",
    "\n",
    "for iot in range(iotRange):\n",
    "    IOTSrc = IOTSources[fake.random_int(min=0, max=9999)]\n",
    "\n",
    "    for day in range(daysRange):\n",
    "        docs = []        \n",
    "        readings = []\n",
    "\n",
    "        # *** Produce 1440 readings - 1 for each minute\n",
    "        for m in range(1440):\n",
    "            readings.append(\n",
    "                {\n",
    "                    'Dimension': fake.random_element(elements=('D1', 'D2', 'D3', 'D4', 'D5', 'D6', 'D7', 'D8', 'D9'))\n",
    "                    , 'Metric': fake.random_number(digits=5)\n",
    "                    , 'Timestamp': (dtBase + timedelta(days=day,minutes=m)).isoformat()  # fake.date_time_this_year().isoformat()\n",
    "                })\n",
    "\n",
    "        doc = {\n",
    "            'id': str(uuid.uuid4())\n",
    "            , 'PartitionKey': IOTSrc['Name'] + '_' + IOTSrc['Type'] + '_' + (dtBase + timedelta(days=day)).strftime('%Y_%m_%d')\n",
    "            , 'Name': IOTSrc['Name']\n",
    "            , 'Type': IOTSrc['Type']\n",
    "            , 'JobId': 100\n",
    "            , 'Entity': IOTSrc\n",
    "            , 'DateTime': (dtBase + timedelta(days=day)).isoformat()\n",
    "            , 'Timestamp': (dtBase + timedelta(days=day)).timestamp()\n",
    "            , 'Readings': readings\n",
    "            , 'class': fake.random_element(elements=OrderedDict([(\"A\", 0.40), (\"B\", 0.35), (\"C\", 0.15), (\"D\", 0.05), (\"E\", 0.05)]))\n",
    "        }\n",
    "\n",
    "        ctr.create_item(doc)\n",
    "        RUCharges.append(float(ctr.client_connection.last_response_headers['x-ms-request-charge']))\n",
    "        #print(ctr.client_connection.last_response_headers['x-ms-request-charge'])\n",
    "\n",
    "        # Store docs and reset readings\n",
    "        docs.append(doc)\n",
    "\n",
    "        with open('./OutputFiles/' + containerName + '_' + IOTSrc['Name'] + '_' + IOTSrc['Type'] + '_' + (dtBase + timedelta(days=day)).strftime('%Y_%m_%d') + '_docs.json', 'w') as jf:\n",
    "            for d in docs:\n",
    "                json.dump(d, jf)\n",
    "                #jf.write('\\n')"
   ]
  },
  {
   "cell_type": "code",
   "execution_count": 5,
   "metadata": {},
   "outputs": [
    {
     "name": "stdout",
     "output_type": "stream",
     "text": [
      "Average RU cost: 876.3230000000002\n"
     ]
    }
   ],
   "source": [
    "print('Average RU cost: ' + str(sum(RUCharges) / len(RUCharges)))"
   ]
  },
  {
   "cell_type": "markdown",
   "metadata": {},
   "source": [
    "### Load documents with Partition key Name_Type\n",
    "- 1440 readings for a single document (1 reading per minute)\n",
    "- 30 days\n",
    "- Average RU cost with default indexing: ~ 877 RUs\n",
    "- Save generated documents in output directory for reference"
   ]
  },
  {
   "cell_type": "code",
   "execution_count": 6,
   "metadata": {},
   "outputs": [],
   "source": [
    "## Loading daily readings per document, single partition key\n",
    "from datetime import datetime, timedelta\n",
    "\n",
    "RUCharges = []\n",
    "daysRange = 30\n",
    "iotRange = 1\n",
    "\n",
    "dtBase = datetime(year=2022, month=10, day=1)\n",
    "\n",
    "for iot in range(iotRange):\n",
    "    IOTSrc = IOTSources[fake.random_int(min=0, max=9999)]\n",
    "\n",
    "    for day in range(daysRange):\n",
    "        docs = []        \n",
    "        readings = []\n",
    "\n",
    "        # *** Produce 1440 readings - 1 for each minute\n",
    "        for m in range(1440):\n",
    "            readings.append(\n",
    "                {\n",
    "                    'Dimension': fake.random_element(elements=('D1', 'D2', 'D3', 'D4', 'D5', 'D6', 'D7', 'D8', 'D9'))\n",
    "                    , 'Metric': fake.random_number(digits=5)\n",
    "                    , 'Timestamp': (dtBase + timedelta(days=day,minutes=m)).isoformat()  # fake.date_time_this_year().isoformat()\n",
    "                })\n",
    "\n",
    "        doc = {\n",
    "            'id': str(uuid.uuid4())\n",
    "            , 'PartitionKey': IOTSrc['Name'] + '_' + IOTSrc['Type']\n",
    "            , 'Name': IOTSrc['Name']\n",
    "            , 'Type': IOTSrc['Type']\n",
    "            , 'JobId': 100\n",
    "            , 'Entity': IOTSrc\n",
    "            , 'DateTime': (dtBase + timedelta(days=day)).isoformat()\n",
    "            , 'Timestamp': (dtBase + timedelta(days=day)).timestamp()\n",
    "            , 'Readings': readings\n",
    "            , 'class': fake.random_element(elements=OrderedDict([(\"A\", 0.40), (\"B\", 0.35), (\"C\", 0.15), (\"D\", 0.05), (\"E\", 0.05)]))\n",
    "        }\n",
    "\n",
    "        ctr.create_item(doc)\n",
    "        RUCharges.append(float(ctr.client_connection.last_response_headers['x-ms-request-charge']))\n",
    "        # print(ctr.client_connection.last_response_headers['x-ms-request-charge'])\n",
    "\n",
    "        # Store docs and reset readings\n",
    "        docs.append(doc)\n",
    "\n",
    "        with open('./OutputFiles/' + containerName + '_' + IOTSrc['Name'] + '_' + IOTSrc['Type'] + '_' + (dtBase + timedelta(days=day)).strftime('%Y_%m_%d') + '_docs.json', 'w') as jf:\n",
    "            for d in docs:\n",
    "                json.dump(d, jf)\n",
    "                #jf.write('\\n')"
   ]
  },
  {
   "cell_type": "code",
   "execution_count": 7,
   "metadata": {},
   "outputs": [
    {
     "name": "stdout",
     "output_type": "stream",
     "text": [
      "Average RU charge: 876.2913333333332\n"
     ]
    }
   ],
   "source": [
    "print('Average RU charge: ' + str(sum(RUCharges) / len(RUCharges)))"
   ]
  },
  {
   "cell_type": "markdown",
   "metadata": {},
   "source": [
    "### Load documents with Partition key Name_Type_YYYY_MM_DD\n",
    "- 1440 readings for a single document (1 reading per minute)\n",
    "- 365 days\n",
    "- Average RU cost with default indexing: ~ 877 RUs\n",
    "- Save generated documents in output directory for reference"
   ]
  },
  {
   "cell_type": "code",
   "execution_count": 8,
   "metadata": {},
   "outputs": [],
   "source": [
    "## Loading daily readings per document, multiple partition key (based on yyyy-mm-dd)\n",
    "from datetime import datetime, timedelta\n",
    "\n",
    "RUCharges = []\n",
    "daysRange = 365\n",
    "iotRange = 1\n",
    "\n",
    "dtBase = datetime(year=2022, month=1, day=1)\n",
    "\n",
    "for iot in range(iotRange):\n",
    "    IOTSrc = IOTSources[fake.random_int(min=0, max=9999)]\n",
    "\n",
    "    for day in range(daysRange):\n",
    "        docs = []        \n",
    "        readings = []\n",
    "\n",
    "        # *** Produce 1440 readings - 1 for each minute\n",
    "        for m in range(1440):\n",
    "            readings.append(\n",
    "                {\n",
    "                    'Dimension': fake.random_element(elements=('D1', 'D2', 'D3', 'D4', 'D5', 'D6', 'D7', 'D8', 'D9'))\n",
    "                    , 'Metric': fake.random_number(digits=5)\n",
    "                    , 'Timestamp': (dtBase + timedelta(days=day,minutes=m)).isoformat()  # fake.date_time_this_year().isoformat()\n",
    "                })\n",
    "\n",
    "        doc = {\n",
    "            'id': str(uuid.uuid4())\n",
    "            , 'PartitionKey': IOTSrc['Name'] + '_' + IOTSrc['Type'] + '_' + (dtBase + timedelta(days=day)).strftime('%Y_%m_%d')\n",
    "            , 'Name': IOTSrc['Name']\n",
    "            , 'Type': IOTSrc['Type']\n",
    "            , 'JobId': 100\n",
    "            , 'Entity': IOTSrc\n",
    "            , 'DateTime': (dtBase + timedelta(days=day)).isoformat()\n",
    "            , 'Timestamp': (dtBase + timedelta(days=day)).timestamp()\n",
    "            , 'Readings': readings\n",
    "            , 'class': fake.random_element(elements=OrderedDict([(\"A\", 0.40), (\"B\", 0.35), (\"C\", 0.15), (\"D\", 0.05), (\"E\", 0.05)]))\n",
    "        }\n",
    "\n",
    "        ctr.create_item(doc)\n",
    "        RUCharges.append(float(ctr.client_connection.last_response_headers['x-ms-request-charge']))\n",
    "        #print(ctr.client_connection.last_response_headers['x-ms-request-charge'])\n",
    "\n",
    "        # Store docs and reset readings\n",
    "        docs.append(doc)\n",
    "\n",
    "        with open('./OutputFiles/' + containerName + '_' + IOTSrc['Name'] + '_' + IOTSrc['Type'] + '_' + (dtBase + timedelta(days=day)).strftime('%Y_%m_%d') + '_docs.json', 'w') as jf:\n",
    "            for d in docs:\n",
    "                json.dump(d, jf)\n",
    "                #jf.write('\\n')"
   ]
  },
  {
   "cell_type": "code",
   "execution_count": 9,
   "metadata": {},
   "outputs": [
    {
     "name": "stdout",
     "output_type": "stream",
     "text": [
      "Average RU charge: 876.3602465753447\n"
     ]
    }
   ],
   "source": [
    "print('Average RU charge: ' + str(sum(RUCharges) / len(RUCharges)))"
   ]
  },
  {
   "cell_type": "markdown",
   "metadata": {},
   "source": [
    "### Load documents with Partition key Name_Type\n",
    "- 1440 readings for a single document (1 reading per minute)\n",
    "- 365 days\n",
    "- Average RU cost with default indexing: ~ 877 RUs\n",
    "- Save generated documents in output directory for reference"
   ]
  },
  {
   "cell_type": "code",
   "execution_count": 10,
   "metadata": {},
   "outputs": [],
   "source": [
    "## Loading daily readings per document, single partition key\n",
    "from datetime import datetime, timedelta\n",
    "\n",
    "RUCharges = []\n",
    "daysRange = 365\n",
    "iotRange = 1\n",
    "\n",
    "dtBase = datetime(year=2022, month=1, day=1)\n",
    "\n",
    "for iot in range(iotRange):\n",
    "    IOTSrc = IOTSources[fake.random_int(min=0, max=9999)]\n",
    "\n",
    "    for day in range(daysRange):\n",
    "        docs = []        \n",
    "        readings = []\n",
    "\n",
    "        # *** Produce 1440 readings - 1 for each minute\n",
    "        for m in range(1440):\n",
    "            readings.append(\n",
    "                {\n",
    "                    'Dimension': fake.random_element(elements=('D1', 'D2', 'D3', 'D4', 'D5', 'D6', 'D7', 'D8', 'D9'))\n",
    "                    , 'Metric': fake.random_number(digits=5)\n",
    "                    , 'Timestamp': (dtBase + timedelta(days=day,minutes=m)).isoformat()  # fake.date_time_this_year().isoformat()\n",
    "                })\n",
    "\n",
    "        doc = {\n",
    "            'id': str(uuid.uuid4())\n",
    "            , 'PartitionKey': IOTSrc['Name'] + '_' + IOTSrc['Type']\n",
    "            , 'Name': IOTSrc['Name']\n",
    "            , 'Type': IOTSrc['Type']\n",
    "            , 'JobId': 100\n",
    "            , 'Entity': IOTSrc\n",
    "            , 'DateTime': (dtBase + timedelta(days=day)).isoformat()\n",
    "            , 'Timestamp': (dtBase + timedelta(days=day)).timestamp()\n",
    "            , 'Readings': readings\n",
    "            , 'class': fake.random_element(elements=OrderedDict([(\"A\", 0.40), (\"B\", 0.35), (\"C\", 0.15), (\"D\", 0.05), (\"E\", 0.05)]))\n",
    "        }\n",
    "\n",
    "        ctr.create_item(doc)\n",
    "        RUCharges.append(float(ctr.client_connection.last_response_headers['x-ms-request-charge']))\n",
    "        #print(ctr.client_connection.last_response_headers['x-ms-request-charge'])\n",
    "\n",
    "        # Store docs and reset readings\n",
    "        docs.append(doc)\n",
    "\n",
    "        with open('./OutputFiles/' + containerName + '_' + IOTSrc['Name'] + '_' + IOTSrc['Type'] + '_' + (dtBase + timedelta(days=day)).strftime('%Y_%m_%d') + '_docs.json', 'w') as jf:\n",
    "            for d in docs:\n",
    "                json.dump(d, jf)\n",
    "                #jf.write('\\n')"
   ]
  },
  {
   "cell_type": "code",
   "execution_count": 11,
   "metadata": {},
   "outputs": [
    {
     "name": "stdout",
     "output_type": "stream",
     "text": [
      "Average RU charge: 876.3362739726043\n"
     ]
    }
   ],
   "source": [
    "print('Average RU charge: ' + str(sum(RUCharges) / len(RUCharges)))"
   ]
  },
  {
   "cell_type": "markdown",
   "metadata": {},
   "source": [
    "### Checking the result\n",
    "Executing the following querin in Data Explorer will confirm data load was properly executed...\n",
    "\n",
    "SELECT SUBSTRING(c.PartitionKey, 0, 23) AS PK, COUNT(c.id) AS Total <br>\n",
    "FROM c <br>\n",
    "GROUP BY SUBSTRING(c.PartitionKey, 0, 23) <br>\n",
    "\n",
    "Example output:\n",
    "<br>\n",
    "<br>\n",
    "    {<br>\n",
    "        \"PK\": \"vulT_488002475746_Type6\",<br>\n",
    "        \"Total\": 365<br>\n",
    "    },<br>\n",
    "    {<br>\n",
    "        \"PK\": \"lraA_973264882039_Type3\",<br>\n",
    "        \"Total\": 30<br>\n",
    "    },<br>\n",
    "    {<br>\n",
    "        \"PK\": \"fYuo_086671929026_Type3\",<br>\n",
    "        \"Total\": 365<br>\n",
    "    },<br>\n",
    "    {<br>\n",
    "        \"PK\": \"XkZk_119381357891_Type5\",<br>\n",
    "        \"Total\": 30<br>\n",
    "    }<br>\n",
    "\n"
   ]
  },
  {
   "cell_type": "markdown",
   "metadata": {},
   "source": [
    "### Query cost\n",
    "- [Check IOTReadingsv2_CSharp.dib](./IOTReadingsv2_CSharp.dib)"
   ]
  },
  {
   "cell_type": "markdown",
   "metadata": {},
   "source": [
    "### Clean up\n",
    "- Files in the Output folder\n",
    "- NOT deleting containers, as those can be reused\n",
    "  - For document deletion with TTL, referer to [PrepareContainers.ipynb](./PrepareContainers.ipynb)"
   ]
  },
  {
   "cell_type": "code",
   "execution_count": 12,
   "metadata": {},
   "outputs": [],
   "source": [
    "# Assume objects are instantiated\n",
    "# db.delete_container(containerName)\n",
    "\n",
    "import glob\n",
    "\n",
    "files = glob.glob('.\\OutputFiles\\*')\n",
    "for f in files:\n",
    "    os.remove(f)"
   ]
  }
 ],
 "metadata": {
  "kernelspec": {
   "display_name": "Python 3.11.0 64-bit",
   "language": "python",
   "name": "python3"
  },
  "language_info": {
   "codemirror_mode": {
    "name": "ipython",
    "version": 3
   },
   "file_extension": ".py",
   "mimetype": "text/x-python",
   "name": "python",
   "nbconvert_exporter": "python",
   "pygments_lexer": "ipython3",
   "version": "3.11.0 (main, Oct 24 2022, 18:26:48) [MSC v.1933 64 bit (AMD64)]"
  },
  "orig_nbformat": 4,
  "vscode": {
   "interpreter": {
    "hash": "abe1e7399a09fa18af0ebf095038136f90b871e79c5a23ead6acfab615a0c0e3"
   }
  }
 },
 "nbformat": 4,
 "nbformat_minor": 2
}
